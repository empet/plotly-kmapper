{
 "cells": [
  {
   "cell_type": "code",
   "execution_count": 19,
   "metadata": {},
   "outputs": [],
   "source": [
    "import numpy as np\n",
    "import sklearn\n",
    "import kmapper as km\n",
    "#from kmapper.plotlyviz import *\n",
    "from plotviz import *\n",
    "import plotly.graph_objs as go\n",
    "import ipywidgets as ipw"
   ]
  },
  {
   "cell_type": "code",
   "execution_count": 20,
   "metadata": {},
   "outputs": [],
   "source": [
    "data = np.genfromtxt('cat-reference.csv', delimiter=',')"
   ]
  },
  {
   "cell_type": "code",
   "execution_count": 21,
   "metadata": {},
   "outputs": [],
   "source": [
    "x=np.copy(data[:, 0])\n",
    "y=np.copy(data[:, 1])\n",
    "z=np.copy(data[:,2])\n",
    "data[:, 0]=z\n",
    "data[:, 1]=x\n",
    "data[:, 2]=y"
   ]
  },
  {
   "cell_type": "code",
   "execution_count": 22,
   "metadata": {},
   "outputs": [
    {
     "data": {
      "application/vnd.jupyter.widget-view+json": {
       "model_id": "19f55e38e1284f4ebef3f3eb259bd774",
       "version_major": 2,
       "version_minor": 0
      },
      "text/plain": [
       "FigureWidget({\n",
       "    'data': [{'marker': {'color': 'grey', 'size': 1.5},\n",
       "              'mode': 'markers',\n",
       "      …"
      ]
     },
     "metadata": {},
     "output_type": "display_data"
    }
   ],
   "source": [
    "axis = dict(\n",
    "showbackground=True, \n",
    "backgroundcolor=\"rgb(230, 230,230)\",\n",
    "gridcolor=\"rgb(255, 255, 255)\",      \n",
    "zerolinecolor=\"rgb(255, 255, 255)\",  \n",
    "    )\n",
    "trace_cat=dict(type='scatter3d',\n",
    "              x=data[:,0],\n",
    "              y=data[:,1],\n",
    "              z=data[:,2],\n",
    "              mode='markers',\n",
    "              marker=dict(color='grey', size=1.5)\n",
    "              )\n",
    "cat_layout=layout=dict(width=600, height=600, autosize=False,\n",
    "                      title='Cat',\n",
    "                       scene=dict(xaxis=axis,\n",
    "                                  yaxis=axis, \n",
    "                                  zaxis=axis, \n",
    "                                  \n",
    "                                  aspectratio=dict(x=1.25,\n",
    "                                                   y=0.4, \n",
    "                                                   z=0.8\n",
    "                                     )),\n",
    "                       margin=dict(r=10, b=10)\n",
    "                      )\n",
    "fwcat=go.FigureWidget(data=[trace_cat], layout=cat_layout)  \n",
    "fwcat"
   ]
  },
  {
   "cell_type": "code",
   "execution_count": 23,
   "metadata": {},
   "outputs": [],
   "source": [
    "pl_matter=[[0.0, 'rgb(253, 237, 176)'],\n",
    " [0.1, 'rgb(250, 202, 143)'],\n",
    " [0.2, 'rgb(245, 166, 114)'],\n",
    " [0.3, 'rgb(238, 132, 93)'],\n",
    " [0.4, 'rgb(226, 97, 82)'],\n",
    " [0.5, 'rgb(206, 67, 86)'],\n",
    " [0.6, 'rgb(179, 46, 94)'],\n",
    " [0.7, 'rgb(147, 31, 99)'],\n",
    " [0.8, 'rgb(114, 25, 95)'],\n",
    " [0.9, 'rgb(79, 21, 82)'],\n",
    " [1.0, 'rgb(47, 15, 61)']]\n"
   ]
  },
  {
   "cell_type": "code",
   "execution_count": 24,
   "metadata": {},
   "outputs": [],
   "source": [
    "mapper = km.KeplerMapper(verbose=0)\n",
    "\n",
    "lens = mapper.fit_transform(data)\n",
    "\n",
    "scomplex = mapper.map(lens,\n",
    "                   data,\n",
    "                   clusterer=sklearn.cluster.DBSCAN(eps=0.1, min_samples=5),\n",
    "                   coverer=km.Cover(nr_cubes=15, overlap_perc=0.2))\n",
    "\n",
    "#the following functions are defined in plotlyviz\n",
    "kmgraph,  mapper_summary, n_color_distribution = mapper_graph_dict_and_info(scomplex, colorscale=pl_matter,\n",
    "                                                                  color_function=None)\n",
    "annotation=get_kmgraph_meta(mapper_summary)"
   ]
  },
  {
   "cell_type": "code",
   "execution_count": 25,
   "metadata": {},
   "outputs": [],
   "source": [
    "plgraph_data=plotly_graph(kmgraph, graph_layout='kk', colorscale=pl_matter,  \n",
    "                                  factor_size=3, edge_linewidth=1.5, node_linewidth=0.5, node_linecolor='rgb(200,200,200)')\n",
    "title='Topological network associated to<br> the cat dataset'\n",
    "layout=plot_layout(title=title,  width=600, height=500, annotation_text=annotation,\n",
    "                      bgcolor='rgba(240, 240, 240, 0.95)',  left=10, bottom=35)\n",
    "\n",
    "fw=go.FigureWidget(data=plgraph_data, layout=layout)\n",
    "f_hist=get_node_hist(n_color_distribution,  height=300)\n",
    "f_summary=get_summary_fig(mapper_summary,  height=300) \n",
    "dashboard=hovering_widgets(kmgraph, fw, textbox2_width=800)"
   ]
  },
  {
   "cell_type": "code",
   "execution_count": 26,
   "metadata": {},
   "outputs": [
    {
     "data": {
      "application/vnd.jupyter.widget-view+json": {
       "model_id": "eec79e6403f64aad94b1836fed286ad4",
       "version_major": 2,
       "version_minor": 0
      },
      "text/plain": [
       "VBox(children=(FigureWidget({\n",
       "    'data': [{'hoverinfo': 'none',\n",
       "              'line': {'color': 'rgb(200,200,…"
      ]
     },
     "metadata": {},
     "output_type": "display_data"
    }
   ],
   "source": [
    "ipw.VBox([fw, ipw.HBox([f_summary, f_hist])])"
   ]
  },
  {
   "cell_type": "code",
   "execution_count": 27,
   "metadata": {},
   "outputs": [
    {
     "data": {
      "application/vnd.jupyter.widget-view+json": {
       "model_id": "c61a33889f90403ebbe1a10f1f40affa",
       "version_major": 2,
       "version_minor": 0
      },
      "text/plain": [
       "VBox(children=(HBox(children=(FigureWidget({\n",
       "    'data': [{'hoverinfo': 'none',\n",
       "              'line': {'color'…"
      ]
     },
     "metadata": {},
     "output_type": "display_data"
    }
   ],
   "source": [
    "dashboard"
   ]
  },
  {
   "cell_type": "code",
   "execution_count": null,
   "metadata": {},
   "outputs": [],
   "source": []
  },
  {
   "cell_type": "code",
   "execution_count": null,
   "metadata": {},
   "outputs": [],
   "source": []
  }
 ],
 "metadata": {
  "kernelspec": {
   "display_name": "Python 3",
   "language": "python",
   "name": "python3"
  },
  "language_info": {
   "codemirror_mode": {
    "name": "ipython",
    "version": 3
   },
   "file_extension": ".py",
   "mimetype": "text/x-python",
   "name": "python",
   "nbconvert_exporter": "python",
   "pygments_lexer": "ipython3",
   "version": "3.6.4"
  }
 },
 "nbformat": 4,
 "nbformat_minor": 2
}
