{
 "cells": [
  {
   "cell_type": "markdown",
   "metadata": {},
   "source": [
    "## <center> Kmapper download stats. November, 2018 </center> ##"
   ]
  },
  {
   "cell_type": "code",
   "execution_count": 1,
   "metadata": {},
   "outputs": [],
   "source": [
    "import pandas as pd\n",
    "import numpy as np\n",
    "import plotly.graph_objs as go"
   ]
  },
  {
   "cell_type": "code",
   "execution_count": 2,
   "metadata": {},
   "outputs": [
    {
     "data": {
      "text/html": [
       "<div>\n",
       "<style scoped>\n",
       "    .dataframe tbody tr th:only-of-type {\n",
       "        vertical-align: middle;\n",
       "    }\n",
       "\n",
       "    .dataframe tbody tr th {\n",
       "        vertical-align: top;\n",
       "    }\n",
       "\n",
       "    .dataframe thead th {\n",
       "        text-align: right;\n",
       "    }\n",
       "</style>\n",
       "<table border=\"1\" class=\"dataframe\">\n",
       "  <thead>\n",
       "    <tr style=\"text-align: right;\">\n",
       "      <th></th>\n",
       "      <th>Date</th>\n",
       "      <th>Downloads</th>\n",
       "    </tr>\n",
       "  </thead>\n",
       "  <tbody>\n",
       "    <tr>\n",
       "      <th>0</th>\n",
       "      <td>2018-11-30</td>\n",
       "      <td>19</td>\n",
       "    </tr>\n",
       "    <tr>\n",
       "      <th>1</th>\n",
       "      <td>2018-11-29</td>\n",
       "      <td>47</td>\n",
       "    </tr>\n",
       "    <tr>\n",
       "      <th>2</th>\n",
       "      <td>2018-11-28</td>\n",
       "      <td>74</td>\n",
       "    </tr>\n",
       "    <tr>\n",
       "      <th>3</th>\n",
       "      <td>2018-11-27</td>\n",
       "      <td>32</td>\n",
       "    </tr>\n",
       "    <tr>\n",
       "      <th>4</th>\n",
       "      <td>2018-11-26</td>\n",
       "      <td>24</td>\n",
       "    </tr>\n",
       "  </tbody>\n",
       "</table>\n",
       "</div>"
      ],
      "text/plain": [
       "         Date  Downloads\n",
       "0  2018-11-30         19\n",
       "1  2018-11-29         47\n",
       "2  2018-11-28         74\n",
       "3  2018-11-27         32\n",
       "4  2018-11-26         24"
      ]
     },
     "execution_count": 2,
     "metadata": {},
     "output_type": "execute_result"
    }
   ],
   "source": [
    "url = 'https://pepy.tech/project/kmapper'\n",
    "dfs = pd.read_html(url)\n",
    "df = dfs[1]\n",
    "df.head()"
   ]
  },
  {
   "cell_type": "code",
   "execution_count": 3,
   "metadata": {},
   "outputs": [
    {
     "data": {
      "text/plain": [
       "Index(['Date', 'Downloads'], dtype='object')"
      ]
     },
     "execution_count": 3,
     "metadata": {},
     "output_type": "execute_result"
    }
   ],
   "source": [
    "df.columns"
   ]
  },
  {
   "cell_type": "code",
   "execution_count": 4,
   "metadata": {},
   "outputs": [
    {
     "data": {
      "text/html": [
       "<div>\n",
       "<style scoped>\n",
       "    .dataframe tbody tr th:only-of-type {\n",
       "        vertical-align: middle;\n",
       "    }\n",
       "\n",
       "    .dataframe tbody tr th {\n",
       "        vertical-align: top;\n",
       "    }\n",
       "\n",
       "    .dataframe thead th {\n",
       "        text-align: right;\n",
       "    }\n",
       "</style>\n",
       "<table border=\"1\" class=\"dataframe\">\n",
       "  <thead>\n",
       "    <tr style=\"text-align: right;\">\n",
       "      <th></th>\n",
       "      <th>Date</th>\n",
       "      <th>Downloads</th>\n",
       "    </tr>\n",
       "  </thead>\n",
       "  <tbody>\n",
       "    <tr>\n",
       "      <th>29</th>\n",
       "      <td>2018-11-01</td>\n",
       "      <td>46</td>\n",
       "    </tr>\n",
       "    <tr>\n",
       "      <th>28</th>\n",
       "      <td>2018-11-02</td>\n",
       "      <td>24</td>\n",
       "    </tr>\n",
       "    <tr>\n",
       "      <th>27</th>\n",
       "      <td>2018-11-03</td>\n",
       "      <td>25</td>\n",
       "    </tr>\n",
       "    <tr>\n",
       "      <th>26</th>\n",
       "      <td>2018-11-04</td>\n",
       "      <td>16</td>\n",
       "    </tr>\n",
       "    <tr>\n",
       "      <th>25</th>\n",
       "      <td>2018-11-05</td>\n",
       "      <td>32</td>\n",
       "    </tr>\n",
       "    <tr>\n",
       "      <th>24</th>\n",
       "      <td>2018-11-06</td>\n",
       "      <td>11</td>\n",
       "    </tr>\n",
       "    <tr>\n",
       "      <th>23</th>\n",
       "      <td>2018-11-07</td>\n",
       "      <td>39</td>\n",
       "    </tr>\n",
       "    <tr>\n",
       "      <th>22</th>\n",
       "      <td>2018-11-08</td>\n",
       "      <td>211</td>\n",
       "    </tr>\n",
       "    <tr>\n",
       "      <th>21</th>\n",
       "      <td>2018-11-09</td>\n",
       "      <td>163</td>\n",
       "    </tr>\n",
       "    <tr>\n",
       "      <th>20</th>\n",
       "      <td>2018-11-10</td>\n",
       "      <td>62</td>\n",
       "    </tr>\n",
       "    <tr>\n",
       "      <th>19</th>\n",
       "      <td>2018-11-11</td>\n",
       "      <td>35</td>\n",
       "    </tr>\n",
       "    <tr>\n",
       "      <th>18</th>\n",
       "      <td>2018-11-12</td>\n",
       "      <td>46</td>\n",
       "    </tr>\n",
       "    <tr>\n",
       "      <th>17</th>\n",
       "      <td>2018-11-13</td>\n",
       "      <td>24</td>\n",
       "    </tr>\n",
       "    <tr>\n",
       "      <th>16</th>\n",
       "      <td>2018-11-14</td>\n",
       "      <td>51</td>\n",
       "    </tr>\n",
       "    <tr>\n",
       "      <th>15</th>\n",
       "      <td>2018-11-15</td>\n",
       "      <td>51</td>\n",
       "    </tr>\n",
       "    <tr>\n",
       "      <th>14</th>\n",
       "      <td>2018-11-16</td>\n",
       "      <td>32</td>\n",
       "    </tr>\n",
       "    <tr>\n",
       "      <th>13</th>\n",
       "      <td>2018-11-17</td>\n",
       "      <td>28</td>\n",
       "    </tr>\n",
       "    <tr>\n",
       "      <th>12</th>\n",
       "      <td>2018-11-18</td>\n",
       "      <td>22</td>\n",
       "    </tr>\n",
       "    <tr>\n",
       "      <th>11</th>\n",
       "      <td>2018-11-19</td>\n",
       "      <td>21</td>\n",
       "    </tr>\n",
       "    <tr>\n",
       "      <th>10</th>\n",
       "      <td>2018-11-20</td>\n",
       "      <td>21</td>\n",
       "    </tr>\n",
       "    <tr>\n",
       "      <th>9</th>\n",
       "      <td>2018-11-21</td>\n",
       "      <td>10</td>\n",
       "    </tr>\n",
       "    <tr>\n",
       "      <th>8</th>\n",
       "      <td>2018-11-22</td>\n",
       "      <td>32</td>\n",
       "    </tr>\n",
       "    <tr>\n",
       "      <th>7</th>\n",
       "      <td>2018-11-23</td>\n",
       "      <td>8</td>\n",
       "    </tr>\n",
       "    <tr>\n",
       "      <th>6</th>\n",
       "      <td>2018-11-24</td>\n",
       "      <td>15</td>\n",
       "    </tr>\n",
       "    <tr>\n",
       "      <th>5</th>\n",
       "      <td>2018-11-25</td>\n",
       "      <td>22</td>\n",
       "    </tr>\n",
       "    <tr>\n",
       "      <th>4</th>\n",
       "      <td>2018-11-26</td>\n",
       "      <td>24</td>\n",
       "    </tr>\n",
       "    <tr>\n",
       "      <th>3</th>\n",
       "      <td>2018-11-27</td>\n",
       "      <td>32</td>\n",
       "    </tr>\n",
       "    <tr>\n",
       "      <th>2</th>\n",
       "      <td>2018-11-28</td>\n",
       "      <td>74</td>\n",
       "    </tr>\n",
       "    <tr>\n",
       "      <th>1</th>\n",
       "      <td>2018-11-29</td>\n",
       "      <td>47</td>\n",
       "    </tr>\n",
       "    <tr>\n",
       "      <th>0</th>\n",
       "      <td>2018-11-30</td>\n",
       "      <td>19</td>\n",
       "    </tr>\n",
       "  </tbody>\n",
       "</table>\n",
       "</div>"
      ],
      "text/plain": [
       "          Date  Downloads\n",
       "29  2018-11-01         46\n",
       "28  2018-11-02         24\n",
       "27  2018-11-03         25\n",
       "26  2018-11-04         16\n",
       "25  2018-11-05         32\n",
       "24  2018-11-06         11\n",
       "23  2018-11-07         39\n",
       "22  2018-11-08        211\n",
       "21  2018-11-09        163\n",
       "20  2018-11-10         62\n",
       "19  2018-11-11         35\n",
       "18  2018-11-12         46\n",
       "17  2018-11-13         24\n",
       "16  2018-11-14         51\n",
       "15  2018-11-15         51\n",
       "14  2018-11-16         32\n",
       "13  2018-11-17         28\n",
       "12  2018-11-18         22\n",
       "11  2018-11-19         21\n",
       "10  2018-11-20         21\n",
       "9   2018-11-21         10\n",
       "8   2018-11-22         32\n",
       "7   2018-11-23          8\n",
       "6   2018-11-24         15\n",
       "5   2018-11-25         22\n",
       "4   2018-11-26         24\n",
       "3   2018-11-27         32\n",
       "2   2018-11-28         74\n",
       "1   2018-11-29         47\n",
       "0   2018-11-30         19"
      ]
     },
     "execution_count": 4,
     "metadata": {},
     "output_type": "execute_result"
    }
   ],
   "source": [
    "dfr=df.iloc[::-1]\n",
    "dfr"
   ]
  },
  {
   "cell_type": "code",
   "execution_count": 5,
   "metadata": {},
   "outputs": [
    {
     "data": {
      "application/vnd.jupyter.widget-view+json": {
       "model_id": "c2a922100fd843828f9875231c53de48",
       "version_major": 2,
       "version_minor": 0
      },
      "text/plain": [
       "FigureWidget({\n",
       "    'data': [{'marker': {'color': '#C0223B', 'line': {'color': '#FFB880', 'width': 1}},\n",
       "       …"
      ]
     },
     "metadata": {},
     "output_type": "display_data"
    }
   ],
   "source": [
    "tr = go.Bar(\n",
    "       x=dfr.Date,\n",
    "       y=dfr.Downloads,\n",
    "       marker=dict(color='#C0223B',\n",
    "                   line=dict(width=1, color='#FFB880')))\n",
    "\n",
    "title = \"Kmapper download stats<a href='https://pepy.tech/project/kmapper'> [1] </a>\"+\\\n",
    "        \"<br> November, 2018\"\n",
    "\n",
    "layout = dict(title=title,\n",
    "              font=dict(family='Balto', size=16),\n",
    "              width=800,\n",
    "              height=500,\n",
    "              bargap=0.01,\n",
    "              xaxis=dict(ticklen=4),\n",
    "              yaxis=dict(gridcolor='white', ticklen=4),\n",
    "              plot_bgcolor='#EBF0F8',\n",
    "              annotations=[dict(x=0,\n",
    "                                y=-0.25,\n",
    "                                xref='paper',\n",
    "                                yref='paper',\n",
    "                                text='Total downloads - 30 days: 1243.  Total downloads 6476',\n",
    "                                showarrow=False,\n",
    "                                font = dict(\n",
    "                                color = \"black\",\n",
    "                                size = 16))])\n",
    "\n",
    "fw = go.FigureWidget(data=[tr], layout=layout)\n",
    "fw"
   ]
  },
  {
   "cell_type": "code",
   "execution_count": null,
   "metadata": {},
   "outputs": [],
   "source": []
  }
 ],
 "metadata": {
  "kernelspec": {
   "display_name": "Python 3",
   "language": "python",
   "name": "python3"
  },
  "language_info": {
   "codemirror_mode": {
    "name": "ipython",
    "version": 3
   },
   "file_extension": ".py",
   "mimetype": "text/x-python",
   "name": "python",
   "nbconvert_exporter": "python",
   "pygments_lexer": "ipython3",
   "version": "3.6.4"
  },
  "widgets": {
   "application/vnd.jupyter.widget-state+json": {
    "state": {
     "0855d666ecf74ee697d48f6729f5df64": {
      "model_module": "plotlywidget",
      "model_module_version": "^0.5.0",
      "model_name": "FigureModel",
      "state": {
       "_data": [
        {
         "marker": {
          "color": "#C0223B",
          "line": {
           "color": "#FFB880",
           "width": 1
          }
         },
         "type": "bar",
         "uid": "d2981dc9-5eb9-4d9f-8d38-a2aeb8a8b515",
         "x": [
          "2018-11-01",
          "2018-11-02",
          "2018-11-03",
          "2018-11-04",
          "2018-11-05",
          "2018-11-06",
          "2018-11-07",
          "2018-11-08",
          "2018-11-09",
          "2018-11-10",
          "2018-11-11",
          "2018-11-12",
          "2018-11-13",
          "2018-11-14",
          "2018-11-15",
          "2018-11-16",
          "2018-11-17",
          "2018-11-18",
          "2018-11-19",
          "2018-11-20",
          "2018-11-21",
          "2018-11-22",
          "2018-11-23",
          "2018-11-24",
          "2018-11-25",
          "2018-11-26",
          "2018-11-27",
          "2018-11-28",
          "2018-11-29",
          "2018-11-30"
         ],
         "y": [
          46,
          24,
          25,
          16,
          32,
          11,
          39,
          211,
          163,
          62,
          35,
          46,
          24,
          51,
          51,
          32,
          28,
          22,
          21,
          21,
          10,
          32,
          8,
          15,
          22,
          24,
          32,
          74,
          47,
          19
         ]
        }
       ],
       "_js2py_relayout": {},
       "_js2py_restyle": {},
       "_js2py_update": {},
       "_layout": {
        "annotations": [
         {
          "font": {
           "color": "black",
           "size": 14
          },
          "showarrow": false,
          "text": "Total downloads - 30 days: 1243.  Total downloads 6476",
          "x": 0,
          "xref": "paper",
          "y": -0.25,
          "yref": "paper"
         }
        ],
        "bargap": 0.01,
        "font": {
         "family": "Balto",
         "size": 16
        },
        "height": 500,
        "plot_bgcolor": "#F3F6FA",
        "template": {},
        "title": "Kmapper downloads stats<a href='https://pepy.tech/project/kmapper'> [1] </a><br> November, 2018",
        "width": 800,
        "xaxis": {
         "ticklen": 4
        },
        "yaxis": {
         "gridcolor": "white"
        }
       },
       "_py2js_addTraces": {},
       "_py2js_animate": {},
       "_py2js_deleteTraces": {},
       "_py2js_moveTraces": {},
       "_py2js_removeLayoutProps": {},
       "_py2js_removeTraceProps": {},
       "_py2js_restyle": {},
       "_py2js_update": {},
       "_view_count": 0
      }
     },
     "093e5318f5874cfeaef1c207e3af00a4": {
      "model_module": "plotlywidget",
      "model_module_version": "^0.5.0",
      "model_name": "FigureModel",
      "state": {
       "_data": [
        {
         "marker": {
          "color": "#C0223B",
          "line": {
           "color": "#FFB880",
           "width": 1
          }
         },
         "type": "bar",
         "uid": "528366e9-9e3c-4124-9cfe-6b8fc4a72272",
         "x": [
          "2018-11-01",
          "2018-11-02",
          "2018-11-03",
          "2018-11-04",
          "2018-11-05",
          "2018-11-06",
          "2018-11-07",
          "2018-11-08",
          "2018-11-09",
          "2018-11-10",
          "2018-11-11",
          "2018-11-12",
          "2018-11-13",
          "2018-11-14",
          "2018-11-15",
          "2018-11-16",
          "2018-11-17",
          "2018-11-18",
          "2018-11-19",
          "2018-11-20",
          "2018-11-21",
          "2018-11-22",
          "2018-11-23",
          "2018-11-24",
          "2018-11-25",
          "2018-11-26",
          "2018-11-27",
          "2018-11-28",
          "2018-11-29",
          "2018-11-30"
         ],
         "y": [
          46,
          24,
          25,
          16,
          32,
          11,
          39,
          211,
          163,
          62,
          35,
          46,
          24,
          51,
          51,
          32,
          28,
          22,
          21,
          21,
          10,
          32,
          8,
          15,
          22,
          24,
          32,
          74,
          47,
          19
         ]
        }
       ],
       "_js2py_pointsCallback": {},
       "_js2py_relayout": {},
       "_js2py_restyle": {},
       "_js2py_update": {},
       "_layout": {
        "annotations": [
         {
          "showarrow": false,
          "text": "Total downloads - 30 days: 1243<br>Total downloads 6476",
          "x": 0,
          "xref": "paper",
          "y": -0.015,
          "yref": "paper"
         }
        ],
        "bargap": 0.01,
        "font": {
         "family": "Balto"
        },
        "height": 500,
        "template": {},
        "title": "Kmapper downloads in November, 2018",
        "width": 800,
        "xaxis": {
         "ticklen": 4
        }
       },
       "_py2js_addTraces": {},
       "_py2js_animate": {},
       "_py2js_deleteTraces": {},
       "_py2js_moveTraces": {},
       "_py2js_removeLayoutProps": {},
       "_py2js_removeTraceProps": {},
       "_py2js_restyle": {},
       "_py2js_update": {},
       "_view_count": 0
      }
     },
     "2094e05746ba4a42932d8ffd8a2c9dd6": {
      "model_module": "plotlywidget",
      "model_module_version": "^0.5.0",
      "model_name": "FigureModel",
      "state": {
       "_data": [
        {
         "marker": {
          "color": "#C0223B",
          "line": {
           "color": "#FFB880",
           "width": 1
          }
         },
         "type": "bar",
         "uid": "7222f744-e185-4b97-8450-bcccf007d358",
         "x": [
          "2018-11-01",
          "2018-11-02",
          "2018-11-03",
          "2018-11-04",
          "2018-11-05",
          "2018-11-06",
          "2018-11-07",
          "2018-11-08",
          "2018-11-09",
          "2018-11-10",
          "2018-11-11",
          "2018-11-12",
          "2018-11-13",
          "2018-11-14",
          "2018-11-15",
          "2018-11-16",
          "2018-11-17",
          "2018-11-18",
          "2018-11-19",
          "2018-11-20",
          "2018-11-21",
          "2018-11-22",
          "2018-11-23",
          "2018-11-24",
          "2018-11-25",
          "2018-11-26",
          "2018-11-27",
          "2018-11-28",
          "2018-11-29",
          "2018-11-30"
         ],
         "y": [
          46,
          24,
          25,
          16,
          32,
          11,
          39,
          211,
          163,
          62,
          35,
          46,
          24,
          51,
          51,
          32,
          28,
          22,
          21,
          21,
          10,
          32,
          8,
          15,
          22,
          24,
          32,
          74,
          47,
          19
         ]
        }
       ],
       "_js2py_pointsCallback": {},
       "_js2py_relayout": {},
       "_js2py_restyle": {},
       "_js2py_update": {},
       "_layout": {
        "annotations": [
         {
          "showarrow": false,
          "text": "Total downloads - 30 days: 1243<br>Total downloads 6476",
          "x": 0,
          "xref": "paper",
          "y": -0.25,
          "yref": "paper"
         }
        ],
        "bargap": 0.01,
        "font": {
         "family": "Balto"
        },
        "height": 500,
        "template": {},
        "title": "Kmapper downloads in November, 2018",
        "width": 800,
        "xaxis": {
         "ticklen": 4
        }
       },
       "_py2js_addTraces": {},
       "_py2js_animate": {},
       "_py2js_deleteTraces": {},
       "_py2js_moveTraces": {},
       "_py2js_removeLayoutProps": {},
       "_py2js_removeTraceProps": {},
       "_py2js_restyle": {},
       "_py2js_update": {},
       "_view_count": 0
      }
     },
     "21f29383ff2647bea7c16687032d3253": {
      "model_module": "plotlywidget",
      "model_module_version": "^0.5.0",
      "model_name": "FigureModel",
      "state": {
       "_js2py_layoutDelta": {},
       "_js2py_pointsCallback": {},
       "_js2py_relayout": {},
       "_js2py_restyle": {},
       "_js2py_traceDeltas": {},
       "_js2py_update": {},
       "_py2js_addTraces": {},
       "_py2js_animate": {},
       "_py2js_deleteTraces": {},
       "_py2js_moveTraces": {},
       "_py2js_relayout": {},
       "_py2js_removeLayoutProps": {},
       "_py2js_removeTraceProps": {},
       "_py2js_restyle": {},
       "_py2js_update": {}
      }
     },
     "25945cae886349bab8fc108a9e2a0907": {
      "model_module": "plotlywidget",
      "model_module_version": "^0.5.0",
      "model_name": "FigureModel",
      "state": {
       "_data": [
        {
         "marker": {
          "color": "#C0223B",
          "line": {
           "color": "#FFB880",
           "width": 1
          }
         },
         "type": "bar",
         "uid": "460dbaad-07b9-44d1-8cc4-1c4014a0d3e9",
         "x": [
          "2018-11-01",
          "2018-11-02",
          "2018-11-03",
          "2018-11-04",
          "2018-11-05",
          "2018-11-06",
          "2018-11-07",
          "2018-11-08",
          "2018-11-09",
          "2018-11-10",
          "2018-11-11",
          "2018-11-12",
          "2018-11-13",
          "2018-11-14",
          "2018-11-15",
          "2018-11-16",
          "2018-11-17",
          "2018-11-18",
          "2018-11-19",
          "2018-11-20",
          "2018-11-21",
          "2018-11-22",
          "2018-11-23",
          "2018-11-24",
          "2018-11-25",
          "2018-11-26",
          "2018-11-27",
          "2018-11-28",
          "2018-11-29",
          "2018-11-30"
         ],
         "y": [
          46,
          24,
          25,
          16,
          32,
          11,
          39,
          211,
          163,
          62,
          35,
          46,
          24,
          51,
          51,
          32,
          28,
          22,
          21,
          21,
          10,
          32,
          8,
          15,
          22,
          24,
          32,
          74,
          47,
          19
         ]
        }
       ],
       "_js2py_relayout": {},
       "_js2py_restyle": {},
       "_js2py_update": {},
       "_layout": {
        "bargap": 0.01,
        "font": {
         "family": "Balto"
        },
        "height": 500,
        "template": {},
        "title": "Kmapper downloads in November, 2018",
        "width": 800,
        "xaxis": {
         "ticklen": 4
        }
       },
       "_py2js_addTraces": {},
       "_py2js_animate": {},
       "_py2js_deleteTraces": {},
       "_py2js_moveTraces": {},
       "_py2js_removeLayoutProps": {},
       "_py2js_removeTraceProps": {},
       "_py2js_restyle": {},
       "_py2js_update": {},
       "_view_count": 0
      }
     },
     "268a7fb0c5284c35bbe4df08dc55dac1": {
      "model_module": "plotlywidget",
      "model_module_version": "^0.5.0",
      "model_name": "FigureModel",
      "state": {
       "_data": [
        {
         "marker": {
          "color": "#C0223B",
          "line": {
           "color": "#FFB880",
           "width": 1
          }
         },
         "type": "bar",
         "uid": "2ca3430b-5042-4b6d-9573-dc0f5c935f06",
         "x": [
          "2018-11-01",
          "2018-11-02",
          "2018-11-03",
          "2018-11-04",
          "2018-11-05",
          "2018-11-06",
          "2018-11-07",
          "2018-11-08",
          "2018-11-09",
          "2018-11-10",
          "2018-11-11",
          "2018-11-12",
          "2018-11-13",
          "2018-11-14",
          "2018-11-15",
          "2018-11-16",
          "2018-11-17",
          "2018-11-18",
          "2018-11-19",
          "2018-11-20",
          "2018-11-21",
          "2018-11-22",
          "2018-11-23",
          "2018-11-24",
          "2018-11-25",
          "2018-11-26",
          "2018-11-27",
          "2018-11-28",
          "2018-11-29",
          "2018-11-30"
         ],
         "y": [
          46,
          24,
          25,
          16,
          32,
          11,
          39,
          211,
          163,
          62,
          35,
          46,
          24,
          51,
          51,
          32,
          28,
          22,
          21,
          21,
          10,
          32,
          8,
          15,
          22,
          24,
          32,
          74,
          47,
          19
         ]
        }
       ],
       "_js2py_relayout": {},
       "_js2py_restyle": {},
       "_js2py_update": {},
       "_layout": {
        "annotations": [
         {
          "font": {
           "color": "black",
           "size": 14
          },
          "showarrow": false,
          "text": "Total downloads - 30 days: 1243.  Total downloads 6476",
          "x": 0,
          "xref": "paper",
          "y": -0.25,
          "yref": "paper"
         }
        ],
        "bargap": 0.01,
        "font": {
         "family": "Balto",
         "size": 16
        },
        "height": 500,
        "plot_bgcolor": "#EBF0F8",
        "template": {},
        "title": "Kmapper downloads stats<a href='https://pepy.tech/project/kmapper'> [1] </a><br> November, 2018",
        "width": 800,
        "xaxis": {
         "ticklen": 4
        },
        "yaxis": {
         "gridcolor": "white"
        }
       },
       "_py2js_addTraces": {},
       "_py2js_animate": {},
       "_py2js_deleteTraces": {},
       "_py2js_moveTraces": {},
       "_py2js_removeLayoutProps": {},
       "_py2js_removeTraceProps": {},
       "_py2js_restyle": {},
       "_py2js_update": {},
       "_view_count": 0
      }
     },
     "3609f3f0dd9b41b28a1999264ac336a4": {
      "model_module": "plotlywidget",
      "model_module_version": "^0.5.0",
      "model_name": "FigureModel",
      "state": {
       "_data": [
        {
         "marker": {
          "color": "#C0223B",
          "line": {
           "color": "#FFB880",
           "width": 1
          }
         },
         "type": "bar",
         "uid": "ef6c5c93-d237-4d01-9a7c-caef521cf9ae",
         "x": [
          "2018-11-01",
          "2018-11-02",
          "2018-11-03",
          "2018-11-04",
          "2018-11-05",
          "2018-11-06",
          "2018-11-07",
          "2018-11-08",
          "2018-11-09",
          "2018-11-10",
          "2018-11-11",
          "2018-11-12",
          "2018-11-13",
          "2018-11-14",
          "2018-11-15",
          "2018-11-16",
          "2018-11-17",
          "2018-11-18",
          "2018-11-19",
          "2018-11-20",
          "2018-11-21",
          "2018-11-22",
          "2018-11-23",
          "2018-11-24",
          "2018-11-25",
          "2018-11-26",
          "2018-11-27",
          "2018-11-28",
          "2018-11-29",
          "2018-11-30"
         ],
         "y": [
          46,
          24,
          25,
          16,
          32,
          11,
          39,
          211,
          163,
          62,
          35,
          46,
          24,
          51,
          51,
          32,
          28,
          22,
          21,
          21,
          10,
          32,
          8,
          15,
          22,
          24,
          32,
          74,
          47,
          19
         ]
        }
       ],
       "_js2py_relayout": {},
       "_js2py_restyle": {},
       "_js2py_update": {},
       "_layout": {
        "bargap": 0.01,
        "height": 500,
        "template": {},
        "title": "Kmapper downloads in November, 2018",
        "width": 800,
        "xaxis": {
         "ticklen": 4
        }
       },
       "_py2js_addTraces": {},
       "_py2js_animate": {},
       "_py2js_deleteTraces": {},
       "_py2js_moveTraces": {},
       "_py2js_removeLayoutProps": {},
       "_py2js_removeTraceProps": {},
       "_py2js_restyle": {},
       "_py2js_update": {},
       "_view_count": 0
      }
     },
     "3b23014c8c4a4d2ebbf86da7a7fe0d20": {
      "model_module": "plotlywidget",
      "model_module_version": "^0.5.0",
      "model_name": "FigureModel",
      "state": {
       "_data": [
        {
         "marker": {
          "color": "#C0223B",
          "line": {
           "color": "#FFB880",
           "width": 1
          }
         },
         "type": "bar",
         "uid": "c980a4ab-2381-4d94-b455-2bedcc69a67c",
         "x": [
          "2018-11-01",
          "2018-11-02",
          "2018-11-03",
          "2018-11-04",
          "2018-11-05",
          "2018-11-06",
          "2018-11-07",
          "2018-11-08",
          "2018-11-09",
          "2018-11-10",
          "2018-11-11",
          "2018-11-12",
          "2018-11-13",
          "2018-11-14",
          "2018-11-15",
          "2018-11-16",
          "2018-11-17",
          "2018-11-18",
          "2018-11-19",
          "2018-11-20",
          "2018-11-21",
          "2018-11-22",
          "2018-11-23",
          "2018-11-24",
          "2018-11-25",
          "2018-11-26",
          "2018-11-27",
          "2018-11-28",
          "2018-11-29",
          "2018-11-30"
         ],
         "y": [
          46,
          24,
          25,
          16,
          32,
          11,
          39,
          211,
          163,
          62,
          35,
          46,
          24,
          51,
          51,
          32,
          28,
          22,
          21,
          21,
          10,
          32,
          8,
          15,
          22,
          24,
          32,
          74,
          47,
          19
         ]
        }
       ],
       "_js2py_relayout": {},
       "_js2py_restyle": {},
       "_js2py_update": {},
       "_layout": {
        "annotations": [
         {
          "font": {
           "color": "black",
           "size": 14
          },
          "showarrow": false,
          "text": "Total downloads - 30 days: 1243.  Total downloads 6476",
          "x": 0,
          "xref": "paper",
          "y": -0.25,
          "yref": "paper"
         }
        ],
        "bargap": 0.01,
        "font": {
         "family": "Balto",
         "size": 16
        },
        "height": 500,
        "template": {},
        "title": "Kmapper downloads stats<br> November, 2018",
        "width": 800,
        "xaxis": {
         "ticklen": 4
        }
       },
       "_py2js_addTraces": {},
       "_py2js_animate": {},
       "_py2js_deleteTraces": {},
       "_py2js_moveTraces": {},
       "_py2js_removeLayoutProps": {},
       "_py2js_removeTraceProps": {},
       "_py2js_restyle": {},
       "_py2js_update": {},
       "_view_count": 0
      }
     },
     "442b86b441444e9ab76f5ba15db04927": {
      "model_module": "plotlywidget",
      "model_module_version": "^0.5.0",
      "model_name": "FigureModel",
      "state": {
       "_data": [
        {
         "marker": {
          "color": "#C0223B",
          "line": {
           "color": "#FFB880",
           "width": 1
          }
         },
         "type": "bar",
         "uid": "2cb06eae-08a3-4f5e-8b6e-6c9d2bdaecb4",
         "x": [
          "2018-11-01",
          "2018-11-02",
          "2018-11-03",
          "2018-11-04",
          "2018-11-05",
          "2018-11-06",
          "2018-11-07",
          "2018-11-08",
          "2018-11-09",
          "2018-11-10",
          "2018-11-11",
          "2018-11-12",
          "2018-11-13",
          "2018-11-14",
          "2018-11-15",
          "2018-11-16",
          "2018-11-17",
          "2018-11-18",
          "2018-11-19",
          "2018-11-20",
          "2018-11-21",
          "2018-11-22",
          "2018-11-23",
          "2018-11-24",
          "2018-11-25",
          "2018-11-26",
          "2018-11-27",
          "2018-11-28",
          "2018-11-29",
          "2018-11-30"
         ],
         "y": [
          46,
          24,
          25,
          16,
          32,
          11,
          39,
          211,
          163,
          62,
          35,
          46,
          24,
          51,
          51,
          32,
          28,
          22,
          21,
          21,
          10,
          32,
          8,
          15,
          22,
          24,
          32,
          74,
          47,
          19
         ]
        }
       ],
       "_js2py_pointsCallback": {},
       "_js2py_relayout": {},
       "_js2py_restyle": {},
       "_js2py_update": {},
       "_layout": {
        "bargap": 0.01,
        "height": 500,
        "template": {},
        "title": "Kmapper downloads in November, 2018",
        "width": 800
       },
       "_py2js_addTraces": {},
       "_py2js_animate": {},
       "_py2js_deleteTraces": {},
       "_py2js_moveTraces": {},
       "_py2js_removeLayoutProps": {},
       "_py2js_removeTraceProps": {},
       "_py2js_restyle": {},
       "_py2js_update": {},
       "_view_count": 0
      }
     },
     "526eef9aafe542cebcec21e743eee399": {
      "model_module": "plotlywidget",
      "model_module_version": "^0.5.0",
      "model_name": "FigureModel",
      "state": {
       "_data": [
        {
         "marker": {
          "color": "#C0223B",
          "line": {
           "color": "#FFB880",
           "width": 1
          }
         },
         "type": "bar",
         "uid": "fe29435d-eaf7-4c19-b765-ad96d33e8150",
         "x": [
          "2018-11-01",
          "2018-11-02",
          "2018-11-03",
          "2018-11-04",
          "2018-11-05",
          "2018-11-06",
          "2018-11-07",
          "2018-11-08",
          "2018-11-09",
          "2018-11-10",
          "2018-11-11",
          "2018-11-12",
          "2018-11-13",
          "2018-11-14",
          "2018-11-15",
          "2018-11-16",
          "2018-11-17",
          "2018-11-18",
          "2018-11-19",
          "2018-11-20",
          "2018-11-21",
          "2018-11-22",
          "2018-11-23",
          "2018-11-24",
          "2018-11-25",
          "2018-11-26",
          "2018-11-27",
          "2018-11-28",
          "2018-11-29",
          "2018-11-30"
         ],
         "y": [
          46,
          24,
          25,
          16,
          32,
          11,
          39,
          211,
          163,
          62,
          35,
          46,
          24,
          51,
          51,
          32,
          28,
          22,
          21,
          21,
          10,
          32,
          8,
          15,
          22,
          24,
          32,
          74,
          47,
          19
         ]
        }
       ],
       "_js2py_relayout": {},
       "_js2py_restyle": {},
       "_js2py_update": {},
       "_layout": {
        "annotations": [
         {
          "showarrow": false,
          "text": "Total downloads - 30 days: 1243<br>Total downloads 6476",
          "x": 0,
          "xref": "paper",
          "y": -0.25,
          "yref": "paper"
         }
        ],
        "bargap": 0.01,
        "font": {
         "family": "Balto",
         "size": 16
        },
        "height": 500,
        "template": {},
        "title": "Kmapper downloads in November, 2018",
        "width": 800,
        "xaxis": {
         "ticklen": 4
        }
       },
       "_py2js_addTraces": {},
       "_py2js_animate": {},
       "_py2js_deleteTraces": {},
       "_py2js_moveTraces": {},
       "_py2js_removeLayoutProps": {},
       "_py2js_removeTraceProps": {},
       "_py2js_restyle": {},
       "_py2js_update": {},
       "_view_count": 0
      }
     },
     "5662577cb7964bacb7ed50cf2849ec34": {
      "model_module": "plotlywidget",
      "model_module_version": "^0.5.0",
      "model_name": "FigureModel",
      "state": {
       "_data": [
        {
         "marker": {
          "color": "#C0223B",
          "line": {
           "color": "#FFB880",
           "width": 1
          }
         },
         "type": "bar",
         "uid": "34ce10a8-939a-4550-8b40-c5b4b9ac8f30",
         "x": [
          "2018-11-01",
          "2018-11-02",
          "2018-11-03",
          "2018-11-04",
          "2018-11-05",
          "2018-11-06",
          "2018-11-07",
          "2018-11-08",
          "2018-11-09",
          "2018-11-10",
          "2018-11-11",
          "2018-11-12",
          "2018-11-13",
          "2018-11-14",
          "2018-11-15",
          "2018-11-16",
          "2018-11-17",
          "2018-11-18",
          "2018-11-19",
          "2018-11-20",
          "2018-11-21",
          "2018-11-22",
          "2018-11-23",
          "2018-11-24",
          "2018-11-25",
          "2018-11-26",
          "2018-11-27",
          "2018-11-28",
          "2018-11-29",
          "2018-11-30"
         ],
         "y": [
          46,
          24,
          25,
          16,
          32,
          11,
          39,
          211,
          163,
          62,
          35,
          46,
          24,
          51,
          51,
          32,
          28,
          22,
          21,
          21,
          10,
          32,
          8,
          15,
          22,
          24,
          32,
          74,
          47,
          19
         ]
        }
       ],
       "_js2py_pointsCallback": {},
       "_js2py_relayout": {},
       "_js2py_restyle": {},
       "_js2py_update": {},
       "_layout": {
        "annotations": [
         {
          "font": {
           "color": "black",
           "size": 14
          },
          "showarrow": false,
          "text": "Total downloads - 30 days: 1243.  Total downloads 6476",
          "x": 0,
          "xref": "paper",
          "y": -0.25,
          "yref": "paper"
         }
        ],
        "bargap": 0.01,
        "font": {
         "family": "Balto",
         "size": 16
        },
        "height": 500,
        "template": {},
        "title": "Kmapper downloads stats<a href='https://pepy.tech/project/kmapper'> [1] </a><br> November, 2018",
        "width": 800,
        "xaxis": {
         "ticklen": 4
        }
       },
       "_py2js_addTraces": {},
       "_py2js_animate": {},
       "_py2js_deleteTraces": {},
       "_py2js_moveTraces": {},
       "_py2js_removeLayoutProps": {},
       "_py2js_removeTraceProps": {},
       "_py2js_restyle": {},
       "_py2js_update": {},
       "_view_count": 0
      }
     },
     "68055df57e9b4563ba7c48a3586d4cab": {
      "model_module": "plotlywidget",
      "model_module_version": "^0.5.0",
      "model_name": "FigureModel",
      "state": {
       "_data": [
        {
         "marker": {
          "color": "#C0223B",
          "line": {
           "color": "#FFB880",
           "width": 1
          }
         },
         "type": "bar",
         "uid": "84f58521-ddd6-4708-a218-61bbd00c1f17",
         "x": [
          "2018-11-01",
          "2018-11-02",
          "2018-11-03",
          "2018-11-04",
          "2018-11-05",
          "2018-11-06",
          "2018-11-07",
          "2018-11-08",
          "2018-11-09",
          "2018-11-10",
          "2018-11-11",
          "2018-11-12",
          "2018-11-13",
          "2018-11-14",
          "2018-11-15",
          "2018-11-16",
          "2018-11-17",
          "2018-11-18",
          "2018-11-19",
          "2018-11-20",
          "2018-11-21",
          "2018-11-22",
          "2018-11-23",
          "2018-11-24",
          "2018-11-25",
          "2018-11-26",
          "2018-11-27",
          "2018-11-28",
          "2018-11-29",
          "2018-11-30"
         ],
         "y": [
          46,
          24,
          25,
          16,
          32,
          11,
          39,
          211,
          163,
          62,
          35,
          46,
          24,
          51,
          51,
          32,
          28,
          22,
          21,
          21,
          10,
          32,
          8,
          15,
          22,
          24,
          32,
          74,
          47,
          19
         ]
        }
       ],
       "_js2py_pointsCallback": {},
       "_js2py_relayout": {},
       "_js2py_restyle": {},
       "_js2py_update": {},
       "_layout": {
        "annotations": [
         {
          "showarrow": false,
          "text": "Total downloads - 30 days: 1243<br>Total downloads 6476",
          "x": 0,
          "xref": "paper",
          "y": -0.15,
          "yref": "paper"
         }
        ],
        "bargap": 0.01,
        "font": {
         "family": "Balto"
        },
        "height": 500,
        "template": {},
        "title": "Kmapper downloads in November, 2018",
        "width": 800,
        "xaxis": {
         "ticklen": 4
        }
       },
       "_py2js_addTraces": {},
       "_py2js_animate": {},
       "_py2js_deleteTraces": {},
       "_py2js_moveTraces": {},
       "_py2js_removeLayoutProps": {},
       "_py2js_removeTraceProps": {},
       "_py2js_restyle": {},
       "_py2js_update": {},
       "_view_count": 0
      }
     },
     "68dc3cc446c149b3a30f0114a35ae354": {
      "model_module": "plotlywidget",
      "model_module_version": "^0.5.0",
      "model_name": "FigureModel",
      "state": {
       "_data": [
        {
         "marker": {
          "color": "#C0223B",
          "line": {
           "color": "#FFB880",
           "width": 1
          }
         },
         "type": "bar",
         "uid": "cc9fcb97-e206-4083-b987-b50b392fc977",
         "x": [
          "2018-11-01",
          "2018-11-02",
          "2018-11-03",
          "2018-11-04",
          "2018-11-05",
          "2018-11-06",
          "2018-11-07",
          "2018-11-08",
          "2018-11-09",
          "2018-11-10",
          "2018-11-11",
          "2018-11-12",
          "2018-11-13",
          "2018-11-14",
          "2018-11-15",
          "2018-11-16",
          "2018-11-17",
          "2018-11-18",
          "2018-11-19",
          "2018-11-20",
          "2018-11-21",
          "2018-11-22",
          "2018-11-23",
          "2018-11-24",
          "2018-11-25",
          "2018-11-26",
          "2018-11-27",
          "2018-11-28",
          "2018-11-29",
          "2018-11-30"
         ],
         "y": [
          46,
          24,
          25,
          16,
          32,
          11,
          39,
          211,
          163,
          62,
          35,
          46,
          24,
          51,
          51,
          32,
          28,
          22,
          21,
          21,
          10,
          32,
          8,
          15,
          22,
          24,
          32,
          74,
          47,
          19
         ]
        }
       ],
       "_js2py_pointsCallback": {},
       "_js2py_relayout": {},
       "_js2py_restyle": {},
       "_js2py_update": {},
       "_layout": {
        "annotations": [
         {
          "font": {
           "color": "black",
           "size": 14
          },
          "showarrow": false,
          "text": "Total downloads - 30 days: 1243.  Total downloads 6476",
          "x": 0,
          "xref": "paper",
          "y": -0.25,
          "yref": "paper"
         }
        ],
        "bargap": 0.01,
        "font": {
         "family": "Balto",
         "size": 16
        },
        "height": 500,
        "plot_bgcolor": "#DFE8F3",
        "template": {},
        "title": "Kmapper downloads stats<a href='https://pepy.tech/project/kmapper'> [1] </a><br> November, 2018",
        "width": 800,
        "xaxis": {
         "ticklen": 4
        }
       },
       "_py2js_addTraces": {},
       "_py2js_animate": {},
       "_py2js_deleteTraces": {},
       "_py2js_moveTraces": {},
       "_py2js_removeLayoutProps": {},
       "_py2js_removeTraceProps": {},
       "_py2js_restyle": {},
       "_py2js_update": {},
       "_view_count": 0
      }
     },
     "7baa74c5edb949c5801d9883e17496fe": {
      "model_module": "plotlywidget",
      "model_module_version": "^0.5.0",
      "model_name": "FigureModel",
      "state": {
       "_data": [
        {
         "marker": {
          "color": "#C0223B",
          "line": {
           "color": "#FFB880",
           "width": 1
          }
         },
         "type": "bar",
         "uid": "1edad66b-dc0a-4ced-8c1e-25ee7978ad71",
         "x": [
          "2018-11-01",
          "2018-11-02",
          "2018-11-03",
          "2018-11-04",
          "2018-11-05",
          "2018-11-06",
          "2018-11-07",
          "2018-11-08",
          "2018-11-09",
          "2018-11-10",
          "2018-11-11",
          "2018-11-12",
          "2018-11-13",
          "2018-11-14",
          "2018-11-15",
          "2018-11-16",
          "2018-11-17",
          "2018-11-18",
          "2018-11-19",
          "2018-11-20",
          "2018-11-21",
          "2018-11-22",
          "2018-11-23",
          "2018-11-24",
          "2018-11-25",
          "2018-11-26",
          "2018-11-27",
          "2018-11-28",
          "2018-11-29",
          "2018-11-30"
         ],
         "y": [
          46,
          24,
          25,
          16,
          32,
          11,
          39,
          211,
          163,
          62,
          35,
          46,
          24,
          51,
          51,
          32,
          28,
          22,
          21,
          21,
          10,
          32,
          8,
          15,
          22,
          24,
          32,
          74,
          47,
          19
         ]
        }
       ],
       "_js2py_pointsCallback": {},
       "_js2py_relayout": {},
       "_js2py_restyle": {},
       "_js2py_update": {},
       "_layout": {
        "annotations": [
         {
          "font": {
           "color": "black",
           "size": 14
          },
          "showarrow": false,
          "text": "Total downloads - 30 days: 1243.  Total downloads 6476",
          "x": 0,
          "xref": "paper",
          "y": -0.25,
          "yref": "paper"
         }
        ],
        "bargap": 0.01,
        "font": {
         "family": "Balto",
         "size": 16
        },
        "height": 500,
        "plot_bgcolor": "#F3F6FA",
        "template": {},
        "title": "Kmapper downloads stats<a href='https://pepy.tech/project/kmapper'> [1] </a><br> November, 2018",
        "width": 800,
        "xaxis": {
         "ticklen": 4
        }
       },
       "_py2js_addTraces": {},
       "_py2js_animate": {},
       "_py2js_deleteTraces": {},
       "_py2js_moveTraces": {},
       "_py2js_removeLayoutProps": {},
       "_py2js_removeTraceProps": {},
       "_py2js_restyle": {},
       "_py2js_update": {},
       "_view_count": 0
      }
     },
     "897655216f51470a948a994c444a8153": {
      "model_module": "plotlywidget",
      "model_module_version": "^0.5.0",
      "model_name": "FigureModel",
      "state": {
       "_data": [
        {
         "marker": {
          "color": "#C0223B",
          "line": {
           "color": "#FFB880",
           "width": 1
          }
         },
         "type": "bar",
         "uid": "9c43035c-286c-4311-8364-ebf776dd5994",
         "x": [
          "2018-11-01",
          "2018-11-02",
          "2018-11-03",
          "2018-11-04",
          "2018-11-05",
          "2018-11-06",
          "2018-11-07",
          "2018-11-08",
          "2018-11-09",
          "2018-11-10",
          "2018-11-11",
          "2018-11-12",
          "2018-11-13",
          "2018-11-14",
          "2018-11-15",
          "2018-11-16",
          "2018-11-17",
          "2018-11-18",
          "2018-11-19",
          "2018-11-20",
          "2018-11-21",
          "2018-11-22",
          "2018-11-23",
          "2018-11-24",
          "2018-11-25",
          "2018-11-26",
          "2018-11-27",
          "2018-11-28",
          "2018-11-29",
          "2018-11-30"
         ],
         "y": [
          46,
          24,
          25,
          16,
          32,
          11,
          39,
          211,
          163,
          62,
          35,
          46,
          24,
          51,
          51,
          32,
          28,
          22,
          21,
          21,
          10,
          32,
          8,
          15,
          22,
          24,
          32,
          74,
          47,
          19
         ]
        }
       ],
       "_js2py_relayout": {},
       "_js2py_restyle": {},
       "_js2py_update": {},
       "_layout": {
        "annotations": [
         {
          "font": {
           "color": "black",
           "size": 14
          },
          "showarrow": false,
          "text": "Total downloads - 30 days: 1243.  Total downloads 6476",
          "x": 0,
          "xref": "paper",
          "y": -0.25,
          "yref": "paper"
         }
        ],
        "bargap": 0.01,
        "font": {
         "family": "Balto",
         "size": 16
        },
        "height": 500,
        "plot_bgcolor": "#EBF0F8",
        "template": {},
        "title": "Kmapper downloads stats<a href='https://pepy.tech/project/kmapper'> [1] </a><br> November, 2018",
        "width": 800,
        "xaxis": {
         "ticklen": 4
        },
        "yaxis": {
         "gridcolor": "white",
         "ticklen": 4
        }
       },
       "_py2js_addTraces": {},
       "_py2js_animate": {},
       "_py2js_deleteTraces": {},
       "_py2js_moveTraces": {},
       "_py2js_removeLayoutProps": {},
       "_py2js_removeTraceProps": {},
       "_py2js_restyle": {},
       "_py2js_update": {},
       "_view_count": 0
      }
     },
     "9039e83bcc004967afd10e22bc6209ea": {
      "model_module": "plotlywidget",
      "model_module_version": "^0.5.0",
      "model_name": "FigureModel",
      "state": {
       "_data": [
        {
         "marker": {
          "color": "#C0223B",
          "line": {
           "color": "#FFB880",
           "width": 1
          }
         },
         "type": "bar",
         "uid": "52c5f427-b324-4e30-bc7e-18d26fb75e75",
         "x": [
          "2018-11-01",
          "2018-11-02",
          "2018-11-03",
          "2018-11-04",
          "2018-11-05",
          "2018-11-06",
          "2018-11-07",
          "2018-11-08",
          "2018-11-09",
          "2018-11-10",
          "2018-11-11",
          "2018-11-12",
          "2018-11-13",
          "2018-11-14",
          "2018-11-15",
          "2018-11-16",
          "2018-11-17",
          "2018-11-18",
          "2018-11-19",
          "2018-11-20",
          "2018-11-21",
          "2018-11-22",
          "2018-11-23",
          "2018-11-24",
          "2018-11-25",
          "2018-11-26",
          "2018-11-27",
          "2018-11-28",
          "2018-11-29",
          "2018-11-30"
         ],
         "y": [
          46,
          24,
          25,
          16,
          32,
          11,
          39,
          211,
          163,
          62,
          35,
          46,
          24,
          51,
          51,
          32,
          28,
          22,
          21,
          21,
          10,
          32,
          8,
          15,
          22,
          24,
          32,
          74,
          47,
          19
         ]
        }
       ],
       "_js2py_relayout": {},
       "_js2py_restyle": {},
       "_js2py_update": {},
       "_layout": {
        "annotations": [
         {
          "font": {
           "color": "black",
           "size": 12
          },
          "showarrow": false,
          "text": "Total downloads - 30 days: 1243<br>Total downloads 6476",
          "x": 0,
          "xref": "paper",
          "y": -0.3,
          "yref": "paper"
         }
        ],
        "bargap": 0.01,
        "font": {
         "family": "Balto",
         "size": 16
        },
        "height": 500,
        "template": {},
        "title": "Kmapper downloads stats<br> November, 2018",
        "width": 800,
        "xaxis": {
         "ticklen": 4
        }
       },
       "_py2js_addTraces": {},
       "_py2js_animate": {},
       "_py2js_deleteTraces": {},
       "_py2js_moveTraces": {},
       "_py2js_removeLayoutProps": {},
       "_py2js_removeTraceProps": {},
       "_py2js_restyle": {},
       "_py2js_update": {},
       "_view_count": 0
      }
     },
     "999526195af94cbd90be53574ff46801": {
      "model_module": "plotlywidget",
      "model_module_version": "^0.5.0",
      "model_name": "FigureModel",
      "state": {
       "_js2py_layoutDelta": {},
       "_js2py_pointsCallback": {},
       "_js2py_relayout": {},
       "_js2py_restyle": {},
       "_js2py_traceDeltas": {},
       "_js2py_update": {},
       "_py2js_addTraces": {},
       "_py2js_animate": {},
       "_py2js_deleteTraces": {},
       "_py2js_moveTraces": {},
       "_py2js_relayout": {},
       "_py2js_removeLayoutProps": {},
       "_py2js_removeTraceProps": {},
       "_py2js_restyle": {},
       "_py2js_update": {}
      }
     },
     "9f73c77de86e44c6863170d2757f5b1d": {
      "model_module": "plotlywidget",
      "model_module_version": "^0.5.0",
      "model_name": "FigureModel",
      "state": {
       "_data": [
        {
         "marker": {
          "color": "#C0223B",
          "line": {
           "color": "#FFB880",
           "width": 1
          }
         },
         "type": "bar",
         "uid": "ad7ae230-3b21-4d04-a23c-b5fdde7e863d",
         "x": [
          "2018-11-01",
          "2018-11-02",
          "2018-11-03",
          "2018-11-04",
          "2018-11-05",
          "2018-11-06",
          "2018-11-07",
          "2018-11-08",
          "2018-11-09",
          "2018-11-10",
          "2018-11-11",
          "2018-11-12",
          "2018-11-13",
          "2018-11-14",
          "2018-11-15",
          "2018-11-16",
          "2018-11-17",
          "2018-11-18",
          "2018-11-19",
          "2018-11-20",
          "2018-11-21",
          "2018-11-22",
          "2018-11-23",
          "2018-11-24",
          "2018-11-25",
          "2018-11-26",
          "2018-11-27",
          "2018-11-28",
          "2018-11-29",
          "2018-11-30"
         ],
         "y": [
          46,
          24,
          25,
          16,
          32,
          11,
          39,
          211,
          163,
          62,
          35,
          46,
          24,
          51,
          51,
          32,
          28,
          22,
          21,
          21,
          10,
          32,
          8,
          15,
          22,
          24,
          32,
          74,
          47,
          19
         ]
        }
       ],
       "_js2py_pointsCallback": {},
       "_js2py_relayout": {},
       "_js2py_restyle": {},
       "_js2py_update": {},
       "_layout": {
        "annotations": [
         {
          "font": {
           "color": "black",
           "size": 14
          },
          "showarrow": false,
          "text": "Total downloads - 30 days: 1243  Total downloads 6476",
          "x": 0,
          "xref": "paper",
          "y": -0.25,
          "yref": "paper"
         }
        ],
        "bargap": 0.01,
        "font": {
         "family": "Balto",
         "size": 16
        },
        "height": 500,
        "template": {},
        "title": "Kmapper downloads stats<br> November, 2018",
        "width": 800,
        "xaxis": {
         "ticklen": 4
        }
       },
       "_py2js_addTraces": {},
       "_py2js_animate": {},
       "_py2js_deleteTraces": {},
       "_py2js_moveTraces": {},
       "_py2js_removeLayoutProps": {},
       "_py2js_removeTraceProps": {},
       "_py2js_restyle": {},
       "_py2js_update": {},
       "_view_count": 0
      }
     },
     "bad8e0a7c76847bca57fb2047a34732e": {
      "model_module": "plotlywidget",
      "model_module_version": "^0.5.0",
      "model_name": "FigureModel",
      "state": {
       "_data": [
        {
         "marker": {
          "color": "#C0223B",
          "line": {
           "color": "#FFB880",
           "width": 1
          }
         },
         "type": "bar",
         "uid": "f7609ad2-e489-4a54-b0e6-c747f7a7a44e",
         "x": [
          "2018-11-01",
          "2018-11-02",
          "2018-11-03",
          "2018-11-04",
          "2018-11-05",
          "2018-11-06",
          "2018-11-07",
          "2018-11-08",
          "2018-11-09",
          "2018-11-10",
          "2018-11-11",
          "2018-11-12",
          "2018-11-13",
          "2018-11-14",
          "2018-11-15",
          "2018-11-16",
          "2018-11-17",
          "2018-11-18",
          "2018-11-19",
          "2018-11-20",
          "2018-11-21",
          "2018-11-22",
          "2018-11-23",
          "2018-11-24",
          "2018-11-25",
          "2018-11-26",
          "2018-11-27",
          "2018-11-28",
          "2018-11-29",
          "2018-11-30"
         ],
         "y": [
          46,
          24,
          25,
          16,
          32,
          11,
          39,
          211,
          163,
          62,
          35,
          46,
          24,
          51,
          51,
          32,
          28,
          22,
          21,
          21,
          10,
          32,
          8,
          15,
          22,
          24,
          32,
          74,
          47,
          19
         ]
        }
       ],
       "_js2py_pointsCallback": {},
       "_js2py_relayout": {},
       "_js2py_restyle": {},
       "_js2py_update": {},
       "_layout": {
        "annotations": [
         {
          "font": {
           "color": "black",
           "size": 12
          },
          "showarrow": false,
          "text": "Total downloads - 30 days: 1243  Total downloads 6476",
          "x": 0,
          "xref": "paper",
          "y": -0.25,
          "yref": "paper"
         }
        ],
        "bargap": 0.01,
        "font": {
         "family": "Balto",
         "size": 16
        },
        "height": 500,
        "template": {},
        "title": "Kmapper downloads stats<br> November, 2018",
        "width": 800,
        "xaxis": {
         "ticklen": 4
        }
       },
       "_py2js_addTraces": {},
       "_py2js_animate": {},
       "_py2js_deleteTraces": {},
       "_py2js_moveTraces": {},
       "_py2js_removeLayoutProps": {},
       "_py2js_removeTraceProps": {},
       "_py2js_restyle": {},
       "_py2js_update": {},
       "_view_count": 0
      }
     },
     "c2a922100fd843828f9875231c53de48": {
      "model_module": "plotlywidget",
      "model_module_version": "^0.5.0",
      "model_name": "FigureModel",
      "state": {
       "_data": [
        {
         "marker": {
          "color": "#C0223B",
          "line": {
           "color": "#FFB880",
           "width": 1
          }
         },
         "type": "bar",
         "uid": "95b0093d-bc2f-469a-99b3-e77353bd045b",
         "x": [
          "2018-11-01",
          "2018-11-02",
          "2018-11-03",
          "2018-11-04",
          "2018-11-05",
          "2018-11-06",
          "2018-11-07",
          "2018-11-08",
          "2018-11-09",
          "2018-11-10",
          "2018-11-11",
          "2018-11-12",
          "2018-11-13",
          "2018-11-14",
          "2018-11-15",
          "2018-11-16",
          "2018-11-17",
          "2018-11-18",
          "2018-11-19",
          "2018-11-20",
          "2018-11-21",
          "2018-11-22",
          "2018-11-23",
          "2018-11-24",
          "2018-11-25",
          "2018-11-26",
          "2018-11-27",
          "2018-11-28",
          "2018-11-29",
          "2018-11-30"
         ],
         "y": [
          46,
          24,
          25,
          16,
          32,
          11,
          39,
          211,
          163,
          62,
          35,
          46,
          24,
          51,
          51,
          32,
          28,
          22,
          21,
          21,
          10,
          32,
          8,
          15,
          22,
          24,
          32,
          74,
          47,
          19
         ]
        }
       ],
       "_js2py_pointsCallback": {},
       "_js2py_relayout": {},
       "_js2py_restyle": {},
       "_js2py_update": {},
       "_layout": {
        "annotations": [
         {
          "font": {
           "color": "black",
           "size": 16
          },
          "showarrow": false,
          "text": "Total downloads - 30 days: 1243.  Total downloads 6476",
          "x": 0,
          "xref": "paper",
          "y": -0.25,
          "yref": "paper"
         }
        ],
        "bargap": 0.01,
        "font": {
         "family": "Balto",
         "size": 16
        },
        "height": 500,
        "plot_bgcolor": "#EBF0F8",
        "template": {},
        "title": "Kmapper download stats<a href='https://pepy.tech/project/kmapper'> [1] </a><br> November, 2018",
        "width": 800,
        "xaxis": {
         "ticklen": 4
        },
        "yaxis": {
         "gridcolor": "white",
         "ticklen": 4
        }
       },
       "_py2js_addTraces": {},
       "_py2js_animate": {},
       "_py2js_deleteTraces": {},
       "_py2js_moveTraces": {},
       "_py2js_removeLayoutProps": {},
       "_py2js_removeTraceProps": {},
       "_py2js_restyle": {},
       "_py2js_update": {},
       "_view_count": 1
      }
     },
     "c2da0b2ae2994a65b733b57547710a41": {
      "model_module": "plotlywidget",
      "model_module_version": "^0.5.0",
      "model_name": "FigureModel",
      "state": {
       "_data": [
        {
         "marker": {
          "color": "#C0223B",
          "line": {
           "color": "#FFB880",
           "width": 1
          }
         },
         "type": "bar",
         "uid": "487cc928-5c59-455d-9822-b11cbd9165a5",
         "x": [
          "2018-11-01",
          "2018-11-02",
          "2018-11-03",
          "2018-11-04",
          "2018-11-05",
          "2018-11-06",
          "2018-11-07",
          "2018-11-08",
          "2018-11-09",
          "2018-11-10",
          "2018-11-11",
          "2018-11-12",
          "2018-11-13",
          "2018-11-14",
          "2018-11-15",
          "2018-11-16",
          "2018-11-17",
          "2018-11-18",
          "2018-11-19",
          "2018-11-20",
          "2018-11-21",
          "2018-11-22",
          "2018-11-23",
          "2018-11-24",
          "2018-11-25",
          "2018-11-26",
          "2018-11-27",
          "2018-11-28",
          "2018-11-29",
          "2018-11-30"
         ],
         "y": [
          46,
          24,
          25,
          16,
          32,
          11,
          39,
          211,
          163,
          62,
          35,
          46,
          24,
          51,
          51,
          32,
          28,
          22,
          21,
          21,
          10,
          32,
          8,
          15,
          22,
          24,
          32,
          74,
          47,
          19
         ]
        }
       ],
       "_js2py_pointsCallback": {},
       "_js2py_relayout": {},
       "_js2py_restyle": {},
       "_js2py_update": {},
       "_layout": {
        "annotations": [
         {
          "showarrow": false,
          "text": "Total downloads - 30 days: 1243<br>Total downloads 6476",
          "x": 0,
          "xref": "paper",
          "y": -0.3,
          "yref": "paper"
         }
        ],
        "bargap": 0.01,
        "font": {
         "family": "Balto",
         "size": 16
        },
        "height": 500,
        "template": {},
        "title": "Kmapper downloads stats<br> November, 2018",
        "width": 800,
        "xaxis": {
         "ticklen": 4
        }
       },
       "_py2js_addTraces": {},
       "_py2js_animate": {},
       "_py2js_deleteTraces": {},
       "_py2js_moveTraces": {},
       "_py2js_removeLayoutProps": {},
       "_py2js_removeTraceProps": {},
       "_py2js_restyle": {},
       "_py2js_update": {},
       "_view_count": 0
      }
     },
     "d2863ccaf67242d2b9b336e5f13df9a0": {
      "model_module": "plotlywidget",
      "model_module_version": "^0.5.0",
      "model_name": "FigureModel",
      "state": {
       "_data": [
        {
         "marker": {
          "color": "#C0223B",
          "line": {
           "color": "#FFB880",
           "width": 1
          }
         },
         "type": "bar",
         "uid": "69d6b199-194f-4c23-9596-5ef768a1803e",
         "x": [
          "2018-11-01",
          "2018-11-02",
          "2018-11-03",
          "2018-11-04",
          "2018-11-05",
          "2018-11-06",
          "2018-11-07",
          "2018-11-08",
          "2018-11-09",
          "2018-11-10",
          "2018-11-11",
          "2018-11-12",
          "2018-11-13",
          "2018-11-14",
          "2018-11-15",
          "2018-11-16",
          "2018-11-17",
          "2018-11-18",
          "2018-11-19",
          "2018-11-20",
          "2018-11-21",
          "2018-11-22",
          "2018-11-23",
          "2018-11-24",
          "2018-11-25",
          "2018-11-26",
          "2018-11-27",
          "2018-11-28",
          "2018-11-29",
          "2018-11-30"
         ],
         "y": [
          46,
          24,
          25,
          16,
          32,
          11,
          39,
          211,
          163,
          62,
          35,
          46,
          24,
          51,
          51,
          32,
          28,
          22,
          21,
          21,
          10,
          32,
          8,
          15,
          22,
          24,
          32,
          74,
          47,
          19
         ]
        }
       ],
       "_js2py_pointsCallback": {},
       "_js2py_relayout": {},
       "_js2py_restyle": {},
       "_js2py_update": {},
       "_layout": {
        "annotations": [
         {
          "font": {
           "color": "black",
           "size": 12
          },
          "showarrow": false,
          "text": "Total downloads - 30 days: 1243  Total downloads 6476",
          "x": 0,
          "xref": "paper",
          "y": -0.3,
          "yref": "paper"
         }
        ],
        "bargap": 0.01,
        "font": {
         "family": "Balto",
         "size": 16
        },
        "height": 500,
        "template": {},
        "title": "Kmapper downloads stats<br> November, 2018",
        "width": 800,
        "xaxis": {
         "ticklen": 4
        }
       },
       "_py2js_addTraces": {},
       "_py2js_animate": {},
       "_py2js_deleteTraces": {},
       "_py2js_moveTraces": {},
       "_py2js_removeLayoutProps": {},
       "_py2js_removeTraceProps": {},
       "_py2js_restyle": {},
       "_py2js_update": {},
       "_view_count": 0
      }
     },
     "d6598f988a624c098f77bb249b06138f": {
      "model_module": "plotlywidget",
      "model_module_version": "^0.5.0",
      "model_name": "FigureModel",
      "state": {
       "_data": [
        {
         "marker": {
          "color": "#C0223B",
          "line": {
           "color": "#FFB880",
           "width": 1
          }
         },
         "type": "bar",
         "uid": "e338843e-dba8-49ce-87e8-5aa1d17b0c73",
         "x": [
          "2018-11-01",
          "2018-11-02",
          "2018-11-03",
          "2018-11-04",
          "2018-11-05",
          "2018-11-06",
          "2018-11-07",
          "2018-11-08",
          "2018-11-09",
          "2018-11-10",
          "2018-11-11",
          "2018-11-12",
          "2018-11-13",
          "2018-11-14",
          "2018-11-15",
          "2018-11-16",
          "2018-11-17",
          "2018-11-18",
          "2018-11-19",
          "2018-11-20",
          "2018-11-21",
          "2018-11-22",
          "2018-11-23",
          "2018-11-24",
          "2018-11-25",
          "2018-11-26",
          "2018-11-27",
          "2018-11-28",
          "2018-11-29",
          "2018-11-30"
         ],
         "y": [
          46,
          24,
          25,
          16,
          32,
          11,
          39,
          211,
          163,
          62,
          35,
          46,
          24,
          51,
          51,
          32,
          28,
          22,
          21,
          21,
          10,
          32,
          8,
          15,
          22,
          24,
          32,
          74,
          47,
          19
         ]
        }
       ],
       "_js2py_layoutDelta": {},
       "_js2py_pointsCallback": {},
       "_js2py_relayout": {},
       "_js2py_restyle": {},
       "_js2py_traceDeltas": {},
       "_js2py_update": {},
       "_py2js_addTraces": {},
       "_py2js_animate": {},
       "_py2js_deleteTraces": {},
       "_py2js_moveTraces": {},
       "_py2js_relayout": {},
       "_py2js_removeLayoutProps": {},
       "_py2js_removeTraceProps": {},
       "_py2js_restyle": {},
       "_py2js_update": {}
      }
     },
     "d96eb1f4b9b145a68198702d6e3e7089": {
      "model_module": "plotlywidget",
      "model_module_version": "^0.5.0",
      "model_name": "FigureModel",
      "state": {
       "_data": [
        {
         "marker": {
          "color": "#C0223B",
          "line": {
           "color": "#FFB880",
           "width": 1
          }
         },
         "type": "bar",
         "uid": "540fb135-70b2-479f-99af-027dfb12c8a0",
         "x": [
          "2018-11-01",
          "2018-11-02",
          "2018-11-03",
          "2018-11-04",
          "2018-11-05",
          "2018-11-06",
          "2018-11-07",
          "2018-11-08",
          "2018-11-09",
          "2018-11-10",
          "2018-11-11",
          "2018-11-12",
          "2018-11-13",
          "2018-11-14",
          "2018-11-15",
          "2018-11-16",
          "2018-11-17",
          "2018-11-18",
          "2018-11-19",
          "2018-11-20",
          "2018-11-21",
          "2018-11-22",
          "2018-11-23",
          "2018-11-24",
          "2018-11-25",
          "2018-11-26",
          "2018-11-27",
          "2018-11-28",
          "2018-11-29",
          "2018-11-30"
         ],
         "y": [
          46,
          24,
          25,
          16,
          32,
          11,
          39,
          211,
          163,
          62,
          35,
          46,
          24,
          51,
          51,
          32,
          28,
          22,
          21,
          21,
          10,
          32,
          8,
          15,
          22,
          24,
          32,
          74,
          47,
          19
         ]
        }
       ],
       "_js2py_pointsCallback": {},
       "_js2py_relayout": {},
       "_js2py_restyle": {},
       "_js2py_update": {},
       "_layout": {
        "annotations": [
         {
          "font": {
           "color": "black",
           "size": 16
          },
          "showarrow": false,
          "text": "Total downloads - 30 days: 1243.  Total downloads 6476",
          "x": 0,
          "xref": "paper",
          "y": -0.25,
          "yref": "paper"
         }
        ],
        "bargap": 0.01,
        "font": {
         "family": "Balto",
         "size": 16
        },
        "height": 500,
        "plot_bgcolor": "#EBF0F8",
        "template": {},
        "title": "Kmapper download stats<a href='https://pepy.tech/project/kmapper'> [1] </a><br> November, 2018",
        "width": 800,
        "xaxis": {
         "ticklen": 4
        },
        "yaxis": {
         "gridcolor": "white",
         "ticklen": 4
        }
       },
       "_py2js_addTraces": {},
       "_py2js_animate": {},
       "_py2js_deleteTraces": {},
       "_py2js_moveTraces": {},
       "_py2js_removeLayoutProps": {},
       "_py2js_removeTraceProps": {},
       "_py2js_restyle": {},
       "_py2js_update": {},
       "_view_count": 0
      }
     },
     "ed5b5a58bc9d4f93928d0f2b3a851b0f": {
      "model_module": "plotlywidget",
      "model_module_version": "^0.5.0",
      "model_name": "FigureModel",
      "state": {
       "_data": [
        {
         "marker": {
          "color": "#C0223B",
          "line": {
           "color": "#FFB880",
           "width": 1
          }
         },
         "type": "bar",
         "uid": "9ab021ac-4272-41e3-ab5d-a4fadc478436",
         "x": [
          "2018-11-01",
          "2018-11-02",
          "2018-11-03",
          "2018-11-04",
          "2018-11-05",
          "2018-11-06",
          "2018-11-07",
          "2018-11-08",
          "2018-11-09",
          "2018-11-10",
          "2018-11-11",
          "2018-11-12",
          "2018-11-13",
          "2018-11-14",
          "2018-11-15",
          "2018-11-16",
          "2018-11-17",
          "2018-11-18",
          "2018-11-19",
          "2018-11-20",
          "2018-11-21",
          "2018-11-22",
          "2018-11-23",
          "2018-11-24",
          "2018-11-25",
          "2018-11-26",
          "2018-11-27",
          "2018-11-28",
          "2018-11-29",
          "2018-11-30"
         ],
         "y": [
          46,
          24,
          25,
          16,
          32,
          11,
          39,
          211,
          163,
          62,
          35,
          46,
          24,
          51,
          51,
          32,
          28,
          22,
          21,
          21,
          10,
          32,
          8,
          15,
          22,
          24,
          32,
          74,
          47,
          19
         ]
        }
       ],
       "_js2py_relayout": {},
       "_js2py_restyle": {},
       "_js2py_update": {},
       "_layout": {
        "annotations": [
         {
          "font": {
           "color": "black",
           "size": 16
          },
          "showarrow": false,
          "text": "Total downloads - 30 days: 1243.  Total downloads 6476",
          "x": 0,
          "xref": "paper",
          "y": -0.25,
          "yref": "paper"
         }
        ],
        "bargap": 0.01,
        "font": {
         "family": "Balto",
         "size": 16
        },
        "height": 500,
        "plot_bgcolor": "#EBF0F8",
        "template": {},
        "title": "Kmapper downloads stats<a href='https://pepy.tech/project/kmapper'> [1] </a><br> November, 2018",
        "width": 800,
        "xaxis": {
         "ticklen": 4
        },
        "yaxis": {
         "gridcolor": "white",
         "ticklen": 4
        }
       },
       "_py2js_addTraces": {},
       "_py2js_animate": {},
       "_py2js_deleteTraces": {},
       "_py2js_moveTraces": {},
       "_py2js_removeLayoutProps": {},
       "_py2js_removeTraceProps": {},
       "_py2js_restyle": {},
       "_py2js_update": {},
       "_view_count": 0
      }
     },
     "f3af91f562c042dc8c5ff6596ebc62e8": {
      "model_module": "plotlywidget",
      "model_module_version": "^0.5.0",
      "model_name": "FigureModel",
      "state": {
       "_data": [
        {
         "marker": {
          "color": "#C0223B",
          "line": {
           "color": "#FFB880",
           "width": 1
          }
         },
         "type": "bar",
         "uid": "6a86fa70-3bb5-443c-ab4d-f474de0ebb38",
         "x": [
          "2018-11-01",
          "2018-11-02",
          "2018-11-03",
          "2018-11-04",
          "2018-11-05",
          "2018-11-06",
          "2018-11-07",
          "2018-11-08",
          "2018-11-09",
          "2018-11-10",
          "2018-11-11",
          "2018-11-12",
          "2018-11-13",
          "2018-11-14",
          "2018-11-15",
          "2018-11-16",
          "2018-11-17",
          "2018-11-18",
          "2018-11-19",
          "2018-11-20",
          "2018-11-21",
          "2018-11-22",
          "2018-11-23",
          "2018-11-24",
          "2018-11-25",
          "2018-11-26",
          "2018-11-27",
          "2018-11-28",
          "2018-11-29",
          "2018-11-30"
         ],
         "y": [
          46,
          24,
          25,
          16,
          32,
          11,
          39,
          211,
          163,
          62,
          35,
          46,
          24,
          51,
          51,
          32,
          28,
          22,
          21,
          21,
          10,
          32,
          8,
          15,
          22,
          24,
          32,
          74,
          47,
          19
         ]
        }
       ],
       "_js2py_relayout": {},
       "_js2py_restyle": {},
       "_js2py_update": {},
       "_layout": {
        "bargap": 0.01,
        "height": 600,
        "template": {},
        "title": "Kmapper downloads in November, 2018",
        "width": 800
       },
       "_py2js_addTraces": {},
       "_py2js_animate": {},
       "_py2js_deleteTraces": {},
       "_py2js_moveTraces": {},
       "_py2js_removeLayoutProps": {},
       "_py2js_removeTraceProps": {},
       "_py2js_restyle": {},
       "_py2js_update": {},
       "_view_count": 0
      }
     },
     "fb55eca3b364418199743c50985cdb8f": {
      "model_module": "plotlywidget",
      "model_module_version": "^0.5.0",
      "model_name": "FigureModel",
      "state": {
       "_data": [
        {
         "marker": {
          "color": "#C0223B",
          "line": {
           "color": "#FFB880",
           "width": 1
          }
         },
         "type": "bar",
         "uid": "fc9f6f15-ab0c-4ccb-a966-08e53f4d7e48",
         "x": [
          "2018-11-01",
          "2018-11-02",
          "2018-11-03",
          "2018-11-04",
          "2018-11-05",
          "2018-11-06",
          "2018-11-07",
          "2018-11-08",
          "2018-11-09",
          "2018-11-10",
          "2018-11-11",
          "2018-11-12",
          "2018-11-13",
          "2018-11-14",
          "2018-11-15",
          "2018-11-16",
          "2018-11-17",
          "2018-11-18",
          "2018-11-19",
          "2018-11-20",
          "2018-11-21",
          "2018-11-22",
          "2018-11-23",
          "2018-11-24",
          "2018-11-25",
          "2018-11-26",
          "2018-11-27",
          "2018-11-28",
          "2018-11-29",
          "2018-11-30"
         ],
         "y": [
          46,
          24,
          25,
          16,
          32,
          11,
          39,
          211,
          163,
          62,
          35,
          46,
          24,
          51,
          51,
          32,
          28,
          22,
          21,
          21,
          10,
          32,
          8,
          15,
          22,
          24,
          32,
          74,
          47,
          19
         ]
        }
       ],
       "_js2py_relayout": {},
       "_js2py_restyle": {},
       "_js2py_update": {},
       "_layout": {
        "annotations": [
         {
          "font": {
           "color": "black",
           "size": 14
          },
          "showarrow": false,
          "text": "Total downloads - 30 days: 1243.  Total downloads 6476",
          "x": 0,
          "xref": "paper",
          "y": -0.25,
          "yref": "paper"
         }
        ],
        "bargap": 0.01,
        "font": {
         "family": "Balto",
         "size": 16
        },
        "height": 500,
        "template": {},
        "title": "Kmapper downloads stats<a href='https://pepy.tech/project/kmapper'> [1] </a><br> November, 2018",
        "width": 800,
        "xaxis": {
         "ticklen": 4
        }
       },
       "_py2js_addTraces": {},
       "_py2js_animate": {},
       "_py2js_deleteTraces": {},
       "_py2js_moveTraces": {},
       "_py2js_removeLayoutProps": {},
       "_py2js_removeTraceProps": {},
       "_py2js_restyle": {},
       "_py2js_update": {},
       "_view_count": 0
      }
     }
    },
    "version_major": 2,
    "version_minor": 0
   }
  }
 },
 "nbformat": 4,
 "nbformat_minor": 2
}
