{
 "cells": [
  {
   "cell_type": "markdown",
   "metadata": {},
   "source": [
    "# Demo of Plotlyviz features\n",
    "\n",
    "To visualize a Kepler Mapper graph with plotly, we've built some handy constructors to help you.  This notebook will detail some of the features so you are better able to customize the outputs."
   ]
  },
  {
   "cell_type": "code",
   "execution_count": 1,
   "metadata": {},
   "outputs": [],
   "source": [
    "%load_ext autoreload\n",
    "%autoreload 2\n",
    "%matplotlib inline"
   ]
  },
  {
   "cell_type": "code",
   "execution_count": 2,
   "metadata": {},
   "outputs": [],
   "source": [
    "# Necessary imports\n",
    "\n",
    "import sklearn\n",
    "from sklearn import datasets\n",
    "\n",
    "import kmapper as km\n",
    "from kmapper.plotlyviz import plotlyviz"
   ]
  },
  {
   "cell_type": "code",
   "execution_count": 3,
   "metadata": {},
   "outputs": [],
   "source": [
    "data, labels = datasets.make_circles(n_samples=5000, noise=0.05, factor=0.3)\n",
    "\n",
    "# Initialize\n",
    "mapper = km.KeplerMapper(verbose=0)\n",
    "\n",
    "# Fit to and transform the data\n",
    "lens = mapper.fit_transform(data, projection=[0])\n",
    "\n",
    "# Create dictionary called 'simplicial_complex' with nodes, edges and meta-information\n",
    "simplicial_complex = mapper.map(lens, X=data,\n",
    "                                cover=km.Cover(n_cubes=20, perc_overlap=0.1))"
   ]
  },
  {
   "cell_type": "markdown",
   "metadata": {},
   "source": [
    "## Basic Usage\n",
    "\n",
    "All plotly outputs come with node node tooltips that display the cluster id and basic graph information. "
   ]
  },
  {
   "cell_type": "code",
   "execution_count": 4,
   "metadata": {},
   "outputs": [
    {
     "data": {
      "application/vnd.jupyter.widget-view+json": {
       "model_id": "b8f86ec1493e489b9d5dadc1f76ab820",
       "version_major": 2,
       "version_minor": 0
      },
      "text/plain": [
       "FigureWidget({\n",
       "    'data': [{'hoverinfo': 'none',\n",
       "              'line': {'color': 'rgb(180,180,180)', 'width':…"
      ]
     },
     "metadata": {},
     "output_type": "display_data"
    }
   ],
   "source": [
    "plotlyviz(simplicial_complex, title=\"Basic plot\")"
   ]
  },
  {
   "cell_type": "markdown",
   "metadata": {},
   "source": [
    "## Dashboards\n",
    "\n",
    "To see more information about each of the nodes, you can use parameters `dashboard=True` or `vbox=True` to include node histograms and node membership data.\n",
    "\n",
    "Hover the graph nodes in the next cell to see their  distribution in the right figure. Under the graphs notice the contents of two text widgets:  the cluster size, repsctively the member ids or their labels."
   ]
  },
  {
   "cell_type": "code",
   "execution_count": 5,
   "metadata": {},
   "outputs": [
    {
     "data": {
      "application/vnd.jupyter.widget-view+json": {
       "model_id": "84db64681e18411795e8ae9d00362353",
       "version_major": 2,
       "version_minor": 0
      },
      "text/plain": [
       "VBox(children=(HBox(children=(FigureWidget({\n",
       "    'data': [{'hoverinfo': 'none',\n",
       "              'line': {'color'…"
      ]
     },
     "metadata": {},
     "output_type": "display_data"
    }
   ],
   "source": [
    "plotlyviz(simplicial_complex, title=\"Dashboard plot\", dashboard=True)"
   ]
  },
  {
   "cell_type": "code",
   "execution_count": 6,
   "metadata": {},
   "outputs": [
    {
     "data": {
      "application/vnd.jupyter.widget-view+json": {
       "model_id": "d9a983676a384d5aa564fec486ea6b19",
       "version_major": 2,
       "version_minor": 0
      },
      "text/plain": [
       "VBox(children=(FigureWidget({\n",
       "    'data': [{'hoverinfo': 'none',\n",
       "              'line': {'color': 'rgb(180,180,…"
      ]
     },
     "metadata": {},
     "output_type": "display_data"
    }
   ],
   "source": [
    "plotlyviz(simplicial_complex, title=\"Dashboard plot\", graph_data=True)"
   ]
  },
  {
   "cell_type": "markdown",
   "metadata": {},
   "source": [
    "## Color palettes\n",
    "\n",
    "You can define new color palettes using the plotly specs for this.\n",
    "\n",
    "To color the graph nodes or the bars in the node distribution we can choose a Plotly colorscale. The default colorscale\n",
    "set in  `kmapper.plotlyviz`  is Viridis. `Viridis` is the choice over `Jet` colorscale, by the data visuzlization community, \n",
    "because Jet doesn't meet scientific standards concerning  luminance gradient, and more. \n",
    "It is just colorful but doesn't convey right information.\n",
    " \n",
    "Viridis is the default colormap in Matplotlib and  R. Matlab also changed Jet  by Parula.\n",
    "\n",
    " A Plotly colorscale is a list of lists, and each inner list contains a float number in [0,1], and a color code.\n",
    "    The color codes\n",
    "however are not tuples of float values in [0,1], like in `matplotlib`, but tuples of integers (`np.uint8`) between 0 and 255.\n",
    "or hex colorcodes. \n"
   ]
  },
  {
   "cell_type": "code",
   "execution_count": 7,
   "metadata": {},
   "outputs": [],
   "source": [
    "pl_matter = [[0.0, 'rgb(253, 237, 176)'], #derived from cmocean.cm.matter https://matplotlib.org/cmocean/\n",
    "             [0.1, 'rgb(250, 202, 143)'],\n",
    "             [0.2, 'rgb(245, 166, 114)'],\n",
    "             [0.3, 'rgb(238, 132, 93)'],\n",
    "             [0.4, 'rgb(226, 97, 82)'],\n",
    "             [0.5, 'rgb(206, 67, 86)'],\n",
    "             [0.6, 'rgb(179, 46, 94)'],\n",
    "             [0.7, 'rgb(147, 31, 99)'],\n",
    "             [0.8, 'rgb(114, 25, 95)'],\n",
    "             [0.9, 'rgb(79, 21, 82)'],\n",
    "             [1.0, 'rgb(47, 15, 61)']]\n",
    "\n",
    "pl_brewer = [[0.0, '#006837'], #from green to red  http://colorbrewer2.org/#type=diverging&scheme=RdYlGn&n=11\n",
    "             [0.1, '#1a9850'],\n",
    "             [0.2, '#66bd63'],\n",
    "             [0.3, '#a6d96a'],\n",
    "             [0.4, '#d9ef8b'],\n",
    "             [0.5, '#ffffbf'],\n",
    "             [0.6, '#fee08b'],\n",
    "             [0.7, '#fdae61'],\n",
    "             [0.8, '#f46d43'],\n",
    "             [0.9, '#d73027'],\n",
    "             [1.0, '#a50026']]\n",
    "\n",
    "pl_jet = [[0.0, 'rgb(0, 0, 127)'], #derived for matplotlib jet\n",
    "          [0.1, 'rgb(0, 0, 241)'],\n",
    "          [0.2, 'rgb(0, 76, 255)'],\n",
    "          [0.3, 'rgb(0, 176, 255)'],\n",
    "          [0.4, 'rgb(41, 255, 205)'],\n",
    "          [0.5, 'rgb(124, 255, 121)'],\n",
    "          [0.6, 'rgb(205, 255, 41)'],\n",
    "          [0.7, 'rgb(255, 196, 0)'],\n",
    "          [0.8, 'rgb(255, 103, 0)'],\n",
    "          [0.9, 'rgb(241, 7, 0)'],\n",
    "          [1.0, 'rgb(127, 0, 0)']]"
   ]
  },
  {
   "cell_type": "code",
   "execution_count": 8,
   "metadata": {},
   "outputs": [
    {
     "data": {
      "application/vnd.jupyter.widget-view+json": {
       "model_id": "1b70c836c5b24b94afd64a84ecdd94e3",
       "version_major": 2,
       "version_minor": 0
      },
      "text/plain": [
       "VBox(children=(HBox(children=(FigureWidget({\n",
       "    'data': [{'hoverinfo': 'none',\n",
       "              'line': {'color'…"
      ]
     },
     "metadata": {},
     "output_type": "display_data"
    }
   ],
   "source": [
    "plotlyviz(simplicial_complex, colorscale=pl_matter, title=\"Dashboard plot\", dashboard=True)"
   ]
  },
  {
   "cell_type": "markdown",
   "metadata": {},
   "source": [
    "### Construct plotly scales from Matplotlib"
   ]
  },
  {
   "cell_type": "code",
   "execution_count": 9,
   "metadata": {},
   "outputs": [],
   "source": [
    "import numpy as np\n",
    "import matplotlib.cm as cm\n",
    "import cmocean # https://matplotlib.org/cmocean/"
   ]
  },
  {
   "cell_type": "code",
   "execution_count": 10,
   "metadata": {},
   "outputs": [],
   "source": [
    "from kmapper.plotlyviz import mpl_to_plotly\n",
    "\n",
    "plotly_RdYlBu = mpl_to_plotly(cm.RdYlBu, 11)\n",
    "plotly_delta = mpl_to_plotly(cmocean.cm.delta, 11) "
   ]
  },
  {
   "cell_type": "code",
   "execution_count": 11,
   "metadata": {},
   "outputs": [
    {
     "data": {
      "application/vnd.jupyter.widget-view+json": {
       "model_id": "7ce6ea87e32d4b5d9ab03ccb9dd27bd0",
       "version_major": 2,
       "version_minor": 0
      },
      "text/plain": [
       "VBox(children=(HBox(children=(FigureWidget({\n",
       "    'data': [{'hoverinfo': 'none',\n",
       "              'line': {'color'…"
      ]
     },
     "metadata": {},
     "output_type": "display_data"
    }
   ],
   "source": [
    "plotlyviz(simplicial_complex, colorscale=plotly_RdYlBu, title=\"Dashboard plot\", dashboard=True)"
   ]
  },
  {
   "cell_type": "code",
   "execution_count": 12,
   "metadata": {},
   "outputs": [
    {
     "data": {
      "application/vnd.jupyter.widget-view+json": {
       "model_id": "c650da4720394d968dcad4ec04ca3f79",
       "version_major": 2,
       "version_minor": 0
      },
      "text/plain": [
       "VBox(children=(HBox(children=(FigureWidget({\n",
       "    'data': [{'hoverinfo': 'none',\n",
       "              'line': {'color'…"
      ]
     },
     "metadata": {},
     "output_type": "display_data"
    }
   ],
   "source": [
    "plotlyviz(simplicial_complex, colorscale=plotly_delta, title=\"Dashboard plot\", dashboard=True)"
   ]
  },
  {
   "cell_type": "markdown",
   "metadata": {},
   "source": [
    "## Different Layouts\n",
    "\n",
    "The default layout is Kamada-Kawai. It is possible to specify other layouts to use with the `graph_layout` keyword argument.\n",
    "\n",
    "Currently, the two supported options are Kamada-Kawaii by `'kk'` and Furchtenberg-Reingold by `fr`."
   ]
  },
  {
   "cell_type": "code",
   "execution_count": 13,
   "metadata": {},
   "outputs": [
    {
     "data": {
      "application/vnd.jupyter.widget-view+json": {
       "model_id": "f9c0b6b30d924e928630589162077943",
       "version_major": 2,
       "version_minor": 0
      },
      "text/plain": [
       "FigureWidget({\n",
       "    'data': [{'hoverinfo': 'none',\n",
       "              'line': {'color': 'rgb(180,180,180)', 'width':…"
      ]
     },
     "metadata": {},
     "output_type": "display_data"
    }
   ],
   "source": [
    "plotlyviz(simplicial_complex, graph_layout='fr', title='Kepler-Mapper graph for circles dataset with<br> Fruchtenberg-Reingold layout')"
   ]
  },
  {
   "cell_type": "markdown",
   "metadata": {},
   "source": [
    "## Save figure\n",
    "\n",
    "To save the figure, just include an argument `filename=<your filename>` to the constructor. You can save as a png, pdf, svg image file, as well as eps file (the eps files cannot be\n",
    "defined/saved under the  Windows OS).\n",
    "\n",
    "**Warning** You'll need to have the `psutil` package installed. You can use either pip or conda for this."
   ]
  },
  {
   "cell_type": "code",
   "execution_count": 14,
   "metadata": {},
   "outputs": [
    {
     "data": {
      "application/vnd.jupyter.widget-view+json": {
       "model_id": "73edd826125b40afbe72b674e9add5d7",
       "version_major": 2,
       "version_minor": 0
      },
      "text/plain": [
       "FigureWidget({\n",
       "    'data': [{'hoverinfo': 'none',\n",
       "              'line': {'color': 'rgb(180,180,180)', 'width':…"
      ]
     },
     "metadata": {},
     "output_type": "display_data"
    }
   ],
   "source": [
    "# !pip install psutil\n",
    "plotlyviz(simplicial_complex, colorscale=pl_matter, title=\"Dashboard plot\", filename=\"my_circles_export.pdf\")"
   ]
  },
  {
   "cell_type": "markdown",
   "metadata": {},
   "source": [
    "## Further customization\n",
    "\n",
    "We've supplied one nice function to handle the sanest defaults for you convenience. If you find yourself needing further customization, look at the code in `plotlyviz()` function and customize at will. If you build a new constructor you find helpful, we would be thrilled if you added it to the package and sent us a pull request."
   ]
  }
 ],
 "metadata": {
  "kernelspec": {
   "display_name": "Python 3",
   "language": "python",
   "name": "python3"
  },
  "language_info": {
   "codemirror_mode": {
    "name": "ipython",
    "version": 3
   },
   "file_extension": ".py",
   "mimetype": "text/x-python",
   "name": "python",
   "nbconvert_exporter": "python",
   "pygments_lexer": "ipython3",
   "version": "3.7.1"
  },
  "widgets": {
   "application/vnd.jupyter.widget-state+json": {
    "state": {
     "007659468f784efba4bd51ea750b4eb3": {
      "model_module": "@jupyter-widgets/base",
      "model_module_version": "1.1.0",
      "model_name": "LayoutModel",
      "state": {}
     },
     "00a399d097a9491b808eb4ff099038af": {
      "model_module": "@jupyter-widgets/base",
      "model_module_version": "1.1.0",
      "model_name": "LayoutModel",
      "state": {}
     },
     "05e09a7d351a44dab77fb7ec1040e0b6": {
      "model_module": "@jupyter-widgets/base",
      "model_module_version": "1.1.0",
      "model_name": "LayoutModel",
      "state": {}
     },
     "0b08bc77c0b143c8a468a96ac1f29af0": {
      "model_module": "@jupyter-widgets/base",
      "model_module_version": "1.1.0",
      "model_name": "LayoutModel",
      "state": {}
     },
     "107624e7bbf44bce9370c8808302278b": {
      "model_module": "@jupyter-widgets/controls",
      "model_module_version": "1.4.0",
      "model_name": "TextareaModel",
      "state": {
       "description": "Members:",
       "layout": "IPY_MODEL_2f2c7e07644f408e818d1c51b1829aea",
       "style": "IPY_MODEL_9fd7e5640c6f4090b52e8868be696bd3",
       "value": "51, 54, 62, 73, 108, 131, 166, 196, 200, 211, 245, 247, 283, 288, 317, 335, 346, 392, 404, 447, 448, 488, 497, 498, 552, 564, 693, 699, 701, 720, 744, 779, 780, 820, 840, 866, 875, 939, 945, 951, 1067, 1095, 1143, 1150, 1164, 1191, 1209, 1212, 1266, 1306, 1308, 1332, 1345, 1405, 1487, 1502, 1522, 1538, 1542, 1552, 1636, 1643, 1653, 1725, 1766, 1806, 1819, 1830, 1856, 1859, 1866, 1868, 1933, 1948, 1953, 2053, 2061, 2096, 2231, 2234, 2242, 2290, 2355, 2381, 2436, 2446, 2465, 2480, 2494, 2578, 2630, 2695, 2703, 2709, 2715, 2814, 2876, 2962, 2971, 2988, 2992, 3051, 3053, 3084, 3104, 3143, 3219, 3220, 3226, 3244, 3258, 3329, 3369, 3498, 3528, 3542, 3548, 3589, 3596, 3602, 3613, 3621, 3625, 3675, 3698, 3808, 3811, 3854, 3905, 3927, 3954, 3961, 3984, 3987, 4018, 4146, 4189, 4190, 4195, 4201, 4259, 4268, 4291, 4334, 4364, 4400, 4446, 4449, 4490, 4571, 4586, 4589, 4630, 4644, 4659, 4703, 4712, 4719, 4724, 4737, 4765, 4840, 4866, 4909, 4911, 4950"
      }
     },
     "14a5fb7327b146fba0d448e066ba5a25": {
      "model_module": "@jupyter-widgets/controls",
      "model_module_version": "1.4.0",
      "model_name": "HBoxModel",
      "state": {
       "children": [
        "IPY_MODEL_e756dc48d6a940b8a28bc03298aad211",
        "IPY_MODEL_97034e92fcfc400c83a0072102f4887e"
       ],
       "layout": "IPY_MODEL_6736a7e7a38b430cade8f45c3bd6aaee"
      }
     },
     "15b050caccf443328fab840fb64aded6": {
      "model_module": "plotlywidget",
      "model_module_version": "^0.3.0",
      "model_name": "FigureModel",
      "state": {
       "_data": [
        {
         "hoverinfo": "y+text",
         "marker": {
          "color": [
           "rgb(70, 18, 100)",
           "rgb(68, 51, 125)",
           "rgb(58, 80, 138)",
           "rgb(46, 107, 141)",
           "rgb(36, 131, 141)",
           "rgb(33, 155, 136)",
           "rgb(51, 178, 121)",
           "rgb(94, 199, 96)",
           "rgb(155, 215, 59)",
           "rgb(220, 226, 37)"
          ]
         },
         "text": [
          "0.0%",
          "0.0%",
          "0.0%",
          "0.0%",
          "51.5%",
          "48.5%",
          "0.0%",
          "0.0%",
          "0.0%",
          "0.0%"
         ],
         "type": "bar",
         "uid": "b3fe918c-dd30-11e8-b0b6-186590de8425",
         "y": [
          0,
          0,
          0,
          0,
          100,
          94,
          0,
          0,
          0,
          0
         ]
        }
       ],
       "_js2py_layoutDelta": {},
       "_js2py_pointsCallback": {},
       "_js2py_relayout": {},
       "_js2py_restyle": {},
       "_js2py_traceDeltas": {},
       "_js2py_update": {},
       "_layout": {
        "bargap": 0.01,
        "font": {
         "size": 12
        },
        "height": 300,
        "hovermode": "x",
        "margin": {
         "b": 60,
         "l": 25,
         "r": 25,
         "t": 60
        },
        "plot_bgcolor": "rgb(240,240,240)",
        "title": "Graph Node Distribution",
        "width": 400,
        "xaxis": {
         "showgrid": false,
         "showline": true,
         "showticklabels": false,
         "zeroline": false
        },
        "yaxis": {
         "gridcolor": "white",
         "showline": false,
         "tickfont": {
          "size": 10
         }
        }
       },
       "_py2js_addTraces": {},
       "_py2js_animate": {},
       "_py2js_deleteTraces": {},
       "_py2js_moveTraces": {},
       "_py2js_relayout": {},
       "_py2js_removeLayoutProps": {},
       "_py2js_removeTraceProps": {},
       "_py2js_restyle": {},
       "_py2js_update": {},
       "_view_count": 0
      }
     },
     "18f78d84ea9747998d3475add71ca26a": {
      "model_module": "plotlywidget",
      "model_module_version": "^0.3.0",
      "model_name": "FigureModel",
      "state": {
       "_data": [
        {
         "hoverinfo": "none",
         "mode": "text",
         "text": [
          "<br><b>Projection: </b>[0]<br><b>Clusterer: </b>DBSCAN(algorithm='auto', eps=0.5, leaf_size=30, metric='euclidean',<br>    metric_params=None, min_samples=3, n_jobs=1, p=None)<br><b>Scaler: </b>MinMaxScaler(copy=True, feature_range=(0, 1))",
          ""
         ],
         "textposition": "bottom right",
         "type": "scatter",
         "uid": "b7410294-dd30-11e8-91e6-186590de8425",
         "x": [
          0,
          600
         ],
         "y": [
          300,
          0
         ]
        }
       ],
       "_js2py_layoutDelta": {},
       "_js2py_pointsCallback": {},
       "_js2py_relayout": {},
       "_js2py_restyle": {},
       "_js2py_traceDeltas": {},
       "_js2py_update": {},
       "_layout": {
        "font": {
         "size": 12
        },
        "height": 300,
        "margin": {
         "b": 60,
         "l": 20,
         "r": 20,
         "t": 60
        },
        "plot_bgcolor": "rgb(240,240,240)",
        "title": "Algorithms and scikit-learn objects/methods",
        "width": 600,
        "xaxis": {
         "visible": false
        },
        "yaxis": {
         "range": [
          0,
          305
         ],
         "visible": false
        }
       },
       "_py2js_addTraces": {},
       "_py2js_animate": {},
       "_py2js_deleteTraces": {},
       "_py2js_moveTraces": {},
       "_py2js_relayout": {},
       "_py2js_removeLayoutProps": {},
       "_py2js_removeTraceProps": {},
       "_py2js_restyle": {},
       "_py2js_update": {},
       "_view_count": 0
      }
     },
     "1b70c836c5b24b94afd64a84ecdd94e3": {
      "model_module": "@jupyter-widgets/controls",
      "model_module_version": "1.4.0",
      "model_name": "VBoxModel",
      "state": {
       "children": [
        "IPY_MODEL_a34aa5e04b0d49a39bb514a4b54f9e64",
        "IPY_MODEL_4f6386a5ca69408c8560c5be74a5ef8e",
        "IPY_MODEL_977dc3314bc345c58f12ff5f73957da3"
       ],
       "layout": "IPY_MODEL_df332b248dac4351b865c8c13a623b03"
      }
     },
     "1ec68ff2b9934b87bb29e86414354abc": {
      "model_module": "@jupyter-widgets/base",
      "model_module_version": "1.1.0",
      "model_name": "LayoutModel",
      "state": {
       "margin": "5px 5px 5px 10px",
       "width": "800px"
      }
     },
     "28d7dd17e8f6478fa7da6107bfd1c783": {
      "model_module": "@jupyter-widgets/controls",
      "model_module_version": "1.4.0",
      "model_name": "TextModel",
      "state": {
       "description": "Cluster size:",
       "layout": "IPY_MODEL_7987286fc5f8413495e257c30ae89448",
       "style": "IPY_MODEL_49c29e0b9511446383efdca940eadb6f",
       "value": "166"
      }
     },
     "28f7542d589f431f92598dc6a67644be": {
      "model_module": "plotlywidget",
      "model_module_version": "^0.3.0",
      "model_name": "FigureModel",
      "state": {
       "_data": [
        {
         "hoverinfo": "none",
         "mode": "text",
         "text": [
          "<br><b>Projection: </b>[0]<br><b>Clusterer: </b>DBSCAN(algorithm='auto', eps=0.5, leaf_size=30, metric='euclidean',<br>    metric_params=None, min_samples=3, n_jobs=1, p=None)<br><b>Scaler: </b>MinMaxScaler(copy=True, feature_range=(0, 1))",
          ""
         ],
         "textposition": "bottom right",
         "type": "scatter",
         "uid": "b5457452-dd30-11e8-ae8b-186590de8425",
         "x": [
          0,
          600
         ],
         "y": [
          300,
          0
         ]
        }
       ],
       "_js2py_layoutDelta": {},
       "_js2py_pointsCallback": {},
       "_js2py_relayout": {},
       "_js2py_restyle": {},
       "_js2py_traceDeltas": {},
       "_js2py_update": {},
       "_layout": {
        "font": {
         "size": 12
        },
        "height": 300,
        "margin": {
         "b": 60,
         "l": 20,
         "r": 20,
         "t": 60
        },
        "plot_bgcolor": "rgb(240,240,240)",
        "title": "Algorithms and scikit-learn objects/methods",
        "width": 600,
        "xaxis": {
         "visible": false
        },
        "yaxis": {
         "range": [
          0,
          305
         ],
         "visible": false
        }
       },
       "_py2js_addTraces": {},
       "_py2js_animate": {},
       "_py2js_deleteTraces": {},
       "_py2js_moveTraces": {},
       "_py2js_relayout": {},
       "_py2js_removeLayoutProps": {},
       "_py2js_removeTraceProps": {},
       "_py2js_restyle": {},
       "_py2js_update": {},
       "_view_count": 0
      }
     },
     "2aec06575d724ecb87578b345a1290ec": {
      "model_module": "@jupyter-widgets/controls",
      "model_module_version": "1.4.0",
      "model_name": "VBoxModel",
      "state": {
       "children": [
        "IPY_MODEL_14a5fb7327b146fba0d448e066ba5a25",
        "IPY_MODEL_67c1a7491250451888e14ebdc1885bc8",
        "IPY_MODEL_b9671fffc8054353a76bf8b01fa9bb35"
       ],
       "layout": "IPY_MODEL_9840c5c78a224c57bc88618cca7458b7"
      }
     },
     "2b1ad583eaf2425dae941fd959ec0fd6": {
      "model_module": "@jupyter-widgets/base",
      "model_module_version": "1.1.0",
      "model_name": "LayoutModel",
      "state": {}
     },
     "2d5248499f4b4c79938690356f787c1a": {
      "model_module": "plotlywidget",
      "model_module_version": "^0.3.0",
      "model_name": "FigureModel",
      "state": {
       "_data": [
        {
         "hoverinfo": "y+text",
         "marker": {
          "color": [
           "rgb(25, 48, 106)",
           "rgb(34, 93, 156)",
           "rgb(55, 143, 168)",
           "rgb(124, 186, 185)",
           "rgb(213, 229, 200)",
           "rgb(235, 224, 149)",
           "rgb(177, 178, 52)",
           "rgb(95, 144, 20)",
           "rgb(32, 104, 36)",
           "rgb(19, 58, 30)"
          ]
         },
         "text": [
          "14.5%",
          "9.6%",
          "9.0%",
          "12.0%",
          "8.4%",
          "7.2%",
          "7.8%",
          "12.0%",
          "9.0%",
          "10.2%"
         ],
         "type": "bar",
         "uid": "b746469e-dd30-11e8-9033-186590de8425",
         "y": [
          100,
          67,
          63,
          83,
          58,
          50,
          54,
          83,
          63,
          71
         ]
        }
       ],
       "_js2py_pointsCallback": {},
       "_js2py_relayout": {},
       "_js2py_restyle": {},
       "_js2py_update": {},
       "_layout": {
        "bargap": 0.01,
        "font": {
         "size": 12
        },
        "height": 300,
        "hovermode": "x",
        "margin": {
         "b": 60,
         "l": 50,
         "r": 25,
         "t": 100
        },
        "plot_bgcolor": "rgb(240,240,240)",
        "title": "Cluster Member Distribution",
        "width": 400,
        "xaxis": {
         "showgrid": false,
         "showline": true,
         "showticklabels": false,
         "zeroline": false
        },
        "yaxis": {
         "gridcolor": "white",
         "showline": false,
         "tickfont": {
          "size": 10
         }
        }
       },
       "_py2js_addTraces": {},
       "_py2js_animate": {},
       "_py2js_deleteTraces": {},
       "_py2js_moveTraces": {},
       "_py2js_relayout": {},
       "_py2js_removeLayoutProps": {},
       "_py2js_removeTraceProps": {},
       "_py2js_restyle": {},
       "_py2js_update": {},
       "_view_count": 1
      }
     },
     "2d88ae2637f949898160df847b58b47d": {
      "model_module": "@jupyter-widgets/controls",
      "model_module_version": "1.4.0",
      "model_name": "HBoxModel",
      "state": {
       "children": [
        "IPY_MODEL_463773852afe4309994b276eb5fafcd9",
        "IPY_MODEL_74c2228b931f493592f68f477656585a"
       ],
       "layout": "IPY_MODEL_05e09a7d351a44dab77fb7ec1040e0b6"
      }
     },
     "2dabd71f3e664a9997a0d6d4cfca64a8": {
      "model_module": "@jupyter-widgets/base",
      "model_module_version": "1.1.0",
      "model_name": "LayoutModel",
      "state": {
       "margin": "10px 10px 10px 10px",
       "width": "200px"
      }
     },
     "2f2c7e07644f408e818d1c51b1829aea": {
      "model_module": "@jupyter-widgets/base",
      "model_module_version": "1.1.0",
      "model_name": "LayoutModel",
      "state": {
       "margin": "5px 5px 5px 10px",
       "width": "800px"
      }
     },
     "30f5d1109c774f359594866ffabb002e": {
      "model_module": "@jupyter-widgets/controls",
      "model_module_version": "1.4.0",
      "model_name": "DescriptionStyleModel",
      "state": {
       "description_width": ""
      }
     },
     "333838e01be84231ba78ec9463296ff7": {
      "model_module": "plotlywidget",
      "model_module_version": "^0.3.0",
      "model_name": "FigureModel",
      "state": {
       "_data": [
        {
         "hoverinfo": "none",
         "line": {
          "color": "rgb(180,180,180)",
          "width": 1.5
         },
         "mode": "lines",
         "type": "scatter",
         "uid": "b53b7d4c-dd30-11e8-883a-186590de8425",
         "x": [
          -6.575373031710142,
          -5.915495274932166,
          null,
          -5.915495274932166,
          -5.211926758971161,
          null,
          -5.211926758971161,
          -5.689545399065608,
          null,
          -5.211926758971161,
          -4.055695901878971,
          null,
          -5.689545399065608,
          -5.576185289096213,
          null,
          -4.055695901878971,
          -2.948928853807239,
          null,
          -5.576185289096213,
          -4.932770690837016,
          null,
          -2.948928853807239,
          -2.069785926455966,
          null,
          -4.932770690837016,
          -3.9455184330075,
          null,
          -2.069785926455966,
          -1.5296431041684873,
          null,
          0.9093046079281186,
          0.015843403285282727,
          null,
          0.015843403285282727,
          -1.046919233409529,
          null,
          -3.9455184330075,
          -2.794990860255641,
          null,
          -1.5296431041684873,
          -1.046919233409529,
          null,
          -1.046919233409529,
          -1.5786385847159696,
          null,
          -2.794990860255641,
          -1.5786385847159696,
          null,
          -1.5786385847159696,
          -1.0790934409586657,
          null,
          -1.0790934409586657,
          -0.5705368947254631,
          null,
          -0.5705368947254631,
          0.0656220975709734,
          null,
          0.0656220975709734,
          1.1912190675674872,
          null,
          0.0656220975709734,
          -0.751639967291711,
          null,
          0.0656220975709734,
          0.8346468980365664,
          null,
          1.1912190675674872,
          2.3187168841847585,
          null,
          -0.751639967291711,
          -1.2257412409098318,
          null,
          0.8346468980365664,
          1.4999801745709258,
          null,
          -1.2257412409098318,
          -1.2333112839439644,
          null,
          1.4999801745709258,
          1.6857250098210803,
          null,
          -1.2333112839439644,
          -0.6643036239891982,
          null,
          1.6857250098210803,
          1.302331558397495,
          null,
          1.302331558397495,
          0.39059486241889907,
          null,
          -0.6643036239891982,
          0.39059486241889907,
          null,
          0.39059486241889907,
          0.5201828678621673,
          null,
          0.5201828678621673,
          0.6519955996921191,
          null,
          0.6519955996921191,
          0.7754390571554165,
          null
         ],
         "y": [
          8.333436181890349,
          7.524824051005526,
          null,
          7.524824051005526,
          6.662290098776992,
          null,
          6.662290098776992,
          5.574257045616291,
          null,
          6.662290098776992,
          6.897874066622459,
          null,
          5.574257045616291,
          4.434907660474004,
          null,
          6.897874066622459,
          6.63641759941218,
          null,
          4.434907660474004,
          3.4910235579759097,
          null,
          6.63641759941218,
          5.92719320081046,
          null,
          3.4910235579759097,
          2.90630460880337,
          null,
          5.92719320081046,
          4.92987821919686,
          null,
          5.079814329304423,
          4.403022880815529,
          null,
          4.403022880815529,
          3.878261186590991,
          null,
          2.90630460880337,
          2.697734330251077,
          null,
          4.92987821919686,
          3.878261186590991,
          null,
          3.878261186590991,
          2.748600155995252,
          null,
          2.697734330251077,
          2.748600155995252,
          null,
          2.748600155995252,
          1.6821305486175582,
          null,
          1.6821305486175582,
          0.6641849992680208,
          null,
          0.6641849992680208,
          -0.3260496900746128,
          null,
          -0.3260496900746128,
          0.1546492471161393,
          null,
          -0.3260496900746128,
          -1.2441680031286613,
          null,
          -0.3260496900746128,
          -1.1398441049637882,
          null,
          0.1546492471161393,
          0.4142645101560848,
          null,
          -1.2441680031286613,
          -2.320997009539259,
          null,
          -1.1398441049637882,
          -2.066429825912662,
          null,
          -2.320997009539259,
          -3.4703897178346974,
          null,
          -2.066429825912662,
          -3.1775967353385273,
          null,
          -3.4703897178346974,
          -4.45974641526237,
          null,
          -3.1775967353385273,
          -4.24557540920658,
          null,
          -4.24557540920658,
          -4.985777591447531,
          null,
          -4.45974641526237,
          -4.985777591447531,
          null,
          -4.985777591447531,
          -6.080406341969144,
          null,
          -6.080406341969144,
          -7.114661532776206,
          null,
          -7.114661532776206,
          -8.127672961584686,
          null
         ]
        },
        {
         "hoverinfo": "text",
         "marker": {
          "color": [
           0.481698749388432,
           0.5012187622709727,
           0.5062590295836945,
           0.46461404957047747,
           0.5528334238276227,
           0.47032357291130367,
           0.45972672795428654,
           0.5553575000714429,
           0.49655602762343515,
           0.40561445622457826,
           0.48454715097608897,
           0.5492829335097789,
           0.5085944018071906,
           0.495451749011895,
           0.4964090857387164,
           0.47859824392062883,
           0.47051080977866333,
           0.4828808411785877,
           0.5180497637989137,
           0.49856757983987543,
           0.5282795689572697,
           0.512109564770097,
           0.4869921352691591,
           0.4086208546057037,
           0.5767226172507229,
           0.5975428419017138,
           0.49908394377288157,
           0.5206944614729397,
           0.4984936381215636,
           0.5196050974900862,
           0.5061113140059205,
           0.5221561686854745,
           0.5150733850473799
          ],
          "colorbar": {
           "thickness": 20,
           "tickfont": {
            "size": 10
           },
           "ticklen": 4,
           "x": 1.01
          },
          "colorscale": [
           [
            0,
            "rgb(253, 237, 176)"
           ],
           [
            0.1,
            "rgb(250, 202, 143)"
           ],
           [
            0.2,
            "rgb(245, 166, 114)"
           ],
           [
            0.3,
            "rgb(238, 132, 93)"
           ],
           [
            0.4,
            "rgb(226, 97, 82)"
           ],
           [
            0.5,
            "rgb(206, 67, 86)"
           ],
           [
            0.6,
            "rgb(179, 46, 94)"
           ],
           [
            0.7,
            "rgb(147, 31, 99)"
           ],
           [
            0.8,
            "rgb(114, 25, 95)"
           ],
           [
            0.9,
            "rgb(79, 21, 82)"
           ],
           [
            1,
            "rgb(47, 15, 61)"
           ]
          ],
          "line": {
           "color": "rgb(200,200,200)",
           "width": 1
          },
          "opacity": 1,
          "showscale": true,
          "size": [
           18,
           18,
           18,
           15,
           15,
           15,
           15,
           15,
           15,
           6,
           18,
           12,
           12,
           21,
           12,
           21,
           21,
           21,
           21,
           18,
           12,
           15,
           15,
           12,
           15,
           15,
           15,
           15,
           15,
           18,
           18,
           18,
           12
          ]
         },
         "mode": "markers",
         "text": [
          "cube0_cluster0",
          "cube1_cluster0",
          "cube2_cluster0",
          "cube3_cluster0",
          "cube3_cluster1",
          "cube4_cluster0",
          "cube4_cluster1",
          "cube5_cluster0",
          "cube5_cluster1",
          "cube5_cluster2",
          "cube6_cluster0",
          "cube6_cluster1",
          "cube6_cluster2",
          "cube7_cluster0",
          "cube7_cluster1",
          "cube8_cluster0",
          "cube9_cluster0",
          "cube10_cluster0",
          "cube11_cluster0",
          "cube12_cluster0",
          "cube12_cluster1",
          "cube12_cluster2",
          "cube13_cluster0",
          "cube13_cluster1",
          "cube13_cluster2",
          "cube14_cluster0",
          "cube14_cluster1",
          "cube15_cluster0",
          "cube15_cluster1",
          "cube16_cluster0",
          "cube17_cluster0",
          "cube18_cluster0",
          "cube19_cluster0"
         ],
         "type": "scatter",
         "uid": "b53b7eca-dd30-11e8-834c-186590de8425",
         "x": [
          -6.575373031710142,
          -5.915495274932166,
          -5.211926758971161,
          -5.689545399065608,
          -4.055695901878971,
          -5.576185289096213,
          -2.948928853807239,
          -4.932770690837016,
          -2.069785926455966,
          0.9093046079281186,
          0.015843403285282727,
          -3.9455184330075,
          -1.5296431041684873,
          -1.046919233409529,
          -2.794990860255641,
          -1.5786385847159696,
          -1.0790934409586657,
          -0.5705368947254631,
          0.0656220975709734,
          1.1912190675674872,
          -0.751639967291711,
          0.8346468980365664,
          -1.2257412409098318,
          2.3187168841847585,
          1.4999801745709258,
          -1.2333112839439644,
          1.6857250098210803,
          1.302331558397495,
          -0.6643036239891982,
          0.39059486241889907,
          0.5201828678621673,
          0.6519955996921191,
          0.7754390571554165
         ],
         "y": [
          8.333436181890349,
          7.524824051005526,
          6.662290098776992,
          5.574257045616291,
          6.897874066622459,
          4.434907660474004,
          6.63641759941218,
          3.4910235579759097,
          5.92719320081046,
          5.079814329304423,
          4.403022880815529,
          2.90630460880337,
          4.92987821919686,
          3.878261186590991,
          2.697734330251077,
          2.748600155995252,
          1.6821305486175582,
          0.6641849992680208,
          -0.3260496900746128,
          0.1546492471161393,
          -1.2441680031286613,
          -1.1398441049637882,
          -2.320997009539259,
          0.4142645101560848,
          -2.066429825912662,
          -3.4703897178346974,
          -3.1775967353385273,
          -4.24557540920658,
          -4.45974641526237,
          -4.985777591447531,
          -6.080406341969144,
          -7.114661532776206,
          -8.127672961584686
         ]
        }
       ],
       "_js2py_pointsCallback": {},
       "_js2py_relayout": {},
       "_js2py_restyle": {},
       "_js2py_update": {},
       "_layout": {
        "annotations": [
         {
          "align": "left",
          "font": {
           "size": 12
          },
          "showarrow": false,
          "text": "<b>N_cubes:</b> 20 <b>Perc_overlap:</b> 0.1<br><b>Nodes:</b> 33 <b>Edges:</b> 34 <b>Total samples:</b> 5501 <b>Unique_samples:</b> 5000",
          "x": 0,
          "xanchor": "left",
          "xref": "paper",
          "y": -0.01,
          "yanchor": "top",
          "yref": "paper"
         }
        ],
        "autosize": false,
        "font": {
         "size": 12
        },
        "height": 500,
        "hovermode": "closest",
        "margin": {
         "b": 35,
         "l": 10,
         "r": 60,
         "t": 100
        },
        "plot_bgcolor": "rgba(240, 240, 240, 0.95)",
        "showlegend": false,
        "title": "Dashboard plot",
        "width": 600,
        "xaxis": {
         "visible": false
        },
        "yaxis": {
         "visible": false
        }
       },
       "_py2js_addTraces": {},
       "_py2js_animate": {},
       "_py2js_deleteTraces": {},
       "_py2js_moveTraces": {},
       "_py2js_relayout": {},
       "_py2js_removeLayoutProps": {},
       "_py2js_removeTraceProps": {},
       "_py2js_restyle": {},
       "_py2js_update": {},
       "_view_count": 1
      }
     },
     "33dc553dee0e46ec8873b08f32cbb94f": {
      "model_module": "plotlywidget",
      "model_module_version": "^0.3.0",
      "model_name": "FigureModel",
      "state": {
       "_data": [
        {
         "hoverinfo": "none",
         "mode": "text",
         "text": [
          "<br><b>Projection: </b>[0]<br><b>Clusterer: </b>DBSCAN(algorithm='auto', eps=0.5, leaf_size=30, metric='euclidean',<br>    metric_params=None, min_samples=3, n_jobs=1, p=None)<br><b>Scaler: </b>MinMaxScaler(copy=True, feature_range=(0, 1))",
          ""
         ],
         "textposition": "bottom right",
         "type": "scatter",
         "uid": "b403078a-dd30-11e8-bc3b-186590de8425",
         "x": [
          0,
          600
         ],
         "y": [
          300,
          0
         ]
        }
       ],
       "_js2py_layoutDelta": {},
       "_js2py_pointsCallback": {},
       "_js2py_relayout": {},
       "_js2py_restyle": {},
       "_js2py_traceDeltas": {},
       "_js2py_update": {},
       "_layout": {
        "font": {
         "size": 12
        },
        "height": 300,
        "margin": {
         "b": 60,
         "l": 20,
         "r": 20,
         "t": 60
        },
        "plot_bgcolor": "rgb(240,240,240)",
        "title": "Algorithms and scikit-learn objects/methods",
        "width": 600,
        "xaxis": {
         "visible": false
        },
        "yaxis": {
         "range": [
          0,
          305
         ],
         "visible": false
        }
       },
       "_py2js_addTraces": {},
       "_py2js_animate": {},
       "_py2js_deleteTraces": {},
       "_py2js_moveTraces": {},
       "_py2js_relayout": {},
       "_py2js_removeLayoutProps": {},
       "_py2js_removeTraceProps": {},
       "_py2js_restyle": {},
       "_py2js_update": {},
       "_view_count": 0
      }
     },
     "34069258840c4bf5a69149cea9f6e659": {
      "model_module": "@jupyter-widgets/base",
      "model_module_version": "1.1.0",
      "model_name": "LayoutModel",
      "state": {}
     },
     "3c1cb661c491487d838b4db0227e8369": {
      "model_module": "@jupyter-widgets/base",
      "model_module_version": "1.1.0",
      "model_name": "LayoutModel",
      "state": {}
     },
     "41396ca956de40c1ada962aefa6d342c": {
      "model_module": "@jupyter-widgets/base",
      "model_module_version": "1.1.0",
      "model_name": "LayoutModel",
      "state": {}
     },
     "463773852afe4309994b276eb5fafcd9": {
      "model_module": "plotlywidget",
      "model_module_version": "^0.3.0",
      "model_name": "FigureModel",
      "state": {
       "_data": [
        {
         "hoverinfo": "none",
         "mode": "text",
         "text": [
          "<br><b>Projection: </b>[0]<br><b>Clusterer: </b>DBSCAN(algorithm='auto', eps=0.5, leaf_size=30, metric='euclidean',<br>    metric_params=None, min_samples=3, n_jobs=1, p=None)<br><b>Scaler: </b>MinMaxScaler(copy=True, feature_range=(0, 1))",
          ""
         ],
         "textposition": "bottom right",
         "type": "scatter",
         "uid": "b44f4e10-dd30-11e8-9ad8-186590de8425",
         "x": [
          0,
          600
         ],
         "y": [
          300,
          0
         ]
        }
       ],
       "_js2py_pointsCallback": {},
       "_js2py_relayout": {},
       "_js2py_restyle": {},
       "_js2py_update": {},
       "_layout": {
        "font": {
         "size": 12
        },
        "height": 300,
        "margin": {
         "b": 60,
         "l": 20,
         "r": 20,
         "t": 60
        },
        "plot_bgcolor": "rgb(240,240,240)",
        "title": "Algorithms and scikit-learn objects/methods",
        "width": 600,
        "xaxis": {
         "visible": false
        },
        "yaxis": {
         "range": [
          0,
          305
         ],
         "visible": false
        }
       },
       "_py2js_addTraces": {},
       "_py2js_animate": {},
       "_py2js_deleteTraces": {},
       "_py2js_moveTraces": {},
       "_py2js_relayout": {},
       "_py2js_removeLayoutProps": {},
       "_py2js_removeTraceProps": {},
       "_py2js_restyle": {},
       "_py2js_update": {},
       "_view_count": 1
      }
     },
     "49c29e0b9511446383efdca940eadb6f": {
      "model_module": "@jupyter-widgets/controls",
      "model_module_version": "1.4.0",
      "model_name": "DescriptionStyleModel",
      "state": {
       "description_width": ""
      }
     },
     "4f6386a5ca69408c8560c5be74a5ef8e": {
      "model_module": "@jupyter-widgets/controls",
      "model_module_version": "1.4.0",
      "model_name": "TextModel",
      "state": {
       "description": "Cluster size:",
       "layout": "IPY_MODEL_2dabd71f3e664a9997a0d6d4cfca64a8",
       "style": "IPY_MODEL_9214c8cd2a8045a384342381bbe23752",
       "value": "166"
      }
     },
     "515d61c534364efbbb4babddb065b3a1": {
      "model_module": "@jupyter-widgets/base",
      "model_module_version": "1.1.0",
      "model_name": "LayoutModel",
      "state": {}
     },
     "554364c14cd54e34b44d64f9d5e49c43": {
      "model_module": "@jupyter-widgets/controls",
      "model_module_version": "1.4.0",
      "model_name": "DescriptionStyleModel",
      "state": {
       "description_width": ""
      }
     },
     "578f70d9a2f247348b6ad33658b4556f": {
      "model_module": "@jupyter-widgets/controls",
      "model_module_version": "1.4.0",
      "model_name": "DescriptionStyleModel",
      "state": {
       "description_width": ""
      }
     },
     "65950541da3643489acc2fc95fb164c4": {
      "model_module": "plotlywidget",
      "model_module_version": "^0.3.0",
      "model_name": "FigureModel",
      "state": {
       "_data": [
        {
         "hoverinfo": "none",
         "line": {
          "color": "rgb(180,180,180)",
          "width": 1.5
         },
         "mode": "lines",
         "type": "scatter",
         "uid": "b3f20d0c-dd30-11e8-8982-186590de8425",
         "x": [
          -0.8772971542443342,
          -0.5303104213060896,
          null,
          -0.5303104213060896,
          -0.15293721405256447,
          null,
          -0.15293721405256447,
          1.024956903283354,
          null,
          -0.15293721405256447,
          -0.9529319030710716,
          null,
          1.024956903283354,
          1.941431359724103,
          null,
          -0.9529319030710716,
          -1.300522943418172,
          null,
          1.941431359724103,
          2.419595856984271,
          null,
          -1.300522943418172,
          -1.1435455318636352,
          null,
          2.419595856984271,
          2.411362728938898,
          null,
          -1.1435455318636352,
          -0.5699481387534046,
          null,
          -1.957436353662641,
          -0.9157591536326394,
          null,
          -0.9157591536326394,
          0.08117942324283446,
          null,
          2.411362728938898,
          1.995284543949053,
          null,
          -0.5699481387534046,
          0.08117942324283446,
          null,
          0.08117942324283446,
          1.3234438956901342,
          null,
          1.995284543949053,
          1.3234438956901342,
          null,
          1.3234438956901342,
          1.9784374126424888,
          null,
          1.9784374126424888,
          2.588483876211641,
          null,
          2.588483876211641,
          3.1084945499342584,
          null,
          3.1084945499342584,
          2.115857934391152,
          null,
          3.1084945499342584,
          4.316901143065762,
          null,
          3.1084945499342584,
          3.408625528635011,
          null,
          2.115857934391152,
          1.3115947013337494,
          null,
          4.316901143065762,
          5.484240732615743,
          null,
          3.408625528635011,
          3.8603051449073025,
          null,
          5.484240732615743,
          6.472882640305632,
          null,
          3.8603051449073025,
          4.716257338049755,
          null,
          6.472882640305632,
          7.027089256428424,
          null,
          4.716257338049755,
          5.829103891368091,
          null,
          5.829103891368091,
          6.933862637518454,
          null,
          7.027089256428424,
          6.933862637518454,
          null,
          6.933862637518454,
          7.807388251358598,
          null,
          7.807388251358598,
          8.62448038926814,
          null,
          8.62448038926814,
          9.423386699020686,
          null
         ],
         "y": [
          -6.754721218226278,
          -5.770355340987051,
          null,
          -5.770355340987051,
          -4.723616672059539,
          null,
          -4.723616672059539,
          -4.569977782694341,
          null,
          -4.723616672059539,
          -3.854524783077684,
          null,
          -4.569977782694341,
          -3.885465355819862,
          null,
          -3.854524783077684,
          -2.7714098331710466,
          null,
          -3.885465355819862,
          -2.8474383985042016,
          null,
          -2.7714098331710466,
          -1.653337287857474,
          null,
          -2.8474383985042016,
          -1.6998084081936786,
          null,
          -1.653337287857474,
          -0.6755316897468611,
          null,
          1.3350528349380182,
          0.920616642853721,
          null,
          0.920616642853721,
          0.2803557861496834,
          null,
          -1.6998084081936786,
          -0.6074235585552299,
          null,
          -0.6755316897468611,
          0.2803557861496834,
          null,
          0.2803557861496834,
          0.4086197002383613,
          null,
          -0.6074235585552299,
          0.4086197002383613,
          null,
          0.4086197002383613,
          1.3860180905413901,
          null,
          1.3860180905413901,
          2.3472280102668086,
          null,
          2.3472280102668086,
          3.4033650677054617,
          null,
          3.4033650677054617,
          4.119700360317295,
          null,
          3.4033650677054617,
          3.1765332016384065,
          null,
          3.4033650677054617,
          4.481367071962423,
          null,
          4.119700360317295,
          4.95216444063049,
          null,
          3.1765332016384065,
          3.3255199126637343,
          null,
          4.481367071962423,
          5.529708543804752,
          null,
          3.3255199126637343,
          3.9120365083767954,
          null,
          5.529708543804752,
          6.262346781353538,
          null,
          3.9120365083767954,
          4.909347949562405,
          null,
          6.262346781353538,
          6.484299840408846,
          null,
          6.484299840408846,
          6.084057240275745,
          null,
          4.909347949562405,
          6.084057240275745,
          null,
          6.084057240275745,
          6.757250670300784,
          null,
          6.757250670300784,
          7.403617622862813,
          null,
          7.403617622862813,
          8.038965505658755,
          null
         ]
        },
        {
         "hoverinfo": "text",
         "marker": {
          "color": [
           0.481698749388432,
           0.5012187622709727,
           0.5062590295836945,
           0.46461404957047747,
           0.5528334238276227,
           0.47032357291130367,
           0.45972672795428654,
           0.5553575000714429,
           0.49655602762343515,
           0.40561445622457826,
           0.48454715097608897,
           0.5492829335097789,
           0.5085944018071906,
           0.495451749011895,
           0.4964090857387164,
           0.47859824392062883,
           0.47051080977866333,
           0.4828808411785877,
           0.5180497637989137,
           0.49856757983987543,
           0.5282795689572697,
           0.512109564770097,
           0.4869921352691591,
           0.4086208546057037,
           0.5767226172507229,
           0.5975428419017138,
           0.49908394377288157,
           0.5206944614729397,
           0.4984936381215636,
           0.5196050974900862,
           0.5061113140059205,
           0.5221561686854745,
           0.5150733850473799
          ],
          "colorbar": {
           "thickness": 20,
           "tickfont": {
            "size": 10
           },
           "ticklen": 4,
           "x": 1.01
          },
          "colorscale": [
           [
            0,
            "rgb(68, 1, 84)"
           ],
           [
            0.1,
            "rgb(72, 35, 116)"
           ],
           [
            0.2,
            "rgb(64, 67, 135)"
           ],
           [
            0.3,
            "rgb(52, 94, 141)"
           ],
           [
            0.4,
            "rgb(41, 120, 142)"
           ],
           [
            0.5,
            "rgb(32, 144, 140)"
           ],
           [
            0.6,
            "rgb(34, 167, 132)"
           ],
           [
            0.7,
            "rgb(68, 190, 112)"
           ],
           [
            0.8,
            "rgb(121, 209, 81)"
           ],
           [
            0.9,
            "rgb(189, 222, 38)"
           ],
           [
            1,
            "rgb(253, 231, 36)"
           ]
          ],
          "line": {
           "color": "rgb(200,200,200)",
           "width": 1
          },
          "opacity": 1,
          "showscale": true,
          "size": [
           18,
           18,
           18,
           15,
           15,
           15,
           15,
           15,
           15,
           6,
           18,
           12,
           12,
           21,
           12,
           21,
           21,
           21,
           21,
           18,
           12,
           15,
           15,
           12,
           15,
           15,
           15,
           15,
           15,
           18,
           18,
           18,
           12
          ]
         },
         "mode": "markers",
         "text": [
          "cube0_cluster0",
          "cube1_cluster0",
          "cube2_cluster0",
          "cube3_cluster0",
          "cube3_cluster1",
          "cube4_cluster0",
          "cube4_cluster1",
          "cube5_cluster0",
          "cube5_cluster1",
          "cube5_cluster2",
          "cube6_cluster0",
          "cube6_cluster1",
          "cube6_cluster2",
          "cube7_cluster0",
          "cube7_cluster1",
          "cube8_cluster0",
          "cube9_cluster0",
          "cube10_cluster0",
          "cube11_cluster0",
          "cube12_cluster0",
          "cube12_cluster1",
          "cube12_cluster2",
          "cube13_cluster0",
          "cube13_cluster1",
          "cube13_cluster2",
          "cube14_cluster0",
          "cube14_cluster1",
          "cube15_cluster0",
          "cube15_cluster1",
          "cube16_cluster0",
          "cube17_cluster0",
          "cube18_cluster0",
          "cube19_cluster0"
         ],
         "type": "scatter",
         "uid": "b3f20e8a-dd30-11e8-9229-186590de8425",
         "x": [
          -0.8772971542443342,
          -0.5303104213060896,
          -0.15293721405256447,
          1.024956903283354,
          -0.9529319030710716,
          1.941431359724103,
          -1.300522943418172,
          2.419595856984271,
          -1.1435455318636352,
          -1.957436353662641,
          -0.9157591536326394,
          2.411362728938898,
          -0.5699481387534046,
          0.08117942324283446,
          1.995284543949053,
          1.3234438956901342,
          1.9784374126424888,
          2.588483876211641,
          3.1084945499342584,
          2.115857934391152,
          4.316901143065762,
          3.408625528635011,
          5.484240732615743,
          1.3115947013337494,
          3.8603051449073025,
          6.472882640305632,
          4.716257338049755,
          5.829103891368091,
          7.027089256428424,
          6.933862637518454,
          7.807388251358598,
          8.62448038926814,
          9.423386699020686
         ],
         "y": [
          -6.754721218226278,
          -5.770355340987051,
          -4.723616672059539,
          -4.569977782694341,
          -3.854524783077684,
          -3.885465355819862,
          -2.7714098331710466,
          -2.8474383985042016,
          -1.653337287857474,
          1.3350528349380182,
          0.920616642853721,
          -1.6998084081936786,
          -0.6755316897468611,
          0.2803557861496834,
          -0.6074235585552299,
          0.4086197002383613,
          1.3860180905413901,
          2.3472280102668086,
          3.4033650677054617,
          4.119700360317295,
          3.1765332016384065,
          4.481367071962423,
          3.3255199126637343,
          4.95216444063049,
          5.529708543804752,
          3.9120365083767954,
          6.262346781353538,
          6.484299840408846,
          4.909347949562405,
          6.084057240275745,
          6.757250670300784,
          7.403617622862813,
          8.038965505658755
         ]
        }
       ],
       "_js2py_pointsCallback": {},
       "_js2py_relayout": {},
       "_js2py_restyle": {},
       "_js2py_update": {},
       "_layout": {
        "annotations": [
         {
          "align": "left",
          "font": {
           "size": 12
          },
          "showarrow": false,
          "text": "<b>N_cubes:</b> 20 <b>Perc_overlap:</b> 0.1<br><b>Nodes:</b> 33 <b>Edges:</b> 34 <b>Total samples:</b> 5501 <b>Unique_samples:</b> 5000",
          "x": 0,
          "xanchor": "left",
          "xref": "paper",
          "y": -0.01,
          "yanchor": "top",
          "yref": "paper"
         }
        ],
        "autosize": false,
        "font": {
         "size": 12
        },
        "height": 500,
        "hovermode": "closest",
        "margin": {
         "b": 35,
         "l": 10,
         "r": 60,
         "t": 100
        },
        "plot_bgcolor": "rgba(240, 240, 240, 0.95)",
        "showlegend": false,
        "title": "Dashboard plot",
        "width": 600,
        "xaxis": {
         "visible": false
        },
        "yaxis": {
         "visible": false
        }
       },
       "_py2js_addTraces": {},
       "_py2js_animate": {},
       "_py2js_deleteTraces": {},
       "_py2js_moveTraces": {},
       "_py2js_relayout": {},
       "_py2js_removeLayoutProps": {},
       "_py2js_removeTraceProps": {},
       "_py2js_restyle": {},
       "_py2js_update": {},
       "_view_count": 1
      }
     },
     "66b6a5a3c7924136b4ccb7a1a1c690df": {
      "model_module": "@jupyter-widgets/base",
      "model_module_version": "1.1.0",
      "model_name": "LayoutModel",
      "state": {}
     },
     "6736a7e7a38b430cade8f45c3bd6aaee": {
      "model_module": "@jupyter-widgets/base",
      "model_module_version": "1.1.0",
      "model_name": "LayoutModel",
      "state": {}
     },
     "67c1a7491250451888e14ebdc1885bc8": {
      "model_module": "@jupyter-widgets/controls",
      "model_module_version": "1.4.0",
      "model_name": "TextModel",
      "state": {
       "description": "Cluster size:",
       "layout": "IPY_MODEL_bf40907b55a04d91b391e59432cc1ecd",
       "style": "IPY_MODEL_a6cefcda4bbb4872ba0ee4903c23ffcc",
       "value": "166"
      }
     },
     "737175081ff54a929f72653cfe5a1205": {
      "model_module": "@jupyter-widgets/controls",
      "model_module_version": "1.4.0",
      "model_name": "TextareaModel",
      "state": {
       "description": "Members:",
       "layout": "IPY_MODEL_cb6a6a9c9d1c4a3b8b5714d3131fc59e",
       "style": "IPY_MODEL_cb23eb1663464d57ab3bfc3f0061bc43",
       "value": "51, 54, 62, 73, 108, 131, 166, 196, 200, 211, 245, 247, 283, 288, 317, 335, 346, 392, 404, 447, 448, 488, 497, 498, 552, 564, 693, 699, 701, 720, 744, 779, 780, 820, 840, 866, 875, 939, 945, 951, 1067, 1095, 1143, 1150, 1164, 1191, 1209, 1212, 1266, 1306, 1308, 1332, 1345, 1405, 1487, 1502, 1522, 1538, 1542, 1552, 1636, 1643, 1653, 1725, 1766, 1806, 1819, 1830, 1856, 1859, 1866, 1868, 1933, 1948, 1953, 2053, 2061, 2096, 2231, 2234, 2242, 2290, 2355, 2381, 2436, 2446, 2465, 2480, 2494, 2578, 2630, 2695, 2703, 2709, 2715, 2814, 2876, 2962, 2971, 2988, 2992, 3051, 3053, 3084, 3104, 3143, 3219, 3220, 3226, 3244, 3258, 3329, 3369, 3498, 3528, 3542, 3548, 3589, 3596, 3602, 3613, 3621, 3625, 3675, 3698, 3808, 3811, 3854, 3905, 3927, 3954, 3961, 3984, 3987, 4018, 4146, 4189, 4190, 4195, 4201, 4259, 4268, 4291, 4334, 4364, 4400, 4446, 4449, 4490, 4571, 4586, 4589, 4630, 4644, 4659, 4703, 4712, 4719, 4724, 4737, 4765, 4840, 4866, 4909, 4911, 4950"
      }
     },
     "73edd826125b40afbe72b674e9add5d7": {
      "model_module": "plotlywidget",
      "model_module_version": "^0.3.0",
      "model_name": "FigureModel",
      "state": {
       "_data": [
        {
         "hoverinfo": "none",
         "line": {
          "color": "rgb(180,180,180)",
          "width": 1.5
         },
         "mode": "lines",
         "type": "scatter",
         "uid": "b8bcdaee-dd30-11e8-bd0e-186590de8425",
         "x": [
          -2.83785164237817,
          -2.1142834866221727,
          null,
          -2.1142834866221727,
          -1.3607673574092496,
          null,
          -1.3607673574092496,
          -1.778962953101046,
          null,
          -1.3607673574092496,
          -0.21913728820067718,
          null,
          -1.778962953101046,
          -1.6078778811748091,
          null,
          -0.21913728820067718,
          0.9028179697017501,
          null,
          -1.6078778811748091,
          -0.9184992238418469,
          null,
          0.9028179697017501,
          1.8218066700778741,
          null,
          -0.9184992238418469,
          0.10301656130993725,
          null,
          1.8218066700778741,
          2.4167747529941184,
          null,
          4.817478399399434,
          3.9811378908599857,
          null,
          3.9811378908599857,
          2.9515261389955243,
          null,
          0.10301656130993725,
          1.2656704786920838,
          null,
          2.4167747529941184,
          2.9515261389955243,
          null,
          2.9515261389955243,
          2.4802582611736237,
          null,
          1.2656704786920838,
          2.4802582611736237,
          null,
          2.4802582611736237,
          3.02505942507756,
          null,
          3.02505942507756,
          3.4760622105655314,
          null,
          3.4760622105655314,
          3.8714944755305094,
          null,
          3.8714944755305094,
          2.8123516842387466,
          null,
          3.8714944755305094,
          4.053331246461152,
          null,
          3.8714944755305094,
          5.094250475117756,
          null,
          2.8123516842387466,
          1.9416800666599388,
          null,
          4.053331246461152,
          4.382473060175232,
          null,
          5.094250475117756,
          6.239732133898351,
          null,
          4.382473060175232,
          5.155380784183447,
          null,
          6.239732133898351,
          7.159319281342823,
          null,
          5.155380784183447,
          6.241878476206858,
          null,
          7.159319281342823,
          7.600150630826571,
          null,
          7.600150630826571,
          7.381709540333067,
          null,
          6.241878476206858,
          7.381709540333067,
          null,
          7.381709540333067,
          8.178510477398735,
          null,
          8.178510477398735,
          8.898172364993071,
          null,
          8.898172364993071,
          9.611769783723878,
          null
         ],
         "y": [
          8.286822418761878,
          7.534706634226715,
          null,
          7.534706634226715,
          6.7159036546116715,
          null,
          6.7159036546116715,
          5.601949637278198,
          null,
          6.7159036546116715,
          7.024499907665243,
          null,
          5.601949637278198,
          4.471478181653605,
          null,
          7.024499907665243,
          6.829829410197427,
          null,
          4.471478181653605,
          3.5634255226330556,
          null,
          6.829829410197427,
          6.171480866650284,
          null,
          3.5634255226330556,
          3.0464202402670004,
          null,
          6.171480866650284,
          5.2031184818978895,
          null,
          5.488793284163304,
          4.746831485997729,
          null,
          4.746831485997729,
          4.1732008040647575,
          null,
          3.0464202402670004,
          2.9173374735305946,
          null,
          5.2031184818978895,
          4.1732008040647575,
          null,
          4.1732008040647575,
          3.020604206196106,
          null,
          2.9173374735305946,
          3.020604206196106,
          null,
          3.020604206196106,
          1.976774524333916,
          null,
          1.976774524333916,
          0.9302215568247202,
          null,
          0.9302215568247202,
          -0.18048925925172088,
          null,
          -0.18048925925172088,
          -0.7898183998715639,
          null,
          -0.18048925925172088,
          -1.2871359603212662,
          null,
          -0.18048925925172088,
          -0.0769981015750374,
          null,
          -0.7898183998715639,
          -1.5517813289032314,
          null,
          -1.2871359603212662,
          -2.3813391994967024,
          null,
          -0.0769981015750374,
          -0.33847312798765133,
          null,
          -2.3813391994967024,
          -3.201378502278852,
          null,
          -0.33847312798765133,
          -1.0254404449742283,
          null,
          -3.201378502278852,
          -3.528264534710493,
          null,
          -1.0254404449742283,
          -2.0780601806605286,
          null,
          -2.0780601806605286,
          -3.237763967883759,
          null,
          -3.528264534710493,
          -3.237763967883759,
          null,
          -3.237763967883759,
          -4.000229149671617,
          null,
          -4.000229149671617,
          -4.75381671709363,
          null,
          -4.75381671709363,
          -5.4824177743587805,
          null
         ]
        },
        {
         "hoverinfo": "text",
         "marker": {
          "color": [
           0.481698749388432,
           0.5012187622709727,
           0.5062590295836945,
           0.46461404957047747,
           0.5528334238276227,
           0.47032357291130367,
           0.45972672795428654,
           0.5553575000714429,
           0.49655602762343515,
           0.40561445622457826,
           0.48454715097608897,
           0.5492829335097789,
           0.5085944018071906,
           0.495451749011895,
           0.4964090857387164,
           0.47859824392062883,
           0.47051080977866333,
           0.4828808411785877,
           0.5180497637989137,
           0.49856757983987543,
           0.5282795689572697,
           0.512109564770097,
           0.4869921352691591,
           0.4086208546057037,
           0.5767226172507229,
           0.5975428419017138,
           0.49908394377288157,
           0.5206944614729397,
           0.4984936381215636,
           0.5196050974900862,
           0.5061113140059205,
           0.5221561686854745,
           0.5150733850473799
          ],
          "colorbar": {
           "thickness": 20,
           "tickfont": {
            "size": 10
           },
           "ticklen": 4,
           "x": 1.01
          },
          "colorscale": [
           [
            0,
            "rgb(253, 237, 176)"
           ],
           [
            0.1,
            "rgb(250, 202, 143)"
           ],
           [
            0.2,
            "rgb(245, 166, 114)"
           ],
           [
            0.3,
            "rgb(238, 132, 93)"
           ],
           [
            0.4,
            "rgb(226, 97, 82)"
           ],
           [
            0.5,
            "rgb(206, 67, 86)"
           ],
           [
            0.6,
            "rgb(179, 46, 94)"
           ],
           [
            0.7,
            "rgb(147, 31, 99)"
           ],
           [
            0.8,
            "rgb(114, 25, 95)"
           ],
           [
            0.9,
            "rgb(79, 21, 82)"
           ],
           [
            1,
            "rgb(47, 15, 61)"
           ]
          ],
          "line": {
           "color": "rgb(200,200,200)",
           "width": 1
          },
          "opacity": 1,
          "showscale": true,
          "size": [
           18,
           18,
           18,
           15,
           15,
           15,
           15,
           15,
           15,
           6,
           18,
           12,
           12,
           21,
           12,
           21,
           21,
           21,
           21,
           18,
           12,
           15,
           15,
           12,
           15,
           15,
           15,
           15,
           15,
           18,
           18,
           18,
           12
          ]
         },
         "mode": "markers",
         "text": [
          "cube0_cluster0",
          "cube1_cluster0",
          "cube2_cluster0",
          "cube3_cluster0",
          "cube3_cluster1",
          "cube4_cluster0",
          "cube4_cluster1",
          "cube5_cluster0",
          "cube5_cluster1",
          "cube5_cluster2",
          "cube6_cluster0",
          "cube6_cluster1",
          "cube6_cluster2",
          "cube7_cluster0",
          "cube7_cluster1",
          "cube8_cluster0",
          "cube9_cluster0",
          "cube10_cluster0",
          "cube11_cluster0",
          "cube12_cluster0",
          "cube12_cluster1",
          "cube12_cluster2",
          "cube13_cluster0",
          "cube13_cluster1",
          "cube13_cluster2",
          "cube14_cluster0",
          "cube14_cluster1",
          "cube15_cluster0",
          "cube15_cluster1",
          "cube16_cluster0",
          "cube17_cluster0",
          "cube18_cluster0",
          "cube19_cluster0"
         ],
         "type": "scatter",
         "uid": "b8bcdc4c-dd30-11e8-92fc-186590de8425",
         "x": [
          -2.83785164237817,
          -2.1142834866221727,
          -1.3607673574092496,
          -1.778962953101046,
          -0.21913728820067718,
          -1.6078778811748091,
          0.9028179697017501,
          -0.9184992238418469,
          1.8218066700778741,
          4.817478399399434,
          3.9811378908599857,
          0.10301656130993725,
          2.4167747529941184,
          2.9515261389955243,
          1.2656704786920838,
          2.4802582611736237,
          3.02505942507756,
          3.4760622105655314,
          3.8714944755305094,
          2.8123516842387466,
          4.053331246461152,
          5.094250475117756,
          4.382473060175232,
          1.9416800666599388,
          6.239732133898351,
          5.155380784183447,
          7.159319281342823,
          7.600150630826571,
          6.241878476206858,
          7.381709540333067,
          8.178510477398735,
          8.898172364993071,
          9.611769783723878
         ],
         "y": [
          8.286822418761878,
          7.534706634226715,
          6.7159036546116715,
          5.601949637278198,
          7.024499907665243,
          4.471478181653605,
          6.829829410197427,
          3.5634255226330556,
          6.171480866650284,
          5.488793284163304,
          4.746831485997729,
          3.0464202402670004,
          5.2031184818978895,
          4.1732008040647575,
          2.9173374735305946,
          3.020604206196106,
          1.976774524333916,
          0.9302215568247202,
          -0.18048925925172088,
          -0.7898183998715639,
          -1.2871359603212662,
          -0.0769981015750374,
          -2.3813391994967024,
          -1.5517813289032314,
          -0.33847312798765133,
          -3.201378502278852,
          -1.0254404449742283,
          -2.0780601806605286,
          -3.528264534710493,
          -3.237763967883759,
          -4.000229149671617,
          -4.75381671709363,
          -5.4824177743587805
         ]
        }
       ],
       "_js2py_relayout": {},
       "_js2py_restyle": {},
       "_js2py_update": {},
       "_layout": {
        "annotations": [
         {
          "align": "left",
          "font": {
           "size": 12
          },
          "showarrow": false,
          "text": "<b>N_cubes:</b> 20 <b>Perc_overlap:</b> 0.1<br><b>Nodes:</b> 33 <b>Edges:</b> 34 <b>Total samples:</b> 5501 <b>Unique_samples:</b> 5000",
          "x": 0,
          "xanchor": "left",
          "xref": "paper",
          "y": -0.01,
          "yanchor": "top",
          "yref": "paper"
         }
        ],
        "autosize": false,
        "font": {
         "size": 12
        },
        "height": 500,
        "hovermode": "closest",
        "margin": {
         "b": 35,
         "l": 10,
         "r": 60,
         "t": 100
        },
        "plot_bgcolor": "rgba(240, 240, 240, 0.95)",
        "showlegend": false,
        "title": "Dashboard plot",
        "width": 600,
        "xaxis": {
         "visible": false
        },
        "yaxis": {
         "visible": false
        }
       },
       "_py2js_addTraces": {},
       "_py2js_animate": {},
       "_py2js_deleteTraces": {},
       "_py2js_moveTraces": {},
       "_py2js_relayout": {},
       "_py2js_removeLayoutProps": {},
       "_py2js_removeTraceProps": {},
       "_py2js_restyle": {},
       "_py2js_update": {},
       "_view_count": 1
      }
     },
     "74c2228b931f493592f68f477656585a": {
      "model_module": "plotlywidget",
      "model_module_version": "^0.3.0",
      "model_name": "FigureModel",
      "state": {
       "_data": [
        {
         "hoverinfo": "y+text",
         "marker": {
          "color": [
           "rgb(70, 18, 100)",
           "rgb(68, 51, 125)",
           "rgb(58, 80, 138)",
           "rgb(46, 107, 141)",
           "rgb(36, 131, 141)",
           "rgb(33, 155, 136)",
           "rgb(51, 178, 121)",
           "rgb(94, 199, 96)",
           "rgb(155, 215, 59)",
           "rgb(220, 226, 37)"
          ]
         },
         "text": [
          "0.0%",
          "0.0%",
          "0.0%",
          "0.0%",
          "51.5%",
          "48.5%",
          "0.0%",
          "0.0%",
          "0.0%",
          "0.0%"
         ],
         "type": "bar",
         "uid": "b44acb2e-dd30-11e8-b547-186590de8425",
         "y": [
          0,
          0,
          0,
          0,
          100,
          94,
          0,
          0,
          0,
          0
         ]
        }
       ],
       "_js2py_pointsCallback": {},
       "_js2py_relayout": {},
       "_js2py_restyle": {},
       "_js2py_update": {},
       "_layout": {
        "bargap": 0.01,
        "font": {
         "size": 12
        },
        "height": 300,
        "hovermode": "x",
        "margin": {
         "b": 60,
         "l": 25,
         "r": 25,
         "t": 60
        },
        "plot_bgcolor": "rgb(240,240,240)",
        "title": "Graph Node Distribution",
        "width": 400,
        "xaxis": {
         "showgrid": false,
         "showline": true,
         "showticklabels": false,
         "zeroline": false
        },
        "yaxis": {
         "gridcolor": "white",
         "showline": false,
         "tickfont": {
          "size": 10
         }
        }
       },
       "_py2js_addTraces": {},
       "_py2js_animate": {},
       "_py2js_deleteTraces": {},
       "_py2js_moveTraces": {},
       "_py2js_relayout": {},
       "_py2js_removeLayoutProps": {},
       "_py2js_removeTraceProps": {},
       "_py2js_restyle": {},
       "_py2js_update": {},
       "_view_count": 1
      }
     },
     "74c85df429044f628f973b1f8ad703d8": {
      "model_module": "plotlywidget",
      "model_module_version": "^0.3.0",
      "model_name": "FigureModel",
      "state": {
       "_data": [
        {
         "hoverinfo": "y+text",
         "marker": {
          "color": [
           "rgb(189, 23, 38)",
           "rgb(229, 78, 52)",
           "rgb(248, 140, 81)",
           "rgb(253, 198, 120)",
           "rgb(254, 239, 168)",
           "rgb(238, 248, 219)",
           "rgb(196, 229, 239)",
           "rgb(142, 194, 220)",
           "rgb(91, 143, 193)",
           "rgb(58, 84, 164)"
          ]
         },
         "text": [
          "0.0%",
          "0.0%",
          "0.0%",
          "0.0%",
          "51.5%",
          "48.5%",
          "0.0%",
          "0.0%",
          "0.0%",
          "0.0%"
         ],
         "type": "bar",
         "uid": "b6dbd8e2-dd30-11e8-a858-186590de8425",
         "y": [
          0,
          0,
          0,
          0,
          100,
          94,
          0,
          0,
          0,
          0
         ]
        }
       ],
       "_js2py_layoutDelta": {},
       "_js2py_pointsCallback": {},
       "_js2py_relayout": {},
       "_js2py_restyle": {},
       "_js2py_traceDeltas": {},
       "_js2py_update": {},
       "_layout": {
        "bargap": 0.01,
        "font": {
         "size": 12
        },
        "height": 300,
        "hovermode": "x",
        "margin": {
         "b": 60,
         "l": 25,
         "r": 25,
         "t": 60
        },
        "plot_bgcolor": "rgb(240,240,240)",
        "title": "Graph Node Distribution",
        "width": 400,
        "xaxis": {
         "showgrid": false,
         "showline": true,
         "showticklabels": false,
         "zeroline": false
        },
        "yaxis": {
         "gridcolor": "white",
         "showline": false,
         "tickfont": {
          "size": 10
         }
        }
       },
       "_py2js_addTraces": {},
       "_py2js_animate": {},
       "_py2js_deleteTraces": {},
       "_py2js_moveTraces": {},
       "_py2js_relayout": {},
       "_py2js_removeLayoutProps": {},
       "_py2js_removeTraceProps": {},
       "_py2js_restyle": {},
       "_py2js_update": {},
       "_view_count": 0
      }
     },
     "78ec78c1489747fc8100a01b3969abf2": {
      "model_module": "@jupyter-widgets/controls",
      "model_module_version": "1.4.0",
      "model_name": "DescriptionStyleModel",
      "state": {
       "description_width": ""
      }
     },
     "7987286fc5f8413495e257c30ae89448": {
      "model_module": "@jupyter-widgets/base",
      "model_module_version": "1.1.0",
      "model_name": "LayoutModel",
      "state": {
       "margin": "10px 10px 10px 10px",
       "width": "200px"
      }
     },
     "7bc77229cba944049e35bf8e3e374aba": {
      "model_module": "@jupyter-widgets/controls",
      "model_module_version": "1.4.0",
      "model_name": "HBoxModel",
      "state": {
       "children": [
        "IPY_MODEL_aadf5f82e8b347bb96ed5ba721947424",
        "IPY_MODEL_2d5248499f4b4c79938690356f787c1a"
       ],
       "layout": "IPY_MODEL_db39814acd604df983bc447cdce0e85a"
      }
     },
     "7ce6ea87e32d4b5d9ab03ccb9dd27bd0": {
      "model_module": "@jupyter-widgets/controls",
      "model_module_version": "1.4.0",
      "model_name": "VBoxModel",
      "state": {
       "children": [
        "IPY_MODEL_897f83c1fa024ab9b5da58241041204a",
        "IPY_MODEL_ee0025dcf58045fc934256a713d05eb3",
        "IPY_MODEL_107624e7bbf44bce9370c8808302278b"
       ],
       "layout": "IPY_MODEL_515d61c534364efbbb4babddb065b3a1"
      }
     },
     "7d6520b81454497d84b1b6a41164cc3f": {
      "model_module": "@jupyter-widgets/controls",
      "model_module_version": "1.4.0",
      "model_name": "TextModel",
      "state": {
       "description": "Cluster size:",
       "layout": "IPY_MODEL_9196352c6da641379347ef5df83a1735",
       "style": "IPY_MODEL_78ec78c1489747fc8100a01b3969abf2",
       "value": "166"
      }
     },
     "7fb51056204c4d3a95f915790fd034ad": {
      "model_module": "plotlywidget",
      "model_module_version": "^0.3.0",
      "model_name": "FigureModel",
      "state": {
       "_data": [
        {
         "hoverinfo": "y+text",
         "marker": {
          "color": [
           "rgb(25, 48, 106)",
           "rgb(34, 93, 156)",
           "rgb(55, 143, 168)",
           "rgb(124, 186, 185)",
           "rgb(213, 229, 200)",
           "rgb(235, 224, 149)",
           "rgb(177, 178, 52)",
           "rgb(95, 144, 20)",
           "rgb(32, 104, 36)",
           "rgb(19, 58, 30)"
          ]
         },
         "text": [
          "0.0%",
          "0.0%",
          "0.0%",
          "0.0%",
          "51.5%",
          "48.5%",
          "0.0%",
          "0.0%",
          "0.0%",
          "0.0%"
         ],
         "type": "bar",
         "uid": "b73c891c-dd30-11e8-8352-186590de8425",
         "y": [
          0,
          0,
          0,
          0,
          100,
          94,
          0,
          0,
          0,
          0
         ]
        }
       ],
       "_js2py_layoutDelta": {},
       "_js2py_pointsCallback": {},
       "_js2py_relayout": {},
       "_js2py_restyle": {},
       "_js2py_traceDeltas": {},
       "_js2py_update": {},
       "_layout": {
        "bargap": 0.01,
        "font": {
         "size": 12
        },
        "height": 300,
        "hovermode": "x",
        "margin": {
         "b": 60,
         "l": 25,
         "r": 25,
         "t": 60
        },
        "plot_bgcolor": "rgb(240,240,240)",
        "title": "Graph Node Distribution",
        "width": 400,
        "xaxis": {
         "showgrid": false,
         "showline": true,
         "showticklabels": false,
         "zeroline": false
        },
        "yaxis": {
         "gridcolor": "white",
         "showline": false,
         "tickfont": {
          "size": 10
         }
        }
       },
       "_py2js_addTraces": {},
       "_py2js_animate": {},
       "_py2js_deleteTraces": {},
       "_py2js_moveTraces": {},
       "_py2js_relayout": {},
       "_py2js_removeLayoutProps": {},
       "_py2js_removeTraceProps": {},
       "_py2js_restyle": {},
       "_py2js_update": {},
       "_view_count": 0
      }
     },
     "84db64681e18411795e8ae9d00362353": {
      "model_module": "@jupyter-widgets/controls",
      "model_module_version": "1.4.0",
      "model_name": "VBoxModel",
      "state": {
       "children": [
        "IPY_MODEL_9f65b1b6b46f409ab382f7a4a05478ba",
        "IPY_MODEL_28d7dd17e8f6478fa7da6107bfd1c783",
        "IPY_MODEL_f0ca9830ba3944f89de369441cbea090"
       ],
       "layout": "IPY_MODEL_b8fe6dbd6c9b4c2283fdbae283aa7108"
      }
     },
     "897f83c1fa024ab9b5da58241041204a": {
      "model_module": "@jupyter-widgets/controls",
      "model_module_version": "1.4.0",
      "model_name": "HBoxModel",
      "state": {
       "children": [
        "IPY_MODEL_a3caf82a02ef464b95c064ba4eefa505",
        "IPY_MODEL_b8b5dc37b9f640bb9e340caa6714c474"
       ],
       "layout": "IPY_MODEL_0b08bc77c0b143c8a468a96ac1f29af0"
      }
     },
     "8a9542a28c204190b9e3670bb5d2533f": {
      "model_module": "@jupyter-widgets/base",
      "model_module_version": "1.1.0",
      "model_name": "LayoutModel",
      "state": {}
     },
     "8d0e18bf79434dd4801405ba88e4409e": {
      "model_module": "@jupyter-widgets/base",
      "model_module_version": "1.1.0",
      "model_name": "LayoutModel",
      "state": {}
     },
     "9196352c6da641379347ef5df83a1735": {
      "model_module": "@jupyter-widgets/base",
      "model_module_version": "1.1.0",
      "model_name": "LayoutModel",
      "state": {
       "margin": "10px 10px 10px 10px",
       "width": "200px"
      }
     },
     "9214c8cd2a8045a384342381bbe23752": {
      "model_module": "@jupyter-widgets/controls",
      "model_module_version": "1.4.0",
      "model_name": "DescriptionStyleModel",
      "state": {
       "description_width": ""
      }
     },
     "97034e92fcfc400c83a0072102f4887e": {
      "model_module": "plotlywidget",
      "model_module_version": "^0.3.0",
      "model_name": "FigureModel",
      "state": {
       "_data": [
        {
         "hoverinfo": "y+text",
         "marker": {
          "color": [
           "rgb(70, 18, 100)",
           "rgb(68, 51, 125)",
           "rgb(58, 80, 138)",
           "rgb(46, 107, 141)",
           "rgb(36, 131, 141)",
           "rgb(33, 155, 136)",
           "rgb(51, 178, 121)",
           "rgb(94, 199, 96)",
           "rgb(155, 215, 59)",
           "rgb(220, 226, 37)"
          ]
         },
         "text": [
          "14.5%",
          "9.6%",
          "9.0%",
          "12.0%",
          "8.4%",
          "7.2%",
          "7.8%",
          "12.0%",
          "9.0%",
          "10.2%"
         ],
         "type": "bar",
         "uid": "b45449c6-dd30-11e8-bd4c-186590de8425",
         "y": [
          100,
          67,
          63,
          83,
          58,
          50,
          54,
          83,
          63,
          71
         ]
        }
       ],
       "_js2py_layoutDelta": {},
       "_js2py_pointsCallback": {},
       "_js2py_relayout": {},
       "_js2py_restyle": {},
       "_js2py_traceDeltas": {},
       "_js2py_update": {},
       "_layout": {
        "bargap": 0.01,
        "font": {
         "size": 12
        },
        "height": 300,
        "hovermode": "x",
        "margin": {
         "b": 60,
         "l": 50,
         "r": 25,
         "t": 100
        },
        "plot_bgcolor": "rgb(240,240,240)",
        "title": "Cluster Member Distribution",
        "width": 400,
        "xaxis": {
         "showgrid": false,
         "showline": true,
         "showticklabels": false,
         "zeroline": false
        },
        "yaxis": {
         "gridcolor": "white",
         "showline": false,
         "tickfont": {
          "size": 10
         }
        }
       },
       "_py2js_addTraces": {},
       "_py2js_animate": {},
       "_py2js_deleteTraces": {},
       "_py2js_moveTraces": {},
       "_py2js_relayout": {},
       "_py2js_removeLayoutProps": {},
       "_py2js_removeTraceProps": {},
       "_py2js_restyle": {},
       "_py2js_update": {},
       "_view_count": 0
      }
     },
     "977dc3314bc345c58f12ff5f73957da3": {
      "model_module": "@jupyter-widgets/controls",
      "model_module_version": "1.4.0",
      "model_name": "TextareaModel",
      "state": {
       "description": "Members:",
       "layout": "IPY_MODEL_1ec68ff2b9934b87bb29e86414354abc",
       "style": "IPY_MODEL_554364c14cd54e34b44d64f9d5e49c43",
       "value": "51, 54, 62, 73, 108, 131, 166, 196, 200, 211, 245, 247, 283, 288, 317, 335, 346, 392, 404, 447, 448, 488, 497, 498, 552, 564, 693, 699, 701, 720, 744, 779, 780, 820, 840, 866, 875, 939, 945, 951, 1067, 1095, 1143, 1150, 1164, 1191, 1209, 1212, 1266, 1306, 1308, 1332, 1345, 1405, 1487, 1502, 1522, 1538, 1542, 1552, 1636, 1643, 1653, 1725, 1766, 1806, 1819, 1830, 1856, 1859, 1866, 1868, 1933, 1948, 1953, 2053, 2061, 2096, 2231, 2234, 2242, 2290, 2355, 2381, 2436, 2446, 2465, 2480, 2494, 2578, 2630, 2695, 2703, 2709, 2715, 2814, 2876, 2962, 2971, 2988, 2992, 3051, 3053, 3084, 3104, 3143, 3219, 3220, 3226, 3244, 3258, 3329, 3369, 3498, 3528, 3542, 3548, 3589, 3596, 3602, 3613, 3621, 3625, 3675, 3698, 3808, 3811, 3854, 3905, 3927, 3954, 3961, 3984, 3987, 4018, 4146, 4189, 4190, 4195, 4201, 4259, 4268, 4291, 4334, 4364, 4400, 4446, 4449, 4490, 4571, 4586, 4589, 4630, 4644, 4659, 4703, 4712, 4719, 4724, 4737, 4765, 4840, 4866, 4909, 4911, 4950"
      }
     },
     "9840c5c78a224c57bc88618cca7458b7": {
      "model_module": "@jupyter-widgets/base",
      "model_module_version": "1.1.0",
      "model_name": "LayoutModel",
      "state": {}
     },
     "9f65b1b6b46f409ab382f7a4a05478ba": {
      "model_module": "@jupyter-widgets/controls",
      "model_module_version": "1.4.0",
      "model_name": "HBoxModel",
      "state": {
       "children": [
        "IPY_MODEL_65950541da3643489acc2fc95fb164c4",
        "IPY_MODEL_cd77f78c57ad477db9dedba27a87fab3"
       ],
       "layout": "IPY_MODEL_3c1cb661c491487d838b4db0227e8369"
      }
     },
     "9fd7e5640c6f4090b52e8868be696bd3": {
      "model_module": "@jupyter-widgets/controls",
      "model_module_version": "1.4.0",
      "model_name": "DescriptionStyleModel",
      "state": {
       "description_width": ""
      }
     },
     "a34aa5e04b0d49a39bb514a4b54f9e64": {
      "model_module": "@jupyter-widgets/controls",
      "model_module_version": "1.4.0",
      "model_name": "HBoxModel",
      "state": {
       "children": [
        "IPY_MODEL_333838e01be84231ba78ec9463296ff7",
        "IPY_MODEL_f8752b7d84bf4f2e97c26ed4c563cb22"
       ],
       "layout": "IPY_MODEL_c14fc8140d6d4af886745eb02294775f"
      }
     },
     "a3caf82a02ef464b95c064ba4eefa505": {
      "model_module": "plotlywidget",
      "model_module_version": "^0.3.0",
      "model_name": "FigureModel",
      "state": {
       "_data": [
        {
         "hoverinfo": "none",
         "line": {
          "color": "rgb(180,180,180)",
          "width": 1.5
         },
         "mode": "lines",
         "type": "scatter",
         "uid": "b6d5f7cc-dd30-11e8-b95a-186590de8425",
         "x": [
          -8.01161535864612,
          -7.067396321710622,
          null,
          -7.067396321710622,
          -6.063511456705033,
          null,
          -6.063511456705033,
          -6.031077162176109,
          null,
          -6.063511456705033,
          -5.119183499400632,
          null,
          -6.031077162176109,
          -5.443052078168692,
          null,
          -5.119183499400632,
          -4.0059488458666275,
          null,
          -5.443052078168692,
          -4.458531278029528,
          null,
          -4.0059488458666275,
          -2.9092640672451053,
          null,
          -4.458531278029528,
          -3.3167881932899315,
          null,
          -2.9092640672451053,
          -1.995054105213447,
          null,
          0.14635714232635028,
          -0.3716048204583932,
          null,
          -0.3716048204583932,
          -1.1101455537068823,
          null,
          -3.3167881932899315,
          -2.1871290446656424,
          null,
          -1.995054105213447,
          -1.1101455537068823,
          null,
          -1.1101455537068823,
          -1.109105423296264,
          null,
          -2.1871290446656424,
          -1.109105423296264,
          null,
          -1.109105423296264,
          -0.2018901559369309,
          null,
          -0.2018901559369309,
          0.693233746269089,
          null,
          0.693233746269089,
          1.6899758550476782,
          null,
          1.6899758550476782,
          2.5026611439509954,
          null,
          1.6899758550476782,
          1.3412845477494715,
          null,
          1.6899758550476782,
          2.7325969815073243,
          null,
          2.5026611439509954,
          3.4118868715538584,
          null,
          1.3412845477494715,
          1.3716642402212027,
          null,
          2.7325969815073243,
          3.7294744344179254,
          null,
          1.3716642402212027,
          1.8550301453193572,
          null,
          3.7294744344179254,
          4.371622936133875,
          null,
          1.8550301453193572,
          2.7910136179212097,
          null,
          4.371622936133875,
          4.48082168097244,
          null,
          4.48082168097244,
          3.969952820736378,
          null,
          2.7910136179212097,
          3.969952820736378,
          null,
          3.969952820736378,
          4.552656006687859,
          null,
          4.552656006687859,
          5.110685924756663,
          null,
          5.110685924756663,
          5.667108139720025,
          null
         ],
         "y": [
          1.9460998164012364,
          1.5011585439664807,
          null,
          1.5011585439664807,
          1.0197436127416943,
          null,
          1.0197436127416943,
          -0.168851052317973,
          null,
          1.0197436127416943,
          1.7264123464926604,
          null,
          -0.168851052317973,
          -1.1509526513155892,
          null,
          1.7264123464926604,
          1.9631457897838989,
          null,
          -1.1509526513155892,
          -1.7305363608700337,
          null,
          1.9631457897838989,
          1.6945853795914514,
          null,
          -1.7305363608700337,
          -1.8381842853661114,
          null,
          1.6945853795914514,
          1.023329505921794,
          null,
          2.2000511986683846,
          1.2061802547996732,
          null,
          1.2061802547996732,
          0.2788138020459237,
          null,
          -1.8381842853661114,
          -1.5361209122439305,
          null,
          1.023329505921794,
          0.2788138020459237,
          null,
          0.2788138020459237,
          -0.9701036210332966,
          null,
          -1.5361209122439305,
          -0.9701036210332966,
          null,
          -0.9701036210332966,
          -1.7208013136772018,
          null,
          -1.7208013136772018,
          -2.424600114642551,
          null,
          -2.424600114642551,
          -3.050078466313692,
          null,
          -3.050078466313692,
          -2.1350711440336037,
          null,
          -3.050078466313692,
          -4.22903588264987,
          null,
          -3.050078466313692,
          -3.4585020934512367,
          null,
          -2.1350711440336037,
          -1.4195589812877243,
          null,
          -4.22903588264987,
          -5.405419930257248,
          null,
          -3.4585020934512367,
          -4.014254720410606,
          null,
          -5.405419930257248,
          -6.448230888673624,
          null,
          -4.014254720410606,
          -4.940282096114881,
          null,
          -6.448230888673624,
          -7.10079868921956,
          null,
          -4.940282096114881,
          -6.069539360469174,
          null,
          -6.069539360469174,
          -7.12733153388755,
          null,
          -7.10079868921956,
          -7.12733153388755,
          null,
          -7.12733153388755,
          -8.063528690131776,
          null,
          -8.063528690131776,
          -8.943421429194558,
          null,
          -8.943421429194558,
          -9.79823567779078,
          null
         ]
        },
        {
         "hoverinfo": "text",
         "marker": {
          "color": [
           0.481698749388432,
           0.5012187622709727,
           0.5062590295836945,
           0.46461404957047747,
           0.5528334238276227,
           0.47032357291130367,
           0.45972672795428654,
           0.5553575000714429,
           0.49655602762343515,
           0.40561445622457826,
           0.48454715097608897,
           0.5492829335097789,
           0.5085944018071906,
           0.495451749011895,
           0.4964090857387164,
           0.47859824392062883,
           0.47051080977866333,
           0.4828808411785877,
           0.5180497637989137,
           0.49856757983987543,
           0.5282795689572697,
           0.512109564770097,
           0.4869921352691591,
           0.4086208546057037,
           0.5767226172507229,
           0.5975428419017138,
           0.49908394377288157,
           0.5206944614729397,
           0.4984936381215636,
           0.5196050974900862,
           0.5061113140059205,
           0.5221561686854745,
           0.5150733850473799
          ],
          "colorbar": {
           "thickness": 20,
           "tickfont": {
            "size": 10
           },
           "ticklen": 4,
           "x": 1.01
          },
          "colorscale": [
           [
            0,
            "rgb(165, 0, 38)"
           ],
           [
            0.1,
            "rgb(214, 47, 38)"
           ],
           [
            0.2,
            "rgb(244, 109, 67)"
           ],
           [
            0.3,
            "rgb(252, 172, 96)"
           ],
           [
            0.4,
            "rgb(254, 224, 144)"
           ],
           [
            0.5,
            "rgb(254, 254, 192)"
           ],
           [
            0.6,
            "rgb(224, 243, 247)"
           ],
           [
            0.7,
            "rgb(169, 216, 232)"
           ],
           [
            0.8,
            "rgb(116, 173, 209)"
           ],
           [
            0.9,
            "rgb(68, 115, 179)"
           ],
           [
            1,
            "rgb(49, 54, 149)"
           ]
          ],
          "line": {
           "color": "rgb(200,200,200)",
           "width": 1
          },
          "opacity": 1,
          "showscale": true,
          "size": [
           18,
           18,
           18,
           15,
           15,
           15,
           15,
           15,
           15,
           6,
           18,
           12,
           12,
           21,
           12,
           21,
           21,
           21,
           21,
           18,
           12,
           15,
           15,
           12,
           15,
           15,
           15,
           15,
           15,
           18,
           18,
           18,
           12
          ]
         },
         "mode": "markers",
         "text": [
          "cube0_cluster0",
          "cube1_cluster0",
          "cube2_cluster0",
          "cube3_cluster0",
          "cube3_cluster1",
          "cube4_cluster0",
          "cube4_cluster1",
          "cube5_cluster0",
          "cube5_cluster1",
          "cube5_cluster2",
          "cube6_cluster0",
          "cube6_cluster1",
          "cube6_cluster2",
          "cube7_cluster0",
          "cube7_cluster1",
          "cube8_cluster0",
          "cube9_cluster0",
          "cube10_cluster0",
          "cube11_cluster0",
          "cube12_cluster0",
          "cube12_cluster1",
          "cube12_cluster2",
          "cube13_cluster0",
          "cube13_cluster1",
          "cube13_cluster2",
          "cube14_cluster0",
          "cube14_cluster1",
          "cube15_cluster0",
          "cube15_cluster1",
          "cube16_cluster0",
          "cube17_cluster0",
          "cube18_cluster0",
          "cube19_cluster0"
         ],
         "type": "scatter",
         "uid": "b6d5f922-dd30-11e8-a385-186590de8425",
         "x": [
          -8.01161535864612,
          -7.067396321710622,
          -6.063511456705033,
          -6.031077162176109,
          -5.119183499400632,
          -5.443052078168692,
          -4.0059488458666275,
          -4.458531278029528,
          -2.9092640672451053,
          0.14635714232635028,
          -0.3716048204583932,
          -3.3167881932899315,
          -1.995054105213447,
          -1.1101455537068823,
          -2.1871290446656424,
          -1.109105423296264,
          -0.2018901559369309,
          0.693233746269089,
          1.6899758550476782,
          2.5026611439509954,
          1.3412845477494715,
          2.7325969815073243,
          1.3716642402212027,
          3.4118868715538584,
          3.7294744344179254,
          1.8550301453193572,
          4.371622936133875,
          4.48082168097244,
          2.7910136179212097,
          3.969952820736378,
          4.552656006687859,
          5.110685924756663,
          5.667108139720025
         ],
         "y": [
          1.9460998164012364,
          1.5011585439664807,
          1.0197436127416943,
          -0.168851052317973,
          1.7264123464926604,
          -1.1509526513155892,
          1.9631457897838989,
          -1.7305363608700337,
          1.6945853795914514,
          2.2000511986683846,
          1.2061802547996732,
          -1.8381842853661114,
          1.023329505921794,
          0.2788138020459237,
          -1.5361209122439305,
          -0.9701036210332966,
          -1.7208013136772018,
          -2.424600114642551,
          -3.050078466313692,
          -2.1350711440336037,
          -4.22903588264987,
          -3.4585020934512367,
          -5.405419930257248,
          -1.4195589812877243,
          -4.014254720410606,
          -6.448230888673624,
          -4.940282096114881,
          -6.069539360469174,
          -7.10079868921956,
          -7.12733153388755,
          -8.063528690131776,
          -8.943421429194558,
          -9.79823567779078
         ]
        }
       ],
       "_js2py_pointsCallback": {},
       "_js2py_relayout": {},
       "_js2py_restyle": {},
       "_js2py_update": {},
       "_layout": {
        "annotations": [
         {
          "align": "left",
          "font": {
           "size": 12
          },
          "showarrow": false,
          "text": "<b>N_cubes:</b> 20 <b>Perc_overlap:</b> 0.1<br><b>Nodes:</b> 33 <b>Edges:</b> 34 <b>Total samples:</b> 5501 <b>Unique_samples:</b> 5000",
          "x": 0,
          "xanchor": "left",
          "xref": "paper",
          "y": -0.01,
          "yanchor": "top",
          "yref": "paper"
         }
        ],
        "autosize": false,
        "font": {
         "size": 12
        },
        "height": 500,
        "hovermode": "closest",
        "margin": {
         "b": 35,
         "l": 10,
         "r": 60,
         "t": 100
        },
        "plot_bgcolor": "rgba(240, 240, 240, 0.95)",
        "showlegend": false,
        "title": "Dashboard plot",
        "width": 600,
        "xaxis": {
         "visible": false
        },
        "yaxis": {
         "visible": false
        }
       },
       "_py2js_addTraces": {},
       "_py2js_animate": {},
       "_py2js_deleteTraces": {},
       "_py2js_moveTraces": {},
       "_py2js_relayout": {},
       "_py2js_removeLayoutProps": {},
       "_py2js_removeTraceProps": {},
       "_py2js_restyle": {},
       "_py2js_update": {},
       "_view_count": 1
      }
     },
     "a60696c3461845cf95e55d02d7372d89": {
      "model_module": "@jupyter-widgets/base",
      "model_module_version": "1.1.0",
      "model_name": "LayoutModel",
      "state": {
       "margin": "10px 10px 10px 10px",
       "width": "200px"
      }
     },
     "a6cefcda4bbb4872ba0ee4903c23ffcc": {
      "model_module": "@jupyter-widgets/controls",
      "model_module_version": "1.4.0",
      "model_name": "DescriptionStyleModel",
      "state": {
       "description_width": ""
      }
     },
     "aadf5f82e8b347bb96ed5ba721947424": {
      "model_module": "plotlywidget",
      "model_module_version": "^0.3.0",
      "model_name": "FigureModel",
      "state": {
       "_data": [
        {
         "hoverinfo": "none",
         "line": {
          "color": "rgb(180,180,180)",
          "width": 1.5
         },
         "mode": "lines",
         "type": "scatter",
         "uid": "b736bb22-dd30-11e8-9be3-186590de8425",
         "x": [
          -9.63444009865278,
          -8.781948482036384,
          null,
          -8.781948482036384,
          -7.875711841670717,
          null,
          -7.875711841670717,
          -8.04876575574834,
          null,
          -7.875711841670717,
          -6.823858332899221,
          null,
          -8.04876575574834,
          -7.6462234236782125,
          null,
          -6.823858332899221,
          -5.687143592438916,
          null,
          -7.6462234236782125,
          -6.78209119893092,
          null,
          -5.687143592438916,
          -4.652311627478797,
          null,
          -6.78209119893092,
          -5.6762434975429,
          null,
          -4.652311627478797,
          -3.870005409171483,
          null,
          -1.5904828615016944,
          -2.2477384044383713,
          null,
          -2.2477384044383713,
          -3.1307777150803164,
          null,
          -5.6762434975429,
          -4.512415236531384,
          null,
          -3.870005409171483,
          -3.1307777150803164,
          null,
          -3.1307777150803164,
          -3.3481593255821562,
          null,
          -4.512415236531384,
          -3.3481593255821562,
          null,
          -3.3481593255821562,
          -2.5934619967282653,
          null,
          -2.5934619967282653,
          -1.9276344626557822,
          null,
          -1.9276344626557822,
          -1.296099871809474,
          null,
          -1.296099871809474,
          -2.191316400864975,
          null,
          -1.296099871809474,
          -0.12748620672112645,
          null,
          -1.296099871809474,
          -0.8667547188846796,
          null,
          -2.191316400864975,
          -2.8709567602633004,
          null,
          -0.12748620672112645,
          1.0474958197279651,
          null,
          -0.8667547188846796,
          -0.29030372501893825,
          null,
          1.0474958197279651,
          2.100668013334187,
          null,
          -0.29030372501893825,
          0.6532471907461951,
          null,
          2.100668013334187,
          2.7719185960228927,
          null,
          0.6532471907461951,
          1.7867659271880958,
          null,
          1.7867659271880958,
          2.8291119961121116,
          null,
          2.7719185960228927,
          2.8291119961121116,
          null,
          2.8291119961121116,
          3.782889146550549,
          null,
          3.782889146550549,
          4.682545350905959,
          null,
          4.682545350905959,
          5.562072329732414,
          null
         ],
         "y": [
          5.128463213848161,
          4.526264132499799,
          null,
          4.526264132499799,
          3.8802154471218535,
          null,
          3.8802154471218535,
          2.7033200595445392,
          null,
          3.8802154471218535,
          4.419834719736219,
          null,
          2.7033200595445392,
          1.6326513933984688,
          null,
          4.419834719736219,
          4.466661963298579,
          null,
          1.6326513933984688,
          0.887379036619666,
          null,
          4.466661963298579,
          4.013955330270808,
          null,
          0.887379036619666,
          0.5928672928566431,
          null,
          4.013955330270808,
          3.1901086799268787,
          null,
          3.982034115267662,
          3.0776522956115944,
          null,
          3.0776522956115944,
          2.2962694612105885,
          null,
          0.5928672928566431,
          0.7101128892449643,
          null,
          3.1901086799268787,
          2.2962694612105885,
          null,
          2.2962694612105885,
          1.069938539275502,
          null,
          0.7101128892449643,
          1.069938539275502,
          null,
          1.069938539275502,
          0.16491520946388352,
          null,
          0.16491520946388352,
          -0.7608376901145378,
          null,
          -0.7608376901145378,
          -1.7557200076534003,
          null,
          -1.7557200076534003,
          -2.586647526444543,
          null,
          -1.7557200076534003,
          -1.3811554507607295,
          null,
          -1.7557200076534003,
          -2.792856797093079,
          null,
          -2.586647526444543,
          -3.5217218877023857,
          null,
          -1.3811554507607295,
          -1.3719260400836761,
          null,
          -2.792856797093079,
          -3.780566831855183,
          null,
          -1.3719260400836761,
          -1.8264872345647831,
          null,
          -3.780566831855183,
          -4.398458926224204,
          null,
          -1.8264872345647831,
          -2.7476148018928948,
          null,
          -4.398458926224204,
          -4.471067334115374,
          null,
          -4.471067334115374,
          -3.9265539070453883,
          null,
          -2.7476148018928948,
          -3.9265539070453883,
          null,
          -3.9265539070453883,
          -4.479433020873249,
          null,
          -4.479433020873249,
          -5.0020878394800405,
          null,
          -5.0020878394800405,
          -5.517951924665543,
          null
         ]
        },
        {
         "hoverinfo": "text",
         "marker": {
          "color": [
           0.481698749388432,
           0.5012187622709727,
           0.5062590295836945,
           0.46461404957047747,
           0.5528334238276227,
           0.47032357291130367,
           0.45972672795428654,
           0.5553575000714429,
           0.49655602762343515,
           0.40561445622457826,
           0.48454715097608897,
           0.5492829335097789,
           0.5085944018071906,
           0.495451749011895,
           0.4964090857387164,
           0.47859824392062883,
           0.47051080977866333,
           0.4828808411785877,
           0.5180497637989137,
           0.49856757983987543,
           0.5282795689572697,
           0.512109564770097,
           0.4869921352691591,
           0.4086208546057037,
           0.5767226172507229,
           0.5975428419017138,
           0.49908394377288157,
           0.5206944614729397,
           0.4984936381215636,
           0.5196050974900862,
           0.5061113140059205,
           0.5221561686854745,
           0.5150733850473799
          ],
          "colorbar": {
           "thickness": 20,
           "tickfont": {
            "size": 10
           },
           "ticklen": 4,
           "x": 1.01
          },
          "colorscale": [
           [
            0,
            "rgb(16, 31, 63)"
           ],
           [
            0.1,
            "rgb(35, 66, 150)"
           ],
           [
            0.2,
            "rgb(34, 120, 163)"
           ],
           [
            0.3,
            "rgb(76, 167, 174)"
           ],
           [
            0.4,
            "rgb(172, 206, 197)"
           ],
           [
            0.5,
            "rgb(254, 252, 203)"
           ],
           [
            0.6,
            "rgb(216, 197, 96)"
           ],
           [
            0.7,
            "rgb(140, 161, 10)"
           ],
           [
            0.8,
            "rgb(50, 128, 30)"
           ],
           [
            0.9,
            "rgb(16, 82, 43)"
           ],
           [
            1,
            "rgb(23, 35, 18)"
           ]
          ],
          "line": {
           "color": "rgb(200,200,200)",
           "width": 1
          },
          "opacity": 1,
          "showscale": true,
          "size": [
           18,
           18,
           18,
           15,
           15,
           15,
           15,
           15,
           15,
           6,
           18,
           12,
           12,
           21,
           12,
           21,
           21,
           21,
           21,
           18,
           12,
           15,
           15,
           12,
           15,
           15,
           15,
           15,
           15,
           18,
           18,
           18,
           12
          ]
         },
         "mode": "markers",
         "text": [
          "cube0_cluster0",
          "cube1_cluster0",
          "cube2_cluster0",
          "cube3_cluster0",
          "cube3_cluster1",
          "cube4_cluster0",
          "cube4_cluster1",
          "cube5_cluster0",
          "cube5_cluster1",
          "cube5_cluster2",
          "cube6_cluster0",
          "cube6_cluster1",
          "cube6_cluster2",
          "cube7_cluster0",
          "cube7_cluster1",
          "cube8_cluster0",
          "cube9_cluster0",
          "cube10_cluster0",
          "cube11_cluster0",
          "cube12_cluster0",
          "cube12_cluster1",
          "cube12_cluster2",
          "cube13_cluster0",
          "cube13_cluster1",
          "cube13_cluster2",
          "cube14_cluster0",
          "cube14_cluster1",
          "cube15_cluster0",
          "cube15_cluster1",
          "cube16_cluster0",
          "cube17_cluster0",
          "cube18_cluster0",
          "cube19_cluster0"
         ],
         "type": "scatter",
         "uid": "b736bc76-dd30-11e8-ab71-186590de8425",
         "x": [
          -9.63444009865278,
          -8.781948482036384,
          -7.875711841670717,
          -8.04876575574834,
          -6.823858332899221,
          -7.6462234236782125,
          -5.687143592438916,
          -6.78209119893092,
          -4.652311627478797,
          -1.5904828615016944,
          -2.2477384044383713,
          -5.6762434975429,
          -3.870005409171483,
          -3.1307777150803164,
          -4.512415236531384,
          -3.3481593255821562,
          -2.5934619967282653,
          -1.9276344626557822,
          -1.296099871809474,
          -2.191316400864975,
          -0.12748620672112645,
          -0.8667547188846796,
          1.0474958197279651,
          -2.8709567602633004,
          -0.29030372501893825,
          2.100668013334187,
          0.6532471907461951,
          1.7867659271880958,
          2.7719185960228927,
          2.8291119961121116,
          3.782889146550549,
          4.682545350905959,
          5.562072329732414
         ],
         "y": [
          5.128463213848161,
          4.526264132499799,
          3.8802154471218535,
          2.7033200595445392,
          4.419834719736219,
          1.6326513933984688,
          4.466661963298579,
          0.887379036619666,
          4.013955330270808,
          3.982034115267662,
          3.0776522956115944,
          0.5928672928566431,
          3.1901086799268787,
          2.2962694612105885,
          0.7101128892449643,
          1.069938539275502,
          0.16491520946388352,
          -0.7608376901145378,
          -1.7557200076534003,
          -2.586647526444543,
          -1.3811554507607295,
          -2.792856797093079,
          -1.3719260400836761,
          -3.5217218877023857,
          -3.780566831855183,
          -1.8264872345647831,
          -4.398458926224204,
          -4.471067334115374,
          -2.7476148018928948,
          -3.9265539070453883,
          -4.479433020873249,
          -5.0020878394800405,
          -5.517951924665543
         ]
        }
       ],
       "_js2py_pointsCallback": {},
       "_js2py_relayout": {},
       "_js2py_restyle": {},
       "_js2py_update": {},
       "_layout": {
        "annotations": [
         {
          "align": "left",
          "font": {
           "size": 12
          },
          "showarrow": false,
          "text": "<b>N_cubes:</b> 20 <b>Perc_overlap:</b> 0.1<br><b>Nodes:</b> 33 <b>Edges:</b> 34 <b>Total samples:</b> 5501 <b>Unique_samples:</b> 5000",
          "x": 0,
          "xanchor": "left",
          "xref": "paper",
          "y": -0.01,
          "yanchor": "top",
          "yref": "paper"
         }
        ],
        "autosize": false,
        "font": {
         "size": 12
        },
        "height": 500,
        "hovermode": "closest",
        "margin": {
         "b": 35,
         "l": 10,
         "r": 60,
         "t": 100
        },
        "plot_bgcolor": "rgba(240, 240, 240, 0.95)",
        "showlegend": false,
        "title": "Dashboard plot",
        "width": 600,
        "xaxis": {
         "visible": false
        },
        "yaxis": {
         "visible": false
        }
       },
       "_py2js_addTraces": {},
       "_py2js_animate": {},
       "_py2js_deleteTraces": {},
       "_py2js_moveTraces": {},
       "_py2js_relayout": {},
       "_py2js_removeLayoutProps": {},
       "_py2js_removeTraceProps": {},
       "_py2js_restyle": {},
       "_py2js_update": {},
       "_view_count": 1
      }
     },
     "b2e32683d1034b8687ff4de455d267bc": {
      "model_module": "plotlywidget",
      "model_module_version": "^0.3.0",
      "model_name": "FigureModel",
      "state": {
       "_data": [
        {
         "hoverinfo": "none",
         "mode": "text",
         "text": [
          "<br><b>Projection: </b>[0]<br><b>Clusterer: </b>DBSCAN(algorithm='auto', eps=0.5, leaf_size=30, metric='euclidean',<br>    metric_params=None, min_samples=3, n_jobs=1, p=None)<br><b>Scaler: </b>MinMaxScaler(copy=True, feature_range=(0, 1))",
          ""
         ],
         "textposition": "bottom right",
         "type": "scatter",
         "uid": "b6e05462-dd30-11e8-b926-186590de8425",
         "x": [
          0,
          600
         ],
         "y": [
          300,
          0
         ]
        }
       ],
       "_js2py_layoutDelta": {},
       "_js2py_pointsCallback": {},
       "_js2py_relayout": {},
       "_js2py_restyle": {},
       "_js2py_traceDeltas": {},
       "_js2py_update": {},
       "_layout": {
        "font": {
         "size": 12
        },
        "height": 300,
        "margin": {
         "b": 60,
         "l": 20,
         "r": 20,
         "t": 60
        },
        "plot_bgcolor": "rgb(240,240,240)",
        "title": "Algorithms and scikit-learn objects/methods",
        "width": 600,
        "xaxis": {
         "visible": false
        },
        "yaxis": {
         "range": [
          0,
          305
         ],
         "visible": false
        }
       },
       "_py2js_addTraces": {},
       "_py2js_animate": {},
       "_py2js_deleteTraces": {},
       "_py2js_moveTraces": {},
       "_py2js_relayout": {},
       "_py2js_removeLayoutProps": {},
       "_py2js_removeTraceProps": {},
       "_py2js_restyle": {},
       "_py2js_update": {},
       "_view_count": 0
      }
     },
     "b8b5dc37b9f640bb9e340caa6714c474": {
      "model_module": "plotlywidget",
      "model_module_version": "^0.3.0",
      "model_name": "FigureModel",
      "state": {
       "_data": [
        {
         "hoverinfo": "y+text",
         "marker": {
          "color": [
           "rgb(189, 23, 38)",
           "rgb(229, 78, 52)",
           "rgb(248, 140, 81)",
           "rgb(253, 198, 120)",
           "rgb(254, 239, 168)",
           "rgb(238, 248, 219)",
           "rgb(196, 229, 239)",
           "rgb(142, 194, 220)",
           "rgb(91, 143, 193)",
           "rgb(58, 84, 164)"
          ]
         },
         "text": [
          "14.5%",
          "9.6%",
          "9.0%",
          "12.0%",
          "8.4%",
          "7.2%",
          "7.8%",
          "12.0%",
          "9.0%",
          "10.2%"
         ],
         "type": "bar",
         "uid": "b6e54bc0-dd30-11e8-b1aa-186590de8425",
         "y": [
          100,
          67,
          63,
          83,
          58,
          50,
          54,
          83,
          63,
          71
         ]
        }
       ],
       "_js2py_pointsCallback": {},
       "_js2py_relayout": {},
       "_js2py_restyle": {},
       "_js2py_update": {},
       "_layout": {
        "bargap": 0.01,
        "font": {
         "size": 12
        },
        "height": 300,
        "hovermode": "x",
        "margin": {
         "b": 60,
         "l": 50,
         "r": 25,
         "t": 100
        },
        "plot_bgcolor": "rgb(240,240,240)",
        "title": "Cluster Member Distribution",
        "width": 400,
        "xaxis": {
         "showgrid": false,
         "showline": true,
         "showticklabels": false,
         "zeroline": false
        },
        "yaxis": {
         "gridcolor": "white",
         "showline": false,
         "tickfont": {
          "size": 10
         }
        }
       },
       "_py2js_addTraces": {},
       "_py2js_animate": {},
       "_py2js_deleteTraces": {},
       "_py2js_moveTraces": {},
       "_py2js_relayout": {},
       "_py2js_removeLayoutProps": {},
       "_py2js_removeTraceProps": {},
       "_py2js_restyle": {},
       "_py2js_update": {},
       "_view_count": 1
      }
     },
     "b8f86ec1493e489b9d5dadc1f76ab820": {
      "model_module": "plotlywidget",
      "model_module_version": "^0.3.0",
      "model_name": "FigureModel",
      "state": {
       "_data": [
        {
         "hoverinfo": "none",
         "line": {
          "color": "rgb(180,180,180)",
          "width": 1.5
         },
         "mode": "lines",
         "type": "scatter",
         "uid": "b2df2212-dd30-11e8-8de4-186590de8425",
         "x": [
          10.313171913374214,
          9.33235920678444,
          null,
          9.33235920678444,
          8.284160743152432,
          null,
          8.284160743152432,
          7.417754448797679,
          null,
          8.284160743152432,
          8.12190796560894,
          null,
          7.417754448797679,
          6.306525929678302,
          null,
          8.12190796560894,
          7.504512599752403,
          null,
          6.306525929678302,
          5.2018002033458,
          null,
          7.504512599752403,
          6.542979674314215,
          null,
          5.2018002033458,
          4.321305662728748,
          null,
          6.542979674314215,
          5.422950048196051,
          null,
          4.750219317656672,
          4.40956862486608,
          null,
          4.40956862486608,
          4.271123239167958,
          null,
          4.321305662728748,
          3.7407123695288442,
          null,
          5.422950048196051,
          4.271123239167958,
          null,
          4.271123239167958,
          3.383312207794167,
          null,
          3.7407123695288442,
          3.383312207794167,
          null,
          3.383312207794167,
          2.2111763139785934,
          null,
          2.2111763139785934,
          1.0816407769340162,
          null,
          1.0816407769340162,
          -0.0648274789102729,
          null,
          -0.0648274789102729,
          0.01323495312316046,
          null,
          -0.0648274789102729,
          -0.6557688160201331,
          null,
          -0.0648274789102729,
          -1.0893983676555883,
          null,
          0.01323495312316046,
          -0.12134417457990518,
          null,
          -0.6557688160201331,
          -1.5114536237703387,
          null,
          -1.0893983676555883,
          -2.186298760451723,
          null,
          -1.5114536237703387,
          -2.5918038144376006,
          null,
          -2.186298760451723,
          -3.29529401533342,
          null,
          -2.5918038144376006,
          -3.714179142439964,
          null,
          -3.29529401533342,
          -4.17211567891374,
          null,
          -4.17211567891374,
          -4.563346484758255,
          null,
          -3.714179142439964,
          -4.563346484758255,
          null,
          -4.563346484758255,
          -5.638514195042765,
          null,
          -5.638514195042765,
          -6.656966399797115,
          null,
          -6.656966399797115,
          -7.64955977459378,
          null
         ],
         "y": [
          -1.1401158561357048,
          -0.7838814819016761,
          null,
          -0.7838814819016761,
          -0.4091897950824079,
          null,
          -0.4091897950824079,
          -1.2217382071386982,
          null,
          -0.4091897950824079,
          0.7596537745731817,
          null,
          -1.2217382071386982,
          -1.495749884815288,
          null,
          0.7596537745731817,
          1.715503616127354,
          null,
          -1.495749884815288,
          -1.2047638944563275,
          null,
          1.715503616127354,
          2.306087614246556,
          null,
          -1.2047638944563275,
          -0.4689356800825404,
          null,
          2.306087614246556,
          2.4841476454693185,
          null,
          4.832958416844838,
          3.7656598829803705,
          null,
          3.7656598829803705,
          2.5877999445714126,
          null,
          -0.4689356800825404,
          0.5459775200382191,
          null,
          2.4841476454693185,
          2.5877999445714126,
          null,
          2.5877999445714126,
          1.7099073100283952,
          null,
          0.5459775200382191,
          1.7099073100283952,
          null,
          1.7099073100283952,
          1.825939210783827,
          null,
          1.825939210783827,
          1.9630942037668675,
          null,
          1.9630942037668675,
          2.233062119314286,
          null,
          2.233062119314286,
          3.453889388953687,
          null,
          2.233062119314286,
          1.1554944519677757,
          null,
          2.233062119314286,
          2.683800889450996,
          null,
          3.453889388953687,
          4.603714553798051,
          null,
          1.1554944519677757,
          0.34669148709056363,
          null,
          2.683800889450996,
          3.000922293530387,
          null,
          0.34669148709056363,
          -0.04729217092319842,
          null,
          3.000922293530387,
          2.801323372884531,
          null,
          -0.04729217092319842,
          0.1565459582607268,
          null,
          2.801323372884531,
          2.0824582211155604,
          null,
          2.0824582211155604,
          0.9739204068635069,
          null,
          0.1565459582607268,
          0.9739204068635069,
          null,
          0.9739204068635069,
          0.7281491592468363,
          null,
          0.7281491592468363,
          0.5082852689152572,
          null,
          0.5082852689152572,
          0.27406660462661,
          null
         ]
        },
        {
         "hoverinfo": "text",
         "marker": {
          "color": [
           0.481698749388432,
           0.5012187622709727,
           0.5062590295836945,
           0.46461404957047747,
           0.5528334238276227,
           0.47032357291130367,
           0.45972672795428654,
           0.5553575000714429,
           0.49655602762343515,
           0.40561445622457826,
           0.48454715097608897,
           0.5492829335097789,
           0.5085944018071906,
           0.495451749011895,
           0.4964090857387164,
           0.47859824392062883,
           0.47051080977866333,
           0.4828808411785877,
           0.5180497637989137,
           0.49856757983987543,
           0.5282795689572697,
           0.512109564770097,
           0.4869921352691591,
           0.4086208546057037,
           0.5767226172507229,
           0.5975428419017138,
           0.49908394377288157,
           0.5206944614729397,
           0.4984936381215636,
           0.5196050974900862,
           0.5061113140059205,
           0.5221561686854745,
           0.5150733850473799
          ],
          "colorbar": {
           "thickness": 20,
           "tickfont": {
            "size": 10
           },
           "ticklen": 4,
           "x": 1.01
          },
          "colorscale": [
           [
            0,
            "rgb(68, 1, 84)"
           ],
           [
            0.1,
            "rgb(72, 35, 116)"
           ],
           [
            0.2,
            "rgb(64, 67, 135)"
           ],
           [
            0.3,
            "rgb(52, 94, 141)"
           ],
           [
            0.4,
            "rgb(41, 120, 142)"
           ],
           [
            0.5,
            "rgb(32, 144, 140)"
           ],
           [
            0.6,
            "rgb(34, 167, 132)"
           ],
           [
            0.7,
            "rgb(68, 190, 112)"
           ],
           [
            0.8,
            "rgb(121, 209, 81)"
           ],
           [
            0.9,
            "rgb(189, 222, 38)"
           ],
           [
            1,
            "rgb(253, 231, 36)"
           ]
          ],
          "line": {
           "color": "rgb(200,200,200)",
           "width": 1
          },
          "opacity": 1,
          "showscale": true,
          "size": [
           18,
           18,
           18,
           15,
           15,
           15,
           15,
           15,
           15,
           6,
           18,
           12,
           12,
           21,
           12,
           21,
           21,
           21,
           21,
           18,
           12,
           15,
           15,
           12,
           15,
           15,
           15,
           15,
           15,
           18,
           18,
           18,
           12
          ]
         },
         "mode": "markers",
         "text": [
          "cube0_cluster0",
          "cube1_cluster0",
          "cube2_cluster0",
          "cube3_cluster0",
          "cube3_cluster1",
          "cube4_cluster0",
          "cube4_cluster1",
          "cube5_cluster0",
          "cube5_cluster1",
          "cube5_cluster2",
          "cube6_cluster0",
          "cube6_cluster1",
          "cube6_cluster2",
          "cube7_cluster0",
          "cube7_cluster1",
          "cube8_cluster0",
          "cube9_cluster0",
          "cube10_cluster0",
          "cube11_cluster0",
          "cube12_cluster0",
          "cube12_cluster1",
          "cube12_cluster2",
          "cube13_cluster0",
          "cube13_cluster1",
          "cube13_cluster2",
          "cube14_cluster0",
          "cube14_cluster1",
          "cube15_cluster0",
          "cube15_cluster1",
          "cube16_cluster0",
          "cube17_cluster0",
          "cube18_cluster0",
          "cube19_cluster0"
         ],
         "type": "scatter",
         "uid": "b2e05fd8-dd30-11e8-9b88-186590de8425",
         "x": [
          10.313171913374214,
          9.33235920678444,
          8.284160743152432,
          7.417754448797679,
          8.12190796560894,
          6.306525929678302,
          7.504512599752403,
          5.2018002033458,
          6.542979674314215,
          4.750219317656672,
          4.40956862486608,
          4.321305662728748,
          5.422950048196051,
          4.271123239167958,
          3.7407123695288442,
          3.383312207794167,
          2.2111763139785934,
          1.0816407769340162,
          -0.0648274789102729,
          0.01323495312316046,
          -0.6557688160201331,
          -1.0893983676555883,
          -1.5114536237703387,
          -0.12134417457990518,
          -2.186298760451723,
          -2.5918038144376006,
          -3.29529401533342,
          -4.17211567891374,
          -3.714179142439964,
          -4.563346484758255,
          -5.638514195042765,
          -6.656966399797115,
          -7.64955977459378
         ],
         "y": [
          -1.1401158561357048,
          -0.7838814819016761,
          -0.4091897950824079,
          -1.2217382071386982,
          0.7596537745731817,
          -1.495749884815288,
          1.715503616127354,
          -1.2047638944563275,
          2.306087614246556,
          4.832958416844838,
          3.7656598829803705,
          -0.4689356800825404,
          2.4841476454693185,
          2.5877999445714126,
          0.5459775200382191,
          1.7099073100283952,
          1.825939210783827,
          1.9630942037668675,
          2.233062119314286,
          3.453889388953687,
          1.1554944519677757,
          2.683800889450996,
          0.34669148709056363,
          4.603714553798051,
          3.000922293530387,
          -0.04729217092319842,
          2.801323372884531,
          2.0824582211155604,
          0.1565459582607268,
          0.9739204068635069,
          0.7281491592468363,
          0.5082852689152572,
          0.27406660462661
         ]
        }
       ],
       "_js2py_pointsCallback": {},
       "_js2py_relayout": {},
       "_js2py_restyle": {},
       "_js2py_update": {},
       "_layout": {
        "annotations": [
         {
          "align": "left",
          "font": {
           "size": 12
          },
          "showarrow": false,
          "text": "<b>N_cubes:</b> 20 <b>Perc_overlap:</b> 0.1<br><b>Nodes:</b> 33 <b>Edges:</b> 34 <b>Total samples:</b> 5501 <b>Unique_samples:</b> 5000",
          "x": 0,
          "xanchor": "left",
          "xref": "paper",
          "y": -0.01,
          "yanchor": "top",
          "yref": "paper"
         }
        ],
        "autosize": false,
        "font": {
         "size": 12
        },
        "height": 500,
        "hovermode": "closest",
        "margin": {
         "b": 35,
         "l": 10,
         "r": 60,
         "t": 100
        },
        "plot_bgcolor": "rgba(240, 240, 240, 0.95)",
        "showlegend": false,
        "title": "Basic plot",
        "width": 600,
        "xaxis": {
         "visible": false
        },
        "yaxis": {
         "visible": false
        }
       },
       "_py2js_addTraces": {},
       "_py2js_animate": {},
       "_py2js_deleteTraces": {},
       "_py2js_moveTraces": {},
       "_py2js_relayout": {},
       "_py2js_removeLayoutProps": {},
       "_py2js_removeTraceProps": {},
       "_py2js_restyle": {},
       "_py2js_update": {},
       "_view_count": 1
      }
     },
     "b8fe6dbd6c9b4c2283fdbae283aa7108": {
      "model_module": "@jupyter-widgets/base",
      "model_module_version": "1.1.0",
      "model_name": "LayoutModel",
      "state": {}
     },
     "b9671fffc8054353a76bf8b01fa9bb35": {
      "model_module": "@jupyter-widgets/controls",
      "model_module_version": "1.4.0",
      "model_name": "TextareaModel",
      "state": {
       "description": "Members:",
       "layout": "IPY_MODEL_fa0fb5cdd0fa429f9e6676c664a9f028",
       "style": "IPY_MODEL_30f5d1109c774f359594866ffabb002e",
       "value": "51, 54, 62, 73, 108, 131, 166, 196, 200, 211, 245, 247, 283, 288, 317, 335, 346, 392, 404, 447, 448, 488, 497, 498, 552, 564, 693, 699, 701, 720, 744, 779, 780, 820, 840, 866, 875, 939, 945, 951, 1067, 1095, 1143, 1150, 1164, 1191, 1209, 1212, 1266, 1306, 1308, 1332, 1345, 1405, 1487, 1502, 1522, 1538, 1542, 1552, 1636, 1643, 1653, 1725, 1766, 1806, 1819, 1830, 1856, 1859, 1866, 1868, 1933, 1948, 1953, 2053, 2061, 2096, 2231, 2234, 2242, 2290, 2355, 2381, 2436, 2446, 2465, 2480, 2494, 2578, 2630, 2695, 2703, 2709, 2715, 2814, 2876, 2962, 2971, 2988, 2992, 3051, 3053, 3084, 3104, 3143, 3219, 3220, 3226, 3244, 3258, 3329, 3369, 3498, 3528, 3542, 3548, 3589, 3596, 3602, 3613, 3621, 3625, 3675, 3698, 3808, 3811, 3854, 3905, 3927, 3954, 3961, 3984, 3987, 4018, 4146, 4189, 4190, 4195, 4201, 4259, 4268, 4291, 4334, 4364, 4400, 4446, 4449, 4490, 4571, 4586, 4589, 4630, 4644, 4659, 4703, 4712, 4719, 4724, 4737, 4765, 4840, 4866, 4909, 4911, 4950"
      }
     },
     "bf40907b55a04d91b391e59432cc1ecd": {
      "model_module": "@jupyter-widgets/base",
      "model_module_version": "1.1.0",
      "model_name": "LayoutModel",
      "state": {
       "margin": "10px 10px 10px 10px",
       "width": "200px"
      }
     },
     "c14fc8140d6d4af886745eb02294775f": {
      "model_module": "@jupyter-widgets/base",
      "model_module_version": "1.1.0",
      "model_name": "LayoutModel",
      "state": {}
     },
     "c650da4720394d968dcad4ec04ca3f79": {
      "model_module": "@jupyter-widgets/controls",
      "model_module_version": "1.4.0",
      "model_name": "VBoxModel",
      "state": {
       "children": [
        "IPY_MODEL_7bc77229cba944049e35bf8e3e374aba",
        "IPY_MODEL_7d6520b81454497d84b1b6a41164cc3f",
        "IPY_MODEL_737175081ff54a929f72653cfe5a1205"
       ],
       "layout": "IPY_MODEL_8a9542a28c204190b9e3670bb5d2533f"
      }
     },
     "c977f90d34e14f939d0ea35c062d9d04": {
      "model_module": "@jupyter-widgets/base",
      "model_module_version": "1.1.0",
      "model_name": "LayoutModel",
      "state": {}
     },
     "cb23eb1663464d57ab3bfc3f0061bc43": {
      "model_module": "@jupyter-widgets/controls",
      "model_module_version": "1.4.0",
      "model_name": "DescriptionStyleModel",
      "state": {
       "description_width": ""
      }
     },
     "cb6a6a9c9d1c4a3b8b5714d3131fc59e": {
      "model_module": "@jupyter-widgets/base",
      "model_module_version": "1.1.0",
      "model_name": "LayoutModel",
      "state": {
       "margin": "5px 5px 5px 10px",
       "width": "800px"
      }
     },
     "cd77f78c57ad477db9dedba27a87fab3": {
      "model_module": "plotlywidget",
      "model_module_version": "^0.3.0",
      "model_name": "FigureModel",
      "state": {
       "_data": [
        {
         "hoverinfo": "y+text",
         "marker": {
          "color": [
           "rgb(70, 18, 100)",
           "rgb(68, 51, 125)",
           "rgb(58, 80, 138)",
           "rgb(46, 107, 141)",
           "rgb(36, 131, 141)",
           "rgb(33, 155, 136)",
           "rgb(51, 178, 121)",
           "rgb(94, 199, 96)",
           "rgb(155, 215, 59)",
           "rgb(220, 226, 37)"
          ]
         },
         "text": [
          "14.5%",
          "9.6%",
          "9.0%",
          "12.0%",
          "8.4%",
          "7.2%",
          "7.8%",
          "12.0%",
          "9.0%",
          "10.2%"
         ],
         "type": "bar",
         "uid": "b4088eba-dd30-11e8-bd3f-186590de8425",
         "y": [
          100,
          67,
          63,
          83,
          58,
          50,
          54,
          83,
          63,
          71
         ]
        }
       ],
       "_js2py_pointsCallback": {},
       "_js2py_relayout": {},
       "_js2py_restyle": {},
       "_js2py_update": {},
       "_layout": {
        "bargap": 0.01,
        "font": {
         "size": 12
        },
        "height": 300,
        "hovermode": "x",
        "margin": {
         "b": 60,
         "l": 50,
         "r": 25,
         "t": 100
        },
        "plot_bgcolor": "rgb(240,240,240)",
        "title": "Cluster Member Distribution",
        "width": 400,
        "xaxis": {
         "showgrid": false,
         "showline": true,
         "showticklabels": false,
         "zeroline": false
        },
        "yaxis": {
         "gridcolor": "white",
         "showline": false,
         "tickfont": {
          "size": 10
         }
        }
       },
       "_py2js_addTraces": {},
       "_py2js_animate": {},
       "_py2js_deleteTraces": {},
       "_py2js_moveTraces": {},
       "_py2js_relayout": {},
       "_py2js_removeLayoutProps": {},
       "_py2js_removeTraceProps": {},
       "_py2js_restyle": {},
       "_py2js_update": {},
       "_view_count": 1
      }
     },
     "d9a983676a384d5aa564fec486ea6b19": {
      "model_module": "@jupyter-widgets/controls",
      "model_module_version": "1.4.0",
      "model_name": "VBoxModel",
      "state": {
       "children": [
        "IPY_MODEL_e756dc48d6a940b8a28bc03298aad211",
        "IPY_MODEL_2d88ae2637f949898160df847b58b47d"
       ],
       "layout": "IPY_MODEL_8d0e18bf79434dd4801405ba88e4409e"
      }
     },
     "db39814acd604df983bc447cdce0e85a": {
      "model_module": "@jupyter-widgets/base",
      "model_module_version": "1.1.0",
      "model_name": "LayoutModel",
      "state": {}
     },
     "dcb1f5da63ef49608cafe84104d33bbe": {
      "model_module": "@jupyter-widgets/controls",
      "model_module_version": "1.4.0",
      "model_name": "DescriptionStyleModel",
      "state": {
       "description_width": ""
      }
     },
     "df332b248dac4351b865c8c13a623b03": {
      "model_module": "@jupyter-widgets/base",
      "model_module_version": "1.1.0",
      "model_name": "LayoutModel",
      "state": {}
     },
     "df815c65f6dc4763b7d8eae4cf1994d4": {
      "model_module": "@jupyter-widgets/base",
      "model_module_version": "1.1.0",
      "model_name": "LayoutModel",
      "state": {
       "margin": "5px 5px 5px 10px",
       "width": "800px"
      }
     },
     "e756dc48d6a940b8a28bc03298aad211": {
      "model_module": "plotlywidget",
      "model_module_version": "^0.3.0",
      "model_name": "FigureModel",
      "state": {
       "_data": [
        {
         "hoverinfo": "none",
         "line": {
          "color": "rgb(180,180,180)",
          "width": 1.5
         },
         "mode": "lines",
         "type": "scatter",
         "uid": "b44421fa-dd30-11e8-8ce7-186590de8425",
         "x": [
          -9.339252634160992,
          -8.337820124909976,
          null,
          -8.337820124909976,
          -7.268038420273434,
          null,
          -7.268038420273434,
          -6.456970325718882,
          null,
          -7.268038420273434,
          -7.031983271520786,
          null,
          -6.456970325718882,
          -5.3693468732774665,
          null,
          -7.031983271520786,
          -6.357354314276005,
          null,
          -5.3693468732774665,
          -4.246824153759053,
          null,
          -6.357354314276005,
          -5.3558816383689205,
          null,
          -4.246824153759053,
          -3.325755001841958,
          null,
          -5.3558816383689205,
          -4.224529092041033,
          null,
          -3.417236816544775,
          -3.1216984967831625,
          null,
          -3.1216984967831625,
          -3.064326968201121,
          null,
          -3.325755001841958,
          -2.689775669336661,
          null,
          -4.224529092041033,
          -3.064326968201121,
          null,
          -3.064326968201121,
          -2.2425246783191906,
          null,
          -2.689775669336661,
          -2.2425246783191906,
          null,
          -2.2425246783191906,
          -1.0651139528961002,
          null,
          -1.0651139528961002,
          0.07324423038788268,
          null,
          0.07324423038788268,
          1.2452554383983916,
          null,
          1.2452554383983916,
          1.3326927669889943,
          null,
          1.2452554383983916,
          2.322442774461994,
          null,
          1.2452554383983916,
          1.6849447572320908,
          null,
          1.3326927669889943,
          1.6361200765287227,
          null,
          2.322442774461994,
          3.452933134173992,
          null,
          1.6849447572320908,
          2.413088360555362,
          null,
          3.452933134173992,
          4.525515683973255,
          null,
          2.413088360555362,
          3.42678234581347,
          null,
          4.525515683973255,
          5.291408282883141,
          null,
          3.42678234581347,
          4.565896034095177,
          null,
          4.565896034095177,
          5.519875285817946,
          null,
          5.291408282883141,
          5.519875285817946,
          null,
          5.519875285817946,
          6.548048537549579,
          null,
          6.548048537549579,
          7.521575936559811,
          null,
          7.521575936559811,
          8.476947026761811,
          null
         ],
         "y": [
          -1.865207923569045,
          -1.573583581061791,
          null,
          -1.573583581061791,
          -1.267773160452191,
          null,
          -1.267773160452191,
          -2.137525538252891,
          null,
          -1.267773160452191,
          -0.10856321400668559,
          null,
          -2.137525538252891,
          -2.4946681663193453,
          null,
          -0.10856321400668559,
          0.8081938853412307,
          null,
          -2.4946681663193453,
          -2.286830832416967,
          null,
          0.8081938853412307,
          1.3307138107389387,
          null,
          -2.286830832416967,
          -1.606942581559935,
          null,
          1.3307138107389387,
          1.4268610183235395,
          null,
          3.6997547315999313,
          2.6219723952632017,
          null,
          2.6219723952632017,
          1.4441985945425317,
          null,
          -1.606942581559935,
          -0.6251439151474908,
          null,
          1.4268610183235395,
          1.4441985945425317,
          null,
          1.4441985945425317,
          0.5080561717629507,
          null,
          -0.6251439151474908,
          0.5080561717629507,
          null,
          0.5080561717629507,
          0.5309418593625262,
          null,
          0.5309418593625262,
          0.47303847018742645,
          null,
          0.47303847018742645,
          0.34290764077860936,
          null,
          0.34290764077860936,
          -0.8748812763400545,
          null,
          0.34290764077860936,
          0.028001985434307677,
          null,
          0.34290764077860936,
          1.488399776920762,
          null,
          -0.8748812763400545,
          -1.9904361452542385,
          null,
          0.028001985434307677,
          -0.1404272349072596,
          null,
          1.488399776920762,
          2.4101180767214663,
          null,
          -0.1404272349072596,
          0.2072249287721993,
          null,
          2.4101180767214663,
          2.947750629476079,
          null,
          0.2072249287721993,
          1.044792722208148,
          null,
          2.947750629476079,
          2.892585451008501,
          null,
          2.892585451008501,
          2.1985734619377886,
          null,
          1.044792722208148,
          2.1985734619377886,
          null,
          2.1985734619377886,
          2.5958561626106964,
          null,
          2.5958561626106964,
          2.9653027248949098,
          null,
          2.9653027248949098,
          3.3216667789003735,
          null
         ]
        },
        {
         "hoverinfo": "text",
         "marker": {
          "color": [
           0.481698749388432,
           0.5012187622709727,
           0.5062590295836945,
           0.46461404957047747,
           0.5528334238276227,
           0.47032357291130367,
           0.45972672795428654,
           0.5553575000714429,
           0.49655602762343515,
           0.40561445622457826,
           0.48454715097608897,
           0.5492829335097789,
           0.5085944018071906,
           0.495451749011895,
           0.4964090857387164,
           0.47859824392062883,
           0.47051080977866333,
           0.4828808411785877,
           0.5180497637989137,
           0.49856757983987543,
           0.5282795689572697,
           0.512109564770097,
           0.4869921352691591,
           0.4086208546057037,
           0.5767226172507229,
           0.5975428419017138,
           0.49908394377288157,
           0.5206944614729397,
           0.4984936381215636,
           0.5196050974900862,
           0.5061113140059205,
           0.5221561686854745,
           0.5150733850473799
          ],
          "colorbar": {
           "thickness": 20,
           "tickfont": {
            "size": 10
           },
           "ticklen": 4,
           "x": 1.01
          },
          "colorscale": [
           [
            0,
            "rgb(68, 1, 84)"
           ],
           [
            0.1,
            "rgb(72, 35, 116)"
           ],
           [
            0.2,
            "rgb(64, 67, 135)"
           ],
           [
            0.3,
            "rgb(52, 94, 141)"
           ],
           [
            0.4,
            "rgb(41, 120, 142)"
           ],
           [
            0.5,
            "rgb(32, 144, 140)"
           ],
           [
            0.6,
            "rgb(34, 167, 132)"
           ],
           [
            0.7,
            "rgb(68, 190, 112)"
           ],
           [
            0.8,
            "rgb(121, 209, 81)"
           ],
           [
            0.9,
            "rgb(189, 222, 38)"
           ],
           [
            1,
            "rgb(253, 231, 36)"
           ]
          ],
          "line": {
           "color": "rgb(200,200,200)",
           "width": 1
          },
          "opacity": 1,
          "showscale": true,
          "size": [
           18,
           18,
           18,
           15,
           15,
           15,
           15,
           15,
           15,
           6,
           18,
           12,
           12,
           21,
           12,
           21,
           21,
           21,
           21,
           18,
           12,
           15,
           15,
           12,
           15,
           15,
           15,
           15,
           15,
           18,
           18,
           18,
           12
          ]
         },
         "mode": "markers",
         "text": [
          "cube0_cluster0",
          "cube1_cluster0",
          "cube2_cluster0",
          "cube3_cluster0",
          "cube3_cluster1",
          "cube4_cluster0",
          "cube4_cluster1",
          "cube5_cluster0",
          "cube5_cluster1",
          "cube5_cluster2",
          "cube6_cluster0",
          "cube6_cluster1",
          "cube6_cluster2",
          "cube7_cluster0",
          "cube7_cluster1",
          "cube8_cluster0",
          "cube9_cluster0",
          "cube10_cluster0",
          "cube11_cluster0",
          "cube12_cluster0",
          "cube12_cluster1",
          "cube12_cluster2",
          "cube13_cluster0",
          "cube13_cluster1",
          "cube13_cluster2",
          "cube14_cluster0",
          "cube14_cluster1",
          "cube15_cluster0",
          "cube15_cluster1",
          "cube16_cluster0",
          "cube17_cluster0",
          "cube18_cluster0",
          "cube19_cluster0"
         ],
         "type": "scatter",
         "uid": "b444239e-dd30-11e8-a807-186590de8425",
         "x": [
          -9.339252634160992,
          -8.337820124909976,
          -7.268038420273434,
          -6.456970325718882,
          -7.031983271520786,
          -5.3693468732774665,
          -6.357354314276005,
          -4.246824153759053,
          -5.3558816383689205,
          -3.417236816544775,
          -3.1216984967831625,
          -3.325755001841958,
          -4.224529092041033,
          -3.064326968201121,
          -2.689775669336661,
          -2.2425246783191906,
          -1.0651139528961002,
          0.07324423038788268,
          1.2452554383983916,
          1.3326927669889943,
          2.322442774461994,
          1.6849447572320908,
          3.452933134173992,
          1.6361200765287227,
          2.413088360555362,
          4.525515683973255,
          3.42678234581347,
          4.565896034095177,
          5.291408282883141,
          5.519875285817946,
          6.548048537549579,
          7.521575936559811,
          8.476947026761811
         ],
         "y": [
          -1.865207923569045,
          -1.573583581061791,
          -1.267773160452191,
          -2.137525538252891,
          -0.10856321400668559,
          -2.4946681663193453,
          0.8081938853412307,
          -2.286830832416967,
          1.3307138107389387,
          3.6997547315999313,
          2.6219723952632017,
          -1.606942581559935,
          1.4268610183235395,
          1.4441985945425317,
          -0.6251439151474908,
          0.5080561717629507,
          0.5309418593625262,
          0.47303847018742645,
          0.34290764077860936,
          -0.8748812763400545,
          0.028001985434307677,
          1.488399776920762,
          -0.1404272349072596,
          -1.9904361452542385,
          2.4101180767214663,
          0.2072249287721993,
          2.947750629476079,
          2.892585451008501,
          1.044792722208148,
          2.1985734619377886,
          2.5958561626106964,
          2.9653027248949098,
          3.3216667789003735
         ]
        }
       ],
       "_js2py_pointsCallback": {},
       "_js2py_relayout": {},
       "_js2py_restyle": {},
       "_js2py_update": {},
       "_layout": {
        "annotations": [
         {
          "align": "left",
          "font": {
           "size": 12
          },
          "showarrow": false,
          "text": "<b>N_cubes:</b> 20 <b>Perc_overlap:</b> 0.1<br><b>Nodes:</b> 33 <b>Edges:</b> 34 <b>Total samples:</b> 5501 <b>Unique_samples:</b> 5000",
          "x": 0,
          "xanchor": "left",
          "xref": "paper",
          "y": -0.01,
          "yanchor": "top",
          "yref": "paper"
         }
        ],
        "autosize": false,
        "font": {
         "size": 12
        },
        "height": 500,
        "hovermode": "closest",
        "margin": {
         "b": 35,
         "l": 10,
         "r": 60,
         "t": 100
        },
        "plot_bgcolor": "rgba(240, 240, 240, 0.95)",
        "showlegend": false,
        "title": "Dashboard plot",
        "width": 600,
        "xaxis": {
         "visible": false
        },
        "yaxis": {
         "visible": false
        }
       },
       "_py2js_addTraces": {},
       "_py2js_animate": {},
       "_py2js_deleteTraces": {},
       "_py2js_moveTraces": {},
       "_py2js_relayout": {},
       "_py2js_removeLayoutProps": {},
       "_py2js_removeTraceProps": {},
       "_py2js_restyle": {},
       "_py2js_update": {},
       "_view_count": 1
      }
     },
     "e7b7c8e403084aedb727f49619b647c2": {
      "model_module": "@jupyter-widgets/base",
      "model_module_version": "1.1.0",
      "model_name": "LayoutModel",
      "state": {}
     },
     "e8383fecebee4e6891e68d2d57a7c4ab": {
      "model_module": "plotlywidget",
      "model_module_version": "^0.3.0",
      "model_name": "FigureModel",
      "state": {
       "_data": [
        {
         "hoverinfo": "y+text",
         "marker": {
          "color": [
           "rgb(251, 219, 159)",
           "rgb(247, 184, 128)",
           "rgb(241, 149, 103)",
           "rgb(232, 114, 87)",
           "rgb(216, 81, 84)",
           "rgb(192, 56, 90)",
           "rgb(162, 38, 96)",
           "rgb(130, 28, 97)",
           "rgb(96, 22, 88)",
           "rgb(63, 18, 71)"
          ]
         },
         "text": [
          "0.0%",
          "0.0%",
          "0.0%",
          "0.0%",
          "51.5%",
          "48.5%",
          "0.0%",
          "0.0%",
          "0.0%",
          "0.0%"
         ],
         "type": "bar",
         "uid": "b541294c-dd30-11e8-9209-186590de8425",
         "y": [
          0,
          0,
          0,
          0,
          100,
          94,
          0,
          0,
          0,
          0
         ]
        }
       ],
       "_js2py_layoutDelta": {},
       "_js2py_pointsCallback": {},
       "_js2py_relayout": {},
       "_js2py_restyle": {},
       "_js2py_traceDeltas": {},
       "_js2py_update": {},
       "_layout": {
        "bargap": 0.01,
        "font": {
         "size": 12
        },
        "height": 300,
        "hovermode": "x",
        "margin": {
         "b": 60,
         "l": 25,
         "r": 25,
         "t": 60
        },
        "plot_bgcolor": "rgb(240,240,240)",
        "title": "Graph Node Distribution",
        "width": 400,
        "xaxis": {
         "showgrid": false,
         "showline": true,
         "showticklabels": false,
         "zeroline": false
        },
        "yaxis": {
         "gridcolor": "white",
         "showline": false,
         "tickfont": {
          "size": 10
         }
        }
       },
       "_py2js_addTraces": {},
       "_py2js_animate": {},
       "_py2js_deleteTraces": {},
       "_py2js_moveTraces": {},
       "_py2js_relayout": {},
       "_py2js_removeLayoutProps": {},
       "_py2js_removeTraceProps": {},
       "_py2js_restyle": {},
       "_py2js_update": {},
       "_view_count": 0
      }
     },
     "e99cc1fee1d047ffa5c280c66ff24e7b": {
      "model_module": "@jupyter-widgets/base",
      "model_module_version": "1.1.0",
      "model_name": "LayoutModel",
      "state": {}
     },
     "ee0025dcf58045fc934256a713d05eb3": {
      "model_module": "@jupyter-widgets/controls",
      "model_module_version": "1.4.0",
      "model_name": "TextModel",
      "state": {
       "description": "Cluster size:",
       "layout": "IPY_MODEL_a60696c3461845cf95e55d02d7372d89",
       "style": "IPY_MODEL_578f70d9a2f247348b6ad33658b4556f",
       "value": "166"
      }
     },
     "f0ca9830ba3944f89de369441cbea090": {
      "model_module": "@jupyter-widgets/controls",
      "model_module_version": "1.4.0",
      "model_name": "TextareaModel",
      "state": {
       "description": "Members:",
       "layout": "IPY_MODEL_df815c65f6dc4763b7d8eae4cf1994d4",
       "style": "IPY_MODEL_dcb1f5da63ef49608cafe84104d33bbe",
       "value": "51, 54, 62, 73, 108, 131, 166, 196, 200, 211, 245, 247, 283, 288, 317, 335, 346, 392, 404, 447, 448, 488, 497, 498, 552, 564, 693, 699, 701, 720, 744, 779, 780, 820, 840, 866, 875, 939, 945, 951, 1067, 1095, 1143, 1150, 1164, 1191, 1209, 1212, 1266, 1306, 1308, 1332, 1345, 1405, 1487, 1502, 1522, 1538, 1542, 1552, 1636, 1643, 1653, 1725, 1766, 1806, 1819, 1830, 1856, 1859, 1866, 1868, 1933, 1948, 1953, 2053, 2061, 2096, 2231, 2234, 2242, 2290, 2355, 2381, 2436, 2446, 2465, 2480, 2494, 2578, 2630, 2695, 2703, 2709, 2715, 2814, 2876, 2962, 2971, 2988, 2992, 3051, 3053, 3084, 3104, 3143, 3219, 3220, 3226, 3244, 3258, 3329, 3369, 3498, 3528, 3542, 3548, 3589, 3596, 3602, 3613, 3621, 3625, 3675, 3698, 3808, 3811, 3854, 3905, 3927, 3954, 3961, 3984, 3987, 4018, 4146, 4189, 4190, 4195, 4201, 4259, 4268, 4291, 4334, 4364, 4400, 4446, 4449, 4490, 4571, 4586, 4589, 4630, 4644, 4659, 4703, 4712, 4719, 4724, 4737, 4765, 4840, 4866, 4909, 4911, 4950"
      }
     },
     "f8752b7d84bf4f2e97c26ed4c563cb22": {
      "model_module": "plotlywidget",
      "model_module_version": "^0.3.0",
      "model_name": "FigureModel",
      "state": {
       "_data": [
        {
         "hoverinfo": "y+text",
         "marker": {
          "color": [
           "rgb(251, 219, 159)",
           "rgb(247, 184, 128)",
           "rgb(241, 149, 103)",
           "rgb(232, 114, 87)",
           "rgb(216, 81, 84)",
           "rgb(192, 56, 90)",
           "rgb(162, 38, 96)",
           "rgb(130, 28, 97)",
           "rgb(96, 22, 88)",
           "rgb(63, 18, 71)"
          ]
         },
         "text": [
          "14.5%",
          "9.6%",
          "9.0%",
          "12.0%",
          "8.4%",
          "7.2%",
          "7.8%",
          "12.0%",
          "9.0%",
          "10.2%"
         ],
         "type": "bar",
         "uid": "b54a9fae-dd30-11e8-b5e3-186590de8425",
         "y": [
          100,
          67,
          63,
          83,
          58,
          50,
          54,
          83,
          63,
          71
         ]
        }
       ],
       "_js2py_pointsCallback": {},
       "_js2py_relayout": {},
       "_js2py_restyle": {},
       "_js2py_update": {},
       "_layout": {
        "bargap": 0.01,
        "font": {
         "size": 12
        },
        "height": 300,
        "hovermode": "x",
        "margin": {
         "b": 60,
         "l": 50,
         "r": 25,
         "t": 100
        },
        "plot_bgcolor": "rgb(240,240,240)",
        "title": "Cluster Member Distribution",
        "width": 400,
        "xaxis": {
         "showgrid": false,
         "showline": true,
         "showticklabels": false,
         "zeroline": false
        },
        "yaxis": {
         "gridcolor": "white",
         "showline": false,
         "tickfont": {
          "size": 10
         }
        }
       },
       "_py2js_addTraces": {},
       "_py2js_animate": {},
       "_py2js_deleteTraces": {},
       "_py2js_moveTraces": {},
       "_py2js_relayout": {},
       "_py2js_removeLayoutProps": {},
       "_py2js_removeTraceProps": {},
       "_py2js_restyle": {},
       "_py2js_update": {},
       "_view_count": 1
      }
     },
     "f9c0b6b30d924e928630589162077943": {
      "model_module": "plotlywidget",
      "model_module_version": "^0.3.0",
      "model_name": "FigureModel",
      "state": {
       "_data": [
        {
         "hoverinfo": "none",
         "line": {
          "color": "rgb(180,180,180)",
          "width": 1.5
         },
         "mode": "lines",
         "type": "scatter",
         "uid": "b80ada38-dd30-11e8-8fcc-186590de8425",
         "x": [
          23.930861595356227,
          18.432017334890755,
          null,
          18.432017334890755,
          12.282689013874476,
          null,
          12.282689013874476,
          14.088043194530457,
          null,
          12.282689013874476,
          5.588734502475777,
          null,
          14.088043194530457,
          13.342984909242306,
          null,
          5.588734502475777,
          -0.33587462241774046,
          null,
          13.342984909242306,
          9.340575141415814,
          null,
          -0.33587462241774046,
          -4.76027888752357,
          null,
          9.340575141415814,
          4.983616661085187,
          null,
          -4.76027888752357,
          -7.105609877326689,
          null,
          -15.141128999160106,
          -13.359723929628794,
          null,
          -13.359723929628794,
          -7.739632204475672,
          null,
          4.983616661085187,
          0.2674884800866565,
          null,
          -7.105609877326689,
          -7.739632204475672,
          null,
          -7.739632204475672,
          -5.311024848425058,
          null,
          0.2674884800866565,
          -5.311024848425058,
          null,
          -5.311024848425058,
          -3.2139790616612545,
          null,
          -3.2139790616612545,
          3.227536657938963,
          null,
          3.227536657938963,
          11.10378304596572,
          null,
          11.10378304596572,
          7.755722481114856,
          null,
          11.10378304596572,
          18.569705511887147,
          null,
          11.10378304596572,
          14.804231239593127,
          null,
          7.755722481114856,
          2.15424854417647,
          null,
          18.569705511887147,
          25.43531373934827,
          null,
          14.804231239593127,
          18.851211241954612,
          null,
          25.43531373934827,
          30.805451732749358,
          null,
          18.851211241954612,
          23.17904842549141,
          null,
          30.805451732749358,
          34.32583161329542,
          null,
          23.17904842549141,
          28.895891126738903,
          null,
          28.895891126738903,
          34.86228746018213,
          null,
          34.32583161329542,
          34.86228746018213,
          null,
          34.86228746018213,
          35.942791710378025,
          null,
          35.942791710378025,
          34.01075157528215,
          null,
          34.01075157528215,
          31.301156586261627,
          null
         ],
         "y": [
          25.76640841845733,
          27.101359456795223,
          null,
          27.101359456795223,
          25.369710086783495,
          null,
          25.369710086783495,
          19.328095299220575,
          null,
          25.369710086783495,
          26.098230878092696,
          null,
          19.328095299220575,
          13.351588698557904,
          null,
          26.098230878092696,
          23.78262841750652,
          null,
          13.351588698557904,
          8.621444860043441,
          null,
          23.78262841750652,
          19.329973405041986,
          null,
          8.621444860043441,
          3.9821606029411356,
          null,
          19.329973405041986,
          13.204935033444526,
          null,
          -0.16316056578887717,
          5.022633137626402,
          null,
          5.022633137626402,
          5.709153852260998,
          null,
          3.9821606029411356,
          0.011638637327743605,
          null,
          13.204935033444526,
          5.709153852260998,
          null,
          5.709153852260998,
          -2.2771041868022013,
          null,
          0.011638637327743605,
          -2.2771041868022013,
          null,
          -2.2771041868022013,
          -9.496106778432432,
          null,
          -9.496106778432432,
          -12.923618236630722,
          null,
          -12.923618236630722,
          -15.596119306734249,
          null,
          -15.596119306734249,
          -20.91654783380471,
          null,
          -15.596119306734249,
          -18.141890898169613,
          null,
          -15.596119306734249,
          -9.828032013535625,
          null,
          -20.91654783380471,
          -21.961022690998746,
          null,
          -18.141890898169613,
          -16.66416794763934,
          null,
          -9.828032013535625,
          -4.538894626738173,
          null,
          -16.66416794763934,
          -12.336545112257381,
          null,
          -4.538894626738173,
          0.20886772595904338,
          null,
          -12.336545112257381,
          -6.331820256076078,
          null,
          0.20886772595904338,
          2.186155188821244,
          null,
          2.186155188821244,
          0.8268646323297717,
          null,
          -6.331820256076078,
          0.8268646323297717,
          null,
          0.8268646323297717,
          7.543941130319897,
          null,
          7.543941130319897,
          13.392799316522366,
          null,
          13.392799316522366,
          18.102501657989258,
          null
         ]
        },
        {
         "hoverinfo": "text",
         "marker": {
          "color": [
           0.481698749388432,
           0.5012187622709727,
           0.5062590295836945,
           0.46461404957047747,
           0.5528334238276227,
           0.47032357291130367,
           0.45972672795428654,
           0.5553575000714429,
           0.49655602762343515,
           0.40561445622457826,
           0.48454715097608897,
           0.5492829335097789,
           0.5085944018071906,
           0.495451749011895,
           0.4964090857387164,
           0.47859824392062883,
           0.47051080977866333,
           0.4828808411785877,
           0.5180497637989137,
           0.49856757983987543,
           0.5282795689572697,
           0.512109564770097,
           0.4869921352691591,
           0.4086208546057037,
           0.5767226172507229,
           0.5975428419017138,
           0.49908394377288157,
           0.5206944614729397,
           0.4984936381215636,
           0.5196050974900862,
           0.5061113140059205,
           0.5221561686854745,
           0.5150733850473799
          ],
          "colorbar": {
           "thickness": 20,
           "tickfont": {
            "size": 10
           },
           "ticklen": 4,
           "x": 1.01
          },
          "colorscale": [
           [
            0,
            "rgb(68, 1, 84)"
           ],
           [
            0.1,
            "rgb(72, 35, 116)"
           ],
           [
            0.2,
            "rgb(64, 67, 135)"
           ],
           [
            0.3,
            "rgb(52, 94, 141)"
           ],
           [
            0.4,
            "rgb(41, 120, 142)"
           ],
           [
            0.5,
            "rgb(32, 144, 140)"
           ],
           [
            0.6,
            "rgb(34, 167, 132)"
           ],
           [
            0.7,
            "rgb(68, 190, 112)"
           ],
           [
            0.8,
            "rgb(121, 209, 81)"
           ],
           [
            0.9,
            "rgb(189, 222, 38)"
           ],
           [
            1,
            "rgb(253, 231, 36)"
           ]
          ],
          "line": {
           "color": "rgb(200,200,200)",
           "width": 1
          },
          "opacity": 1,
          "showscale": true,
          "size": [
           18,
           18,
           18,
           15,
           15,
           15,
           15,
           15,
           15,
           6,
           18,
           12,
           12,
           21,
           12,
           21,
           21,
           21,
           21,
           18,
           12,
           15,
           15,
           12,
           15,
           15,
           15,
           15,
           15,
           18,
           18,
           18,
           12
          ]
         },
         "mode": "markers",
         "text": [
          "cube0_cluster0",
          "cube1_cluster0",
          "cube2_cluster0",
          "cube3_cluster0",
          "cube3_cluster1",
          "cube4_cluster0",
          "cube4_cluster1",
          "cube5_cluster0",
          "cube5_cluster1",
          "cube5_cluster2",
          "cube6_cluster0",
          "cube6_cluster1",
          "cube6_cluster2",
          "cube7_cluster0",
          "cube7_cluster1",
          "cube8_cluster0",
          "cube9_cluster0",
          "cube10_cluster0",
          "cube11_cluster0",
          "cube12_cluster0",
          "cube12_cluster1",
          "cube12_cluster2",
          "cube13_cluster0",
          "cube13_cluster1",
          "cube13_cluster2",
          "cube14_cluster0",
          "cube14_cluster1",
          "cube15_cluster0",
          "cube15_cluster1",
          "cube16_cluster0",
          "cube17_cluster0",
          "cube18_cluster0",
          "cube19_cluster0"
         ],
         "type": "scatter",
         "uid": "b80adb98-dd30-11e8-bad4-186590de8425",
         "x": [
          23.930861595356227,
          18.432017334890755,
          12.282689013874476,
          14.088043194530457,
          5.588734502475777,
          13.342984909242306,
          -0.33587462241774046,
          9.340575141415814,
          -4.76027888752357,
          -15.141128999160106,
          -13.359723929628794,
          4.983616661085187,
          -7.105609877326689,
          -7.739632204475672,
          0.2674884800866565,
          -5.311024848425058,
          -3.2139790616612545,
          3.227536657938963,
          11.10378304596572,
          7.755722481114856,
          18.569705511887147,
          14.804231239593127,
          25.43531373934827,
          2.15424854417647,
          18.851211241954612,
          30.805451732749358,
          23.17904842549141,
          28.895891126738903,
          34.32583161329542,
          34.86228746018213,
          35.942791710378025,
          34.01075157528215,
          31.301156586261627
         ],
         "y": [
          25.76640841845733,
          27.101359456795223,
          25.369710086783495,
          19.328095299220575,
          26.098230878092696,
          13.351588698557904,
          23.78262841750652,
          8.621444860043441,
          19.329973405041986,
          -0.16316056578887717,
          5.022633137626402,
          3.9821606029411356,
          13.204935033444526,
          5.709153852260998,
          0.011638637327743605,
          -2.2771041868022013,
          -9.496106778432432,
          -12.923618236630722,
          -15.596119306734249,
          -20.91654783380471,
          -18.141890898169613,
          -9.828032013535625,
          -16.66416794763934,
          -21.961022690998746,
          -4.538894626738173,
          -12.336545112257381,
          0.20886772595904338,
          2.186155188821244,
          -6.331820256076078,
          0.8268646323297717,
          7.543941130319897,
          13.392799316522366,
          18.102501657989258
         ]
        }
       ],
       "_js2py_pointsCallback": {},
       "_js2py_relayout": {},
       "_js2py_restyle": {},
       "_js2py_update": {},
       "_layout": {
        "annotations": [
         {
          "align": "left",
          "font": {
           "size": 12
          },
          "showarrow": false,
          "text": "<b>N_cubes:</b> 20 <b>Perc_overlap:</b> 0.1<br><b>Nodes:</b> 33 <b>Edges:</b> 34 <b>Total samples:</b> 5501 <b>Unique_samples:</b> 5000",
          "x": 0,
          "xanchor": "left",
          "xref": "paper",
          "y": -0.01,
          "yanchor": "top",
          "yref": "paper"
         }
        ],
        "autosize": false,
        "font": {
         "size": 12
        },
        "height": 500,
        "hovermode": "closest",
        "margin": {
         "b": 35,
         "l": 10,
         "r": 60,
         "t": 100
        },
        "plot_bgcolor": "rgba(240, 240, 240, 0.95)",
        "showlegend": false,
        "title": "Kepler-Mapper graph for circles dataset with<br> Fruchtenberg-Reingold layout",
        "width": 600,
        "xaxis": {
         "visible": false
        },
        "yaxis": {
         "visible": false
        }
       },
       "_py2js_addTraces": {},
       "_py2js_animate": {},
       "_py2js_deleteTraces": {},
       "_py2js_moveTraces": {},
       "_py2js_relayout": {},
       "_py2js_removeLayoutProps": {},
       "_py2js_removeTraceProps": {},
       "_py2js_restyle": {},
       "_py2js_update": {},
       "_view_count": 1
      }
     },
     "fa0fb5cdd0fa429f9e6676c664a9f028": {
      "model_module": "@jupyter-widgets/base",
      "model_module_version": "1.1.0",
      "model_name": "LayoutModel",
      "state": {
       "margin": "5px 5px 5px 10px",
       "width": "800px"
      }
     },
     "ff3915a50a6f492e9bd5de3737f262b1": {
      "model_module": "@jupyter-widgets/base",
      "model_module_version": "1.1.0",
      "model_name": "LayoutModel",
      "state": {}
     }
    },
    "version_major": 2,
    "version_minor": 0
   }
  }
 },
 "nbformat": 4,
 "nbformat_minor": 2
}
